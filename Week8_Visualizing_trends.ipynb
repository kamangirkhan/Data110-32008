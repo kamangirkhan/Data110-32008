{
  "nbformat": 4,
  "nbformat_minor": 0,
  "metadata": {
    "colab": {
      "private_outputs": true,
      "provenance": [],
      "authorship_tag": "ABX9TyNViMzdOzESXM8QUiJlaCpO",
      "include_colab_link": true
    },
    "kernelspec": {
      "name": "python3",
      "display_name": "Python 3"
    },
    "language_info": {
      "name": "python"
    }
  },
  "cells": [
    {
      "cell_type": "markdown",
      "metadata": {
        "id": "view-in-github",
        "colab_type": "text"
      },
      "source": [
        "<a href=\"https://colab.research.google.com/github/Reben80/Data110-32008--Sp25/blob/main/Week8_Visualizing_trends.ipynb\" target=\"_parent\"><img src=\"https://colab.research.google.com/assets/colab-badge.svg\" alt=\"Open In Colab\"/></a>"
      ]
    },
    {
      "cell_type": "code",
      "execution_count": null,
      "metadata": {
        "id": "yIbnoYGqTnD1"
      },
      "outputs": [],
      "source": [
        "import pandas as pd\n",
        "import matplotlib.pyplot as plt\n",
        "import numpy as np\n",
        "from sklearn.linear_model import LinearRegression\n",
        "from sklearn.metrics import r2_score\n",
        "import seaborn as sns"
      ]
    },
    {
      "cell_type": "code",
      "source": [
        "\n",
        "# Load the dataset\n",
        "df = pd.read_csv(\"/content/blue_jays.csv\")  # Make sure the CSV file is in the same folder or provide the full path\n",
        "\n",
        "\n"
      ],
      "metadata": {
        "id": "HNbAP0DPU6ut"
      },
      "execution_count": null,
      "outputs": []
    },
    {
      "cell_type": "code",
      "source": [
        "# Scatter plot: Body Mass vs Head Length\n",
        "plt.figure(figsize=(8, 6))\n",
        "plt.scatter(df['head_length_mm'], df['body_mass_g'], color='blue', alpha=0.7)\n",
        "\n",
        "# Adding titles and labels\n",
        "plt.title(\"Scatter Plot of Body Mass vs Head Length\", fontsize=14)\n",
        "plt.xlabel(\"Head Length (mm)\", fontsize=12)\n",
        "plt.ylabel(\"Body Mass (g)\", fontsize=12)\n",
        "\n",
        "# Optional: add a grid\n",
        "plt.grid(True)\n",
        "\n",
        "# Show plot\n",
        "plt.tight_layout()\n",
        "plt.show()"
      ],
      "metadata": {
        "id": "dsilu80TVApt"
      },
      "execution_count": null,
      "outputs": []
    },
    {
      "cell_type": "code",
      "source": [
        "\n",
        "# Define X and y\n",
        "X = df[['head_length_mm']]  # Predictor\n",
        "y = df['body_mass_g']       # Response\n",
        "\n",
        "# Fit the linear regression model\n",
        "model = LinearRegression()\n",
        "model.fit(X, y)\n",
        "\n",
        "# Predict values for the regression line\n",
        "y_pred = model.predict(X)\n",
        "\n",
        "# Calculate regression line parameters\n",
        "slope = model.coef_[0]\n",
        "intercept = model.intercept_\n",
        "r2 = r2_score(y, y_pred)\n",
        "\n",
        "# Plotting\n",
        "plt.figure(figsize=(8, 6))\n",
        "plt.scatter(X, y, color='blue', alpha=0.7, label=\"Data\")\n",
        "plt.plot(X, y_pred, color='red', label=\"Regression Line\")\n",
        "\n",
        "# Add labels and title\n",
        "plt.title(\"Body Mass vs Head Length with Regression Line\", fontsize=14)\n",
        "plt.xlabel(\"Head Length (mm)\", fontsize=12)\n",
        "plt.ylabel(\"Body Mass (g)\", fontsize=12)\n",
        "plt.grid(True)\n",
        "plt.legend()\n",
        "\n",
        "\n",
        "plt.show()\n"
      ],
      "metadata": {
        "id": "TgbiuIdcVC7_"
      },
      "execution_count": null,
      "outputs": []
    },
    {
      "cell_type": "code",
      "source": [
        "# Scatter plot: Body Mass vs Head Length (colored by sex)\n",
        "plt.figure(figsize=(8, 6))\n",
        "\n",
        "# Male in blue, Female in orange\n",
        "plt.scatter(df[df['sex'] == 'M']['head_length_mm'],\n",
        "            df[df['sex'] == 'M']['body_mass_g'],\n",
        "            color='blue', alpha=0.7, label='Male')\n",
        "plt.scatter(df[df['sex'] == 'F']['head_length_mm'],\n",
        "            df[df['sex'] == 'F']['body_mass_g'],\n",
        "            color='orange', alpha=0.7, label='Female')\n",
        "\n",
        "# Adding titles and labels\n",
        "plt.title(\"Scatter Plot of Body Mass vs Head Length\", fontsize=14)\n",
        "plt.xlabel(\"Head Length (mm)\", fontsize=12)\n",
        "plt.ylabel(\"Body Mass (g)\", fontsize=12)\n",
        "plt.grid(True)\n",
        "plt.legend()\n",
        "\n",
        "# Show plot\n",
        "plt.tight_layout()\n",
        "plt.show()"
      ],
      "metadata": {
        "id": "OV-jMTZFWmBY"
      },
      "execution_count": null,
      "outputs": []
    },
    {
      "cell_type": "code",
      "source": [
        "# Filter for males only\n",
        "male_df = df[df['sex'] == 'M']\n",
        "x = male_df['head_length_mm'].values\n",
        "y = male_df['body_mass_g'].values\n",
        "\n",
        "# Linear regression using numpy\n",
        "slope, intercept = np.polyfit(x, y, 1)\n",
        "y_pred = slope * x + intercept\n",
        "\n",
        "# R² calculation\n",
        "ss_res = np.sum((y - y_pred) ** 2)\n",
        "ss_tot = np.sum((y - np.mean(y)) ** 2)\n",
        "r2 = 1 - (ss_res / ss_tot)\n",
        "\n",
        "# Plot\n",
        "plt.figure(figsize=(8, 6))\n",
        "plt.scatter(x, y, color='blue', alpha=0.7, label='Male Data')\n",
        "plt.plot(x, y_pred, color='black', label='Regression Line')\n",
        "\n",
        "plt.title(\"Male Blue Jays: Body Mass vs Head Length\", fontsize=14)\n",
        "plt.xlabel(\"Head Length (mm)\", fontsize=12)\n",
        "plt.ylabel(\"Body Mass (g)\", fontsize=12)\n",
        "plt.grid(True)\n",
        "plt.legend()\n",
        "\n",
        "# Equation on plot\n",
        "eq = f\"y = {slope:.2f}x + {intercept:.2f}  |  $R^2$ = {r2:.3f}\"\n",
        "plt.text(min(x), max(y), eq, fontsize=12, verticalalignment='top')\n",
        "\n",
        "plt.tight_layout()\n",
        "plt.show()"
      ],
      "metadata": {
        "id": "cPpCOiM3W0zw"
      },
      "execution_count": null,
      "outputs": []
    },
    {
      "cell_type": "code",
      "source": [
        "# Filter for females only\n",
        "female_df = df[df['sex'] == 'F']\n",
        "x = female_df['head_length_mm'].values\n",
        "y = female_df['body_mass_g'].values\n",
        "\n",
        "# Linear regression using numpy\n",
        "slope, intercept = np.polyfit(x, y, 1)\n",
        "y_pred = slope * x + intercept\n",
        "\n",
        "# R² calculation\n",
        "ss_res = np.sum((y - y_pred) ** 2)\n",
        "ss_tot = np.sum((y - np.mean(y)) ** 2)\n",
        "r2 = 1 - (ss_res / ss_tot)\n",
        "\n",
        "# Plot\n",
        "plt.figure(figsize=(8, 6))\n",
        "plt.scatter(x, y, color='orange', alpha=0.7, label='Female Data')\n",
        "plt.plot(x, y_pred, color='black', label='Regression Line')\n",
        "\n",
        "plt.title(\"Female Blue Jays: Body Mass vs Head Length\", fontsize=14)\n",
        "plt.xlabel(\"Head Length (mm)\", fontsize=12)\n",
        "plt.ylabel(\"Body Mass (g)\", fontsize=12)\n",
        "plt.grid(True)\n",
        "plt.legend()\n",
        "\n",
        "# Equation on plot\n",
        "eq = f\"y = {slope:.2f}x + {intercept:.2f}  |  $R^2$ = {r2:.3f}\"\n",
        "plt.text(min(x), max(y), eq, fontsize=12, verticalalignment='top')\n",
        "\n",
        "plt.tight_layout()\n",
        "plt.show()"
      ],
      "metadata": {
        "id": "dU4CmmtlW_ER"
      },
      "execution_count": null,
      "outputs": []
    },
    {
      "cell_type": "code",
      "source": [
        "\n",
        "# Split by sex\n",
        "male_df = df[df['sex'] == 'M']\n",
        "female_df = df[df['sex'] == 'F']\n",
        "\n",
        "# Male data\n",
        "x_m = male_df['head_length_mm'].values\n",
        "y_m = male_df['body_mass_g'].values\n",
        "slope_m, intercept_m = np.polyfit(x_m, y_m, 1)\n",
        "y_pred_m = slope_m * x_m + intercept_m\n",
        "r2_m = 1 - (np.sum((y_m - y_pred_m)**2) / np.sum((y_m - np.mean(y_m))**2))\n",
        "\n",
        "# Female data\n",
        "x_f = female_df['head_length_mm'].values\n",
        "y_f = female_df['body_mass_g'].values\n",
        "slope_f, intercept_f = np.polyfit(x_f, y_f, 1)\n",
        "y_pred_f = slope_f * x_f + intercept_f\n",
        "r2_f = 1 - (np.sum((y_f - y_pred_f)**2) / np.sum((y_f - np.mean(y_f))**2))\n",
        "\n",
        "# Plot both\n",
        "plt.figure(figsize=(8, 6))\n",
        "plt.scatter(x_m, y_m, color='blue', alpha=0.7, label='Male')\n",
        "plt.scatter(x_f, y_f, color='orange', alpha=0.7, label='Female')\n",
        "\n",
        "plt.plot(x_m, y_pred_m, color='blue', linestyle='--', label=f\"Male Fit: y = {slope_m:.2f}x + {intercept_m:.2f} (R² = {r2_m:.3f})\")\n",
        "plt.plot(x_f, y_pred_f, color='orange', linestyle='--', label=f\"Female Fit: y = {slope_f:.2f}x + {intercept_f:.2f} (R² = {r2_f:.3f})\")\n",
        "\n",
        "# Labels\n",
        "plt.title(\"Body Mass vs Head Length (Male & Female)\", fontsize=14)\n",
        "plt.xlabel(\"Head Length (mm)\", fontsize=12)\n",
        "plt.ylabel(\"Body Mass (g)\", fontsize=12)\n",
        "plt.grid(True)\n",
        "plt.legend()\n",
        "plt.tight_layout()\n",
        "plt.show()\n"
      ],
      "metadata": {
        "id": "cH8Bi1OsXOJf"
      },
      "execution_count": null,
      "outputs": []
    },
    {
      "cell_type": "code",
      "source": [
        "\n",
        "# Create the plot\n",
        "plt.figure(figsize=(8, 6))\n",
        "sns.regplot(data=df, x='body_mass_g', y='head_length_mm', scatter_kws={'alpha':0.6})\n",
        "\n",
        "# Set font size and labels\n",
        "plt.title(\"Head Length vs Body Mass\", fontsize=14)\n",
        "plt.xlabel(\"Body Mass (g)\", fontsize=12)\n",
        "plt.ylabel(\"Head Length (mm)\", fontsize=12)\n",
        "\n",
        "plt.tight_layout()\n",
        "plt.show()\n"
      ],
      "metadata": {
        "id": "ntHOEiu6XqJF"
      },
      "execution_count": null,
      "outputs": []
    },
    {
      "cell_type": "markdown",
      "source": [
        "Example: Fuel-tank capacity versus price in cars"
      ],
      "metadata": {
        "id": "JkhTwXDIYZiu"
      }
    },
    {
      "cell_type": "code",
      "source": [
        "\n",
        "# Load the dataset\n",
        "df = pd.read_csv(\"/content/cars93.csv\")  # use the exact filename if running locally\n",
        "\n",
        "# Plot using seaborn\n",
        "plt.figure(figsize=(8, 6))\n",
        "sns.set_theme(style=\"whitegrid\")  # clean theme like theme_bw()\n",
        "\n",
        "sns.regplot(\n",
        "    data=df,\n",
        "    x=\"Price\",\n",
        "    y=\"Fuel.tank.capacity\",\n",
        "    scatter_kws={\"alpha\": 0.6},\n",
        "    line_kws={\"color\": \"red\"},\n",
        "    ci=95  # default 95% confidence interval\n",
        ")\n",
        "\n",
        "# Titles and labels\n",
        "plt.title(\"Fuel Tank Capacity vs Price\", fontsize=14)\n",
        "plt.xlabel(\"Price (in thousands)\", fontsize=12)\n",
        "plt.ylabel(\"Fuel Tank Capacity (gallons)\", fontsize=12)\n",
        "\n",
        "plt.tight_layout()\n",
        "plt.show()\n"
      ],
      "metadata": {
        "id": "-QUNJnZZYbLw"
      },
      "execution_count": null,
      "outputs": []
    },
    {
      "cell_type": "code",
      "source": [
        "sns.regplot(\n",
        "    data=df,\n",
        "    x=\"Price\",\n",
        "    y=\"Fuel.tank.capacity\",\n",
        "    lowess=True,           # <-- LOESS smoothing\n",
        "    ci=None,               # <-- no confidence interval (se = FALSE)\n",
        "    scatter_kws={\"alpha\": 0.6},\n",
        "    line_kws={\"color\": \"red\"}\n",
        ")\n",
        "\n",
        "# Labels and title\n",
        "plt.title(\"Fuel Tank Capacity vs Price (LOESS)\", fontsize=14)\n",
        "plt.xlabel(\"Price\", fontsize=12)\n",
        "plt.ylabel(\"Fuel Tank Capacity\", fontsize=12)\n",
        "\n",
        "plt.tight_layout()\n",
        "plt.show()"
      ],
      "metadata": {
        "id": "SPwpYj_0aM3c"
      },
      "execution_count": null,
      "outputs": []
    },
    {
      "cell_type": "markdown",
      "source": [
        "Seaborn uses ```lowess=True``` under the hood (via statsmodels.nonparametric.lowess), but it doesn't expose the span (called frac) directly in regplot."
      ],
      "metadata": {
        "id": "zEPbJ_j_bCEK"
      }
    },
    {
      "cell_type": "code",
      "source": [
        "\n",
        "import statsmodels.api as sm\n",
        "\n",
        "\n",
        "\n",
        "# Sort data by x before smoothing\n",
        "x = df[\"Price\"]\n",
        "y = df[\"Fuel.tank.capacity\"]\n",
        "sorted_idx = np.argsort(x)\n",
        "x_sorted = x.iloc[sorted_idx]\n",
        "y_sorted = y.iloc[sorted_idx]\n",
        "\n",
        "# Apply LOWESS smoothing with span = 0.25\n",
        "lowess = sm.nonparametric.lowess\n",
        "smoothed = lowess(y_sorted, x_sorted, frac=0.25)\n",
        "\n",
        "# Plot\n",
        "plt.figure(figsize=(8, 6))\n",
        "sns.set_theme(style=\"whitegrid\")\n",
        "\n",
        "# Scatter plot\n",
        "plt.scatter(x, y, alpha=0.6, label=\"Data\")\n",
        "\n",
        "# LOESS line\n",
        "plt.plot(smoothed[:, 0], smoothed[:, 1], color=\"red\", label=\"LOESS (span=0.25)\")\n",
        "\n",
        "# Labels\n",
        "plt.title(\"Fuel Tank Capacity vs Price (Custom LOESS span=0.25)\", fontsize=14)\n",
        "plt.xlabel(\"Price\", fontsize=12)\n",
        "plt.ylabel(\"Fuel Tank Capacity\", fontsize=12)\n",
        "plt.grid(True)\n",
        "plt.legend()\n",
        "\n",
        "plt.tight_layout()\n",
        "plt.show()\n"
      ],
      "metadata": {
        "id": "SzLeNQNCaqD9"
      },
      "execution_count": null,
      "outputs": []
    }
  ]
}