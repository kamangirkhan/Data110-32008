"""
# **Assignment: Exploring Temperature and Penguin Body Mass Distributions with Data Visualization**

## **Objective**
In this assignment, you will analyze a dataset using data visualization techniques to understand trends, distributions, and patterns. You will apply your knowledge of **boxplots, violin plots, strip plots, and ridgeline plots** to compare and interpret different variables.

We will use the **Palmer Penguins dataset**, which provides body mass, flipper length, and bill measurements for different penguin species from three islands in Antarctica.
"""

# Install necessary packages
!pip install seaborn joypy

# Import required libraries
import pandas as pd
import seaborn as sns
import matplotlib.pyplot as plt
from joypy import joyplot

# Load the Palmer Penguins dataset
url = "https://raw.githubusercontent.com/mwaskom/seaborn-data/master/penguins.csv"
df = pd.read_csv(url)

# Display basic dataset info
df.info()
df.head()

# Drop rows with missing values
df = df.dropna()

"""
## **Task 1: Boxplot - Analyzing Body Mass by Species**
"""

sns.boxplot(x='species', y='body_mass_g', data=df, palette="coolwarm")
plt.title('Penguin Body Mass by Species')
plt.xlabel('Species')
plt.ylabel('Body Mass (g)')
plt.show()

"""
### **Interpretation:**
- Which species has the **largest** median body mass?
- Which species has the **widest range** in body mass?
- Are there any **outliers**? If so, which species have them?
"""

"""
## **Task 2: Violin Plot - Flipper Length Distribution by Species**
"""

sns.violinplot(x='species', y='flipper_length_mm', data=df, inner="quartile", palette="muted")
plt.title('Flipper Length Distribution by Species')
plt.xlabel('Species')
plt.ylabel('Flipper Length (mm)')
plt.show()

"""
### **Interpretation:**
- Which species has the most **symmetrical** distribution?
- Which species has the **widest spread** of flipper lengths?
- How do the quartiles (white lines in the plot) compare for each species?
"""

"""
## **Task 3: Ridgeline Plot - Distribution of Bill Length by Island**
"""

plt.figure(figsize=(10,6))
joyplot(
    data=df[['bill_length_mm', 'island']],
    by='island',
    column='bill_length_mm',
    figsize=(12, 6),
    colormap=plt.cm.coolwarm,
    alpha=0.7
)
plt.title('Ridgeline Plot of Bill Length by Island')
plt.show()

"""
### **Interpretation:**
- Which island has the **smallest** range of bill lengths?
- Which island has the **most uniform** distribution?
- What differences do you notice between the islands in terms of bill length?
"""

"""
## **Submission Instructions**
- Upload your completed **notebook (.ipynb)** to **Google Colab or GitHub**.
- Submit the **GitHub/Colab link** in **MS Teams** under the assignment post.
- Provide a short **reflection (100-150 words)** in a Markdown cell explaining:
  - What you learned from the visualizations.
  - Which visualization you found most useful and why.
  - Any patterns or trends that surprised you.

## **Grading Criteria**
| Task                     | Points |
|--------------------------|--------|
| Boxplot (correct code & analysis) | 20 pts |
| Violin plot (correct code & analysis) | 20 pts |
| Ridgeline plot (correct code & analysis) | 20 pts |
| Interpretation of visualizations | 20 pts |
| Markdown explanation & reflection | 20 pts |
| **Total** | **100 pts** |
"""
