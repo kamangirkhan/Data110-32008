{
  "cells": [
    {
      "cell_type": "markdown",
      "metadata": {
        "id": "view-in-github",
        "colab_type": "text"
      },
      "source": [
        "<a href=\"https://colab.research.google.com/github/Reben80/Data110-32008--Sp25/blob/main/MC_trepass_towing_plotly.ipynb\" target=\"_parent\"><img src=\"https://colab.research.google.com/assets/colab-badge.svg\" alt=\"Open In Colab\"/></a>"
      ]
    },
    {
      "cell_type": "markdown",
      "metadata": {
        "id": "wxSr_Kzd5iFF"
      },
      "source": [
        "# Exploring Trespass Towing Data Using Plotly"
      ]
    },
    {
      "cell_type": "markdown",
      "metadata": {
        "id": "5P3DBRni5iFI"
      },
      "source": [
        "## About the Data\n",
        "\n",
        "### Montgomery County Trespass Towing Dataset\n",
        "\n",
        "The core of the data used to analyze trespass towing comes from a database maintained by the Montgomery County Police Department. An updated dataset is published to the dataMontgomery website monthly. Its current version includes nearly 100,000 entries detailing the the date each vehicle was towed, its location (address and coordinates), the reason it was towed, and information on the vehicle's make, model, and year of manufacture.\n",
        "\n",
        "### American Community Survey\n",
        "\n",
        "The American Community Survey (ACS) is an ongoing survey conducted by the U.S. Census Bureau that collects detailed demographic, social, economic, and housing data from a sample of U.S. households. Unlike the decennial census, which provides a snapshot every ten years, the ACS provides updated data every year, making it a crucial resource for understanding current trends and conditions across communities.\n",
        "Key Features of the ACS:\n",
        "\n",
        "-   Covers topics like income, education, employment, housing, migration, and more\n",
        "\n",
        "-   Data available in 1-year and 5-year estimates\n",
        "\n",
        "-   Useful for government planning, business decisions, academic research, and journalism\n",
        "\n",
        "The Census Bureau provides an API that allows developers and researchers to programmatically access ACS data."
      ]
    },
    {
      "cell_type": "markdown",
      "metadata": {
        "id": "uMv4PcVZ5iFJ"
      },
      "source": [
        "## About plotly\n",
        "\n",
        "Plotly is a graphing library for Python that allows users to create a wide variety of plots, from basic line charts to complex 3D visualizations. It is particularly popular for creating interactive visualizations that can be embedded in web applications, Jupyter notebooks, or exported as standalone HTML files.\n",
        "\n",
        "Plotly is built on top of D3.js and stack.gl, which allows it to offer high-quality visualizations with a simple and intuitive Python API.\n",
        "\n",
        "Key Features:\n",
        "\n",
        "-   Interactive plots (zoom, pan, hover, etc.)\n",
        "\n",
        "-   Wide range of charts (line, bar, scatter, pie, heatmaps, maps, 3D plots, etc.)\n",
        "\n",
        "-   Easy integration with Dash (Plotly’s web app framework)\n",
        "\n",
        "-   Export options (static images, HTML, etc.)"
      ]
    },
    {
      "cell_type": "code",
      "execution_count": 1,
      "metadata": {
        "id": "S7Kuz_yi5iFJ"
      },
      "outputs": [],
      "source": [
        "import pandas as pd\n",
        "import numpy as np\n",
        "from sklearn.linear_model import LinearRegression\n",
        "import plotly.graph_objects as go\n",
        "import plotly.express as px\n",
        "\n",
        "# Get the Antique color sequence\n",
        "colors = px.colors.qualitative.T10\n",
        "\n",
        "tows = pd.read_csv('/content/tows 10.csv', parse_dates=['Tow Date'])"
      ]
    },
    {
      "cell_type": "code",
      "source": [
        "tows.info()"
      ],
      "metadata": {
        "colab": {
          "base_uri": "https://localhost:8080/"
        },
        "id": "T1YKOQKi8tjo",
        "outputId": "513138b7-caaa-4d07-b6bd-4fb8f0d69d2b"
      },
      "execution_count": 4,
      "outputs": [
        {
          "output_type": "stream",
          "name": "stdout",
          "text": [
            "<class 'pandas.core.frame.DataFrame'>\n",
            "RangeIndex: 93059 entries, 0 to 93058\n",
            "Data columns (total 25 columns):\n",
            " #   Column                                            Non-Null Count  Dtype         \n",
            "---  ------                                            --------------  -----         \n",
            " 0   Tow Date                                          93059 non-null  datetime64[ns]\n",
            " 1   Vehicle Year                                      90389 non-null  float64       \n",
            " 2   Vehicle Make                                      92814 non-null  object        \n",
            " 3   Vehicle Model                                     90196 non-null  object        \n",
            " 4   Notes                                             90135 non-null  object        \n",
            " 5   Location                                          93059 non-null  object        \n",
            " 6   City                                              93045 non-null  object        \n",
            " 7   lon                                               92797 non-null  float64       \n",
            " 8   lat                                               92797 non-null  float64       \n",
            " 9   geoid                                             92784 non-null  float64       \n",
            " 10  Reason for tow                                    92191 non-null  object        \n",
            " 11  Trade Name                                        92902 non-null  object        \n",
            " 12  TractFIPS                                         92784 non-null  float64       \n",
            " 13  cei                                               92722 non-null  float64       \n",
            " 14  cat_cei                                           92722 non-null  object        \n",
            " 15  transit_freq                                      76414 non-null  float64       \n",
            " 16  resident_density                                  76414 non-null  float64       \n",
            " 17  pop_density                                       76414 non-null  float64       \n",
            " 18  employ_density                                    76414 non-null  float64       \n",
            " 19  act_density                                       76414 non-null  float64       \n",
            " 20  median_household_income                           92722 non-null  float64       \n",
            " 21  foreign_born_population                           92722 non-null  float64       \n",
            " 22  speak_only_english                                92722 non-null  float64       \n",
            " 23  total_population                                  92722 non-null  float64       \n",
            " 24  means_of_transportation_to_work_car_truck_or_van  92722 non-null  float64       \n",
            "dtypes: datetime64[ns](1), float64(16), object(8)\n",
            "memory usage: 17.7+ MB\n"
          ]
        }
      ]
    },
    {
      "cell_type": "markdown",
      "metadata": {
        "id": "RiFSQWIl5iFK"
      },
      "source": [
        "### Tree Map\n",
        "\n",
        "A treemap is a data visualization technique used to display hierarchical data using nested rectangles. Each branch of the hierarchy is represented as a rectangle, which contains smaller rectangles representing its sub-branches or leaves. The size of each rectangle is typically proportional to a quantitative value, such as revenue, population, or file size, while color can be used to represent another dimension, like category or growth rate. Treemaps are especially useful for showing part-to-whole relationships and comparing proportions within a complex dataset at a glance."
      ]
    },
    {
      "cell_type": "code",
      "source": [
        "# Create a tree graph of reasons for towing\n",
        "reason_counts = tows['Reason for tow'].value_counts().reset_index()\n",
        "reason_counts.columns = ['Reason for tow', 'Count']\n",
        "\n",
        "# Create the tree graph\n",
        "fig = go.Figure(go.Treemap(\n",
        "    labels=reason_counts['Reason for tow'],\n",
        "    parents=[''] * len(reason_counts),  # All reasons are at the root level\n",
        "    values=reason_counts['Count'],\n",
        "    textinfo='label+value',\n",
        "    hovertemplate='<b>%{label}</b><br>Number of tows: %{value}<extra></extra>'\n",
        "))\n",
        "\n",
        "# Update layout\n",
        "fig.update_layout(\n",
        "    title='Distribution of Towing Reasons',\n",
        "    width=1000,\n",
        "    height=600,\n",
        "    template='plotly_white'\n",
        ")\n",
        "\n",
        "# Save the plot as HTML\n",
        "fig.show()"
      ],
      "metadata": {
        "colab": {
          "base_uri": "https://localhost:8080/",
          "height": 638
        },
        "id": "iXwg-wM78cvS",
        "outputId": "3ffc076f-7326-4f1e-a203-cd8ed895e36e"
      },
      "execution_count": 5,
      "outputs": [
        {
          "output_type": "display_data",
          "data": {
            "text/html": [
              "<html>\n",
              "<head><meta charset=\"utf-8\" /></head>\n",
              "<body>\n",
              "    <div>            <script src=\"https://cdnjs.cloudflare.com/ajax/libs/mathjax/2.7.5/MathJax.js?config=TeX-AMS-MML_SVG\"></script><script type=\"text/javascript\">if (window.MathJax && window.MathJax.Hub && window.MathJax.Hub.Config) {window.MathJax.Hub.Config({SVG: {font: \"STIX-Web\"}});}</script>                <script type=\"text/javascript\">window.PlotlyConfig = {MathJaxConfig: 'local'};</script>\n",
              "        <script charset=\"utf-8\" src=\"https://cdn.plot.ly/plotly-2.35.2.min.js\"></script>                <div id=\"d993560d-34a9-4afa-865d-688fceded5c3\" class=\"plotly-graph-div\" style=\"height:600px; width:1000px;\"></div>            <script type=\"text/javascript\">                                    window.PLOTLYENV=window.PLOTLYENV || {};                                    if (document.getElementById(\"d993560d-34a9-4afa-865d-688fceded5c3\")) {                    Plotly.newPlot(                        \"d993560d-34a9-4afa-865d-688fceded5c3\",                        [{\"hovertemplate\":\"\\u003cb\\u003e%{label}\\u003c\\u002fb\\u003e\\u003cbr\\u003eNumber of tows: %{value}\\u003cextra\\u003e\\u003c\\u002fextra\\u003e\",\"labels\":[\"No Overnight Parking\",\"Unauthorized Parking\",\"Private Property\",\"Expired Permit, Tags, or Registration\",\"Blocking Fire Lane\",\"Abandoned Vehicle\",\"Disabled Vehicle\",\"No Permit\",\"Invalid Permit\",\"Handicap Spot\",\"Double Parking\",\"Visitor Parking Violation\",\"Management request\",\"Unknown\",\"Parking Unpaid\",\"Stolen\",\"Fake permit\"],\"parents\":[\"\",\"\",\"\",\"\",\"\",\"\",\"\",\"\",\"\",\"\",\"\",\"\",\"\",\"\",\"\",\"\",\"\"],\"textinfo\":\"label+value\",\"values\":[49882,22934,8732,4870,3648,1523,213,114,80,79,36,32,20,18,6,3,1],\"type\":\"treemap\"}],                        {\"template\":{\"data\":{\"barpolar\":[{\"marker\":{\"line\":{\"color\":\"white\",\"width\":0.5},\"pattern\":{\"fillmode\":\"overlay\",\"size\":10,\"solidity\":0.2}},\"type\":\"barpolar\"}],\"bar\":[{\"error_x\":{\"color\":\"#2a3f5f\"},\"error_y\":{\"color\":\"#2a3f5f\"},\"marker\":{\"line\":{\"color\":\"white\",\"width\":0.5},\"pattern\":{\"fillmode\":\"overlay\",\"size\":10,\"solidity\":0.2}},\"type\":\"bar\"}],\"carpet\":[{\"aaxis\":{\"endlinecolor\":\"#2a3f5f\",\"gridcolor\":\"#C8D4E3\",\"linecolor\":\"#C8D4E3\",\"minorgridcolor\":\"#C8D4E3\",\"startlinecolor\":\"#2a3f5f\"},\"baxis\":{\"endlinecolor\":\"#2a3f5f\",\"gridcolor\":\"#C8D4E3\",\"linecolor\":\"#C8D4E3\",\"minorgridcolor\":\"#C8D4E3\",\"startlinecolor\":\"#2a3f5f\"},\"type\":\"carpet\"}],\"choropleth\":[{\"colorbar\":{\"outlinewidth\":0,\"ticks\":\"\"},\"type\":\"choropleth\"}],\"contourcarpet\":[{\"colorbar\":{\"outlinewidth\":0,\"ticks\":\"\"},\"type\":\"contourcarpet\"}],\"contour\":[{\"colorbar\":{\"outlinewidth\":0,\"ticks\":\"\"},\"colorscale\":[[0.0,\"#0d0887\"],[0.1111111111111111,\"#46039f\"],[0.2222222222222222,\"#7201a8\"],[0.3333333333333333,\"#9c179e\"],[0.4444444444444444,\"#bd3786\"],[0.5555555555555556,\"#d8576b\"],[0.6666666666666666,\"#ed7953\"],[0.7777777777777778,\"#fb9f3a\"],[0.8888888888888888,\"#fdca26\"],[1.0,\"#f0f921\"]],\"type\":\"contour\"}],\"heatmapgl\":[{\"colorbar\":{\"outlinewidth\":0,\"ticks\":\"\"},\"colorscale\":[[0.0,\"#0d0887\"],[0.1111111111111111,\"#46039f\"],[0.2222222222222222,\"#7201a8\"],[0.3333333333333333,\"#9c179e\"],[0.4444444444444444,\"#bd3786\"],[0.5555555555555556,\"#d8576b\"],[0.6666666666666666,\"#ed7953\"],[0.7777777777777778,\"#fb9f3a\"],[0.8888888888888888,\"#fdca26\"],[1.0,\"#f0f921\"]],\"type\":\"heatmapgl\"}],\"heatmap\":[{\"colorbar\":{\"outlinewidth\":0,\"ticks\":\"\"},\"colorscale\":[[0.0,\"#0d0887\"],[0.1111111111111111,\"#46039f\"],[0.2222222222222222,\"#7201a8\"],[0.3333333333333333,\"#9c179e\"],[0.4444444444444444,\"#bd3786\"],[0.5555555555555556,\"#d8576b\"],[0.6666666666666666,\"#ed7953\"],[0.7777777777777778,\"#fb9f3a\"],[0.8888888888888888,\"#fdca26\"],[1.0,\"#f0f921\"]],\"type\":\"heatmap\"}],\"histogram2dcontour\":[{\"colorbar\":{\"outlinewidth\":0,\"ticks\":\"\"},\"colorscale\":[[0.0,\"#0d0887\"],[0.1111111111111111,\"#46039f\"],[0.2222222222222222,\"#7201a8\"],[0.3333333333333333,\"#9c179e\"],[0.4444444444444444,\"#bd3786\"],[0.5555555555555556,\"#d8576b\"],[0.6666666666666666,\"#ed7953\"],[0.7777777777777778,\"#fb9f3a\"],[0.8888888888888888,\"#fdca26\"],[1.0,\"#f0f921\"]],\"type\":\"histogram2dcontour\"}],\"histogram2d\":[{\"colorbar\":{\"outlinewidth\":0,\"ticks\":\"\"},\"colorscale\":[[0.0,\"#0d0887\"],[0.1111111111111111,\"#46039f\"],[0.2222222222222222,\"#7201a8\"],[0.3333333333333333,\"#9c179e\"],[0.4444444444444444,\"#bd3786\"],[0.5555555555555556,\"#d8576b\"],[0.6666666666666666,\"#ed7953\"],[0.7777777777777778,\"#fb9f3a\"],[0.8888888888888888,\"#fdca26\"],[1.0,\"#f0f921\"]],\"type\":\"histogram2d\"}],\"histogram\":[{\"marker\":{\"pattern\":{\"fillmode\":\"overlay\",\"size\":10,\"solidity\":0.2}},\"type\":\"histogram\"}],\"mesh3d\":[{\"colorbar\":{\"outlinewidth\":0,\"ticks\":\"\"},\"type\":\"mesh3d\"}],\"parcoords\":[{\"line\":{\"colorbar\":{\"outlinewidth\":0,\"ticks\":\"\"}},\"type\":\"parcoords\"}],\"pie\":[{\"automargin\":true,\"type\":\"pie\"}],\"scatter3d\":[{\"line\":{\"colorbar\":{\"outlinewidth\":0,\"ticks\":\"\"}},\"marker\":{\"colorbar\":{\"outlinewidth\":0,\"ticks\":\"\"}},\"type\":\"scatter3d\"}],\"scattercarpet\":[{\"marker\":{\"colorbar\":{\"outlinewidth\":0,\"ticks\":\"\"}},\"type\":\"scattercarpet\"}],\"scattergeo\":[{\"marker\":{\"colorbar\":{\"outlinewidth\":0,\"ticks\":\"\"}},\"type\":\"scattergeo\"}],\"scattergl\":[{\"marker\":{\"colorbar\":{\"outlinewidth\":0,\"ticks\":\"\"}},\"type\":\"scattergl\"}],\"scattermapbox\":[{\"marker\":{\"colorbar\":{\"outlinewidth\":0,\"ticks\":\"\"}},\"type\":\"scattermapbox\"}],\"scatterpolargl\":[{\"marker\":{\"colorbar\":{\"outlinewidth\":0,\"ticks\":\"\"}},\"type\":\"scatterpolargl\"}],\"scatterpolar\":[{\"marker\":{\"colorbar\":{\"outlinewidth\":0,\"ticks\":\"\"}},\"type\":\"scatterpolar\"}],\"scatter\":[{\"fillpattern\":{\"fillmode\":\"overlay\",\"size\":10,\"solidity\":0.2},\"type\":\"scatter\"}],\"scatterternary\":[{\"marker\":{\"colorbar\":{\"outlinewidth\":0,\"ticks\":\"\"}},\"type\":\"scatterternary\"}],\"surface\":[{\"colorbar\":{\"outlinewidth\":0,\"ticks\":\"\"},\"colorscale\":[[0.0,\"#0d0887\"],[0.1111111111111111,\"#46039f\"],[0.2222222222222222,\"#7201a8\"],[0.3333333333333333,\"#9c179e\"],[0.4444444444444444,\"#bd3786\"],[0.5555555555555556,\"#d8576b\"],[0.6666666666666666,\"#ed7953\"],[0.7777777777777778,\"#fb9f3a\"],[0.8888888888888888,\"#fdca26\"],[1.0,\"#f0f921\"]],\"type\":\"surface\"}],\"table\":[{\"cells\":{\"fill\":{\"color\":\"#EBF0F8\"},\"line\":{\"color\":\"white\"}},\"header\":{\"fill\":{\"color\":\"#C8D4E3\"},\"line\":{\"color\":\"white\"}},\"type\":\"table\"}]},\"layout\":{\"annotationdefaults\":{\"arrowcolor\":\"#2a3f5f\",\"arrowhead\":0,\"arrowwidth\":1},\"autotypenumbers\":\"strict\",\"coloraxis\":{\"colorbar\":{\"outlinewidth\":0,\"ticks\":\"\"}},\"colorscale\":{\"diverging\":[[0,\"#8e0152\"],[0.1,\"#c51b7d\"],[0.2,\"#de77ae\"],[0.3,\"#f1b6da\"],[0.4,\"#fde0ef\"],[0.5,\"#f7f7f7\"],[0.6,\"#e6f5d0\"],[0.7,\"#b8e186\"],[0.8,\"#7fbc41\"],[0.9,\"#4d9221\"],[1,\"#276419\"]],\"sequential\":[[0.0,\"#0d0887\"],[0.1111111111111111,\"#46039f\"],[0.2222222222222222,\"#7201a8\"],[0.3333333333333333,\"#9c179e\"],[0.4444444444444444,\"#bd3786\"],[0.5555555555555556,\"#d8576b\"],[0.6666666666666666,\"#ed7953\"],[0.7777777777777778,\"#fb9f3a\"],[0.8888888888888888,\"#fdca26\"],[1.0,\"#f0f921\"]],\"sequentialminus\":[[0.0,\"#0d0887\"],[0.1111111111111111,\"#46039f\"],[0.2222222222222222,\"#7201a8\"],[0.3333333333333333,\"#9c179e\"],[0.4444444444444444,\"#bd3786\"],[0.5555555555555556,\"#d8576b\"],[0.6666666666666666,\"#ed7953\"],[0.7777777777777778,\"#fb9f3a\"],[0.8888888888888888,\"#fdca26\"],[1.0,\"#f0f921\"]]},\"colorway\":[\"#636efa\",\"#EF553B\",\"#00cc96\",\"#ab63fa\",\"#FFA15A\",\"#19d3f3\",\"#FF6692\",\"#B6E880\",\"#FF97FF\",\"#FECB52\"],\"font\":{\"color\":\"#2a3f5f\"},\"geo\":{\"bgcolor\":\"white\",\"lakecolor\":\"white\",\"landcolor\":\"white\",\"showlakes\":true,\"showland\":true,\"subunitcolor\":\"#C8D4E3\"},\"hoverlabel\":{\"align\":\"left\"},\"hovermode\":\"closest\",\"mapbox\":{\"style\":\"light\"},\"paper_bgcolor\":\"white\",\"plot_bgcolor\":\"white\",\"polar\":{\"angularaxis\":{\"gridcolor\":\"#EBF0F8\",\"linecolor\":\"#EBF0F8\",\"ticks\":\"\"},\"bgcolor\":\"white\",\"radialaxis\":{\"gridcolor\":\"#EBF0F8\",\"linecolor\":\"#EBF0F8\",\"ticks\":\"\"}},\"scene\":{\"xaxis\":{\"backgroundcolor\":\"white\",\"gridcolor\":\"#DFE8F3\",\"gridwidth\":2,\"linecolor\":\"#EBF0F8\",\"showbackground\":true,\"ticks\":\"\",\"zerolinecolor\":\"#EBF0F8\"},\"yaxis\":{\"backgroundcolor\":\"white\",\"gridcolor\":\"#DFE8F3\",\"gridwidth\":2,\"linecolor\":\"#EBF0F8\",\"showbackground\":true,\"ticks\":\"\",\"zerolinecolor\":\"#EBF0F8\"},\"zaxis\":{\"backgroundcolor\":\"white\",\"gridcolor\":\"#DFE8F3\",\"gridwidth\":2,\"linecolor\":\"#EBF0F8\",\"showbackground\":true,\"ticks\":\"\",\"zerolinecolor\":\"#EBF0F8\"}},\"shapedefaults\":{\"line\":{\"color\":\"#2a3f5f\"}},\"ternary\":{\"aaxis\":{\"gridcolor\":\"#DFE8F3\",\"linecolor\":\"#A2B1C6\",\"ticks\":\"\"},\"baxis\":{\"gridcolor\":\"#DFE8F3\",\"linecolor\":\"#A2B1C6\",\"ticks\":\"\"},\"bgcolor\":\"white\",\"caxis\":{\"gridcolor\":\"#DFE8F3\",\"linecolor\":\"#A2B1C6\",\"ticks\":\"\"}},\"title\":{\"x\":0.05},\"xaxis\":{\"automargin\":true,\"gridcolor\":\"#EBF0F8\",\"linecolor\":\"#EBF0F8\",\"ticks\":\"\",\"title\":{\"standoff\":15},\"zerolinecolor\":\"#EBF0F8\",\"zerolinewidth\":2},\"yaxis\":{\"automargin\":true,\"gridcolor\":\"#EBF0F8\",\"linecolor\":\"#EBF0F8\",\"ticks\":\"\",\"title\":{\"standoff\":15},\"zerolinecolor\":\"#EBF0F8\",\"zerolinewidth\":2}}},\"title\":{\"text\":\"Distribution of Towing Reasons\"},\"width\":1000,\"height\":600},                        {\"responsive\": true}                    ).then(function(){\n",
              "                            \n",
              "var gd = document.getElementById('d993560d-34a9-4afa-865d-688fceded5c3');\n",
              "var x = new MutationObserver(function (mutations, observer) {{\n",
              "        var display = window.getComputedStyle(gd).display;\n",
              "        if (!display || display === 'none') {{\n",
              "            console.log([gd, 'removed!']);\n",
              "            Plotly.purge(gd);\n",
              "            observer.disconnect();\n",
              "        }}\n",
              "}});\n",
              "\n",
              "// Listen for the removal of the full notebook cells\n",
              "var notebookContainer = gd.closest('#notebook-container');\n",
              "if (notebookContainer) {{\n",
              "    x.observe(notebookContainer, {childList: true});\n",
              "}}\n",
              "\n",
              "// Listen for the clearing of the current output cell\n",
              "var outputEl = gd.closest('.output');\n",
              "if (outputEl) {{\n",
              "    x.observe(outputEl, {childList: true});\n",
              "}}\n",
              "\n",
              "                        })                };                            </script>        </div>\n",
              "</body>\n",
              "</html>"
            ]
          },
          "metadata": {}
        }
      ]
    },
    {
      "cell_type": "markdown",
      "metadata": {
        "id": "VNbumZnO5iFL"
      },
      "source": [
        "### Towing Numbers over Time and Projection\n",
        "\n",
        "Time series projections are a method of forecasting future values based on historical data that is collected at regular intervals over time. Projections in time series analysis help us predict future trends, identify patterns, and make informed decisions based on past behavior.\n",
        "\n",
        "Can we see any patterns in monthly data? Is the number of vehicles being towed increasing or decreasing over time? What predictions can we make?\n"
      ]
    },
    {
      "cell_type": "code",
      "execution_count": 6,
      "metadata": {
        "colab": {
          "base_uri": "https://localhost:8080/"
        },
        "id": "ucgoNWL65iFL",
        "outputId": "f20cbe1c-5ca4-4caf-f24b-76176013d067"
      },
      "outputs": [
        {
          "output_type": "stream",
          "name": "stderr",
          "text": [
            "/usr/local/lib/python3.11/dist-packages/sklearn/utils/validation.py:2739: UserWarning:\n",
            "\n",
            "X does not have valid feature names, but LinearRegression was fitted with feature names\n",
            "\n"
          ]
        }
      ],
      "source": [
        "tows_projection_data = tows.dropna(subset=['Tow Date'])\n",
        "\n",
        "# Extract year and month for grouping\n",
        "tows_projection_data['YearMonth'] = tows_projection_data['Tow Date'].dt.to_period('M')\n",
        "\n",
        "# Aggregate tow counts by month, skipping missing months\n",
        "monthly_tows = tows_projection_data.groupby('YearMonth').size().reset_index(name='Tow Count')\n",
        "\n",
        "# Convert YearMonth period to datetime for analysis\n",
        "monthly_tows['Month Start'] = monthly_tows['YearMonth'].dt.start_time\n",
        "monthly_tows['Months Since Start'] = (monthly_tows['Month Start'] - monthly_tows['Month Start'].min()).dt.days // 30\n",
        "\n",
        "# Prepare data for regression\n",
        "X = monthly_tows[['Months Since Start']]\n",
        "y = monthly_tows['Tow Count']\n",
        "\n",
        "# Train a linear regression model\n",
        "model = LinearRegression()\n",
        "model.fit(X, y)\n",
        "\n",
        "# Predict for future months\n",
        "future_months = np.arange(monthly_tows['Months Since Start'].max() + 1,\n",
        "                          monthly_tows['Months Since Start'].max() + 13).reshape(-1, 1)\n",
        "future_month_dates = [monthly_tows['Month Start'].max() + pd.Timedelta(days=30 * i) for i in range(1, 13)]\n",
        "future_predictions = model.predict(future_months)"
      ]
    },
    {
      "cell_type": "markdown",
      "metadata": {
        "id": "f3lRCV5M5iFM"
      },
      "source": [
        "Now we are ready to plot the projection."
      ]
    },
    {
      "cell_type": "code",
      "execution_count": 7,
      "metadata": {
        "colab": {
          "base_uri": "https://localhost:8080/",
          "height": 562
        },
        "id": "T-v1DfNG5iFM",
        "outputId": "0c38ccd7-7ce8-49a0-9195-dbaa1931eb7c"
      },
      "outputs": [
        {
          "output_type": "display_data",
          "data": {
            "text/html": [
              "<html>\n",
              "<head><meta charset=\"utf-8\" /></head>\n",
              "<body>\n",
              "    <div>            <script src=\"https://cdnjs.cloudflare.com/ajax/libs/mathjax/2.7.5/MathJax.js?config=TeX-AMS-MML_SVG\"></script><script type=\"text/javascript\">if (window.MathJax && window.MathJax.Hub && window.MathJax.Hub.Config) {window.MathJax.Hub.Config({SVG: {font: \"STIX-Web\"}});}</script>                <script type=\"text/javascript\">window.PlotlyConfig = {MathJaxConfig: 'local'};</script>\n",
              "        <script charset=\"utf-8\" src=\"https://cdn.plot.ly/plotly-2.35.2.min.js\"></script>                <div id=\"e7e31976-7324-4f35-bc44-aedf8805385f\" class=\"plotly-graph-div\" style=\"height:525px; width:100%;\"></div>            <script type=\"text/javascript\">                                    window.PLOTLYENV=window.PLOTLYENV || {};                                    if (document.getElementById(\"e7e31976-7324-4f35-bc44-aedf8805385f\")) {                    Plotly.newPlot(                        \"e7e31976-7324-4f35-bc44-aedf8805385f\",                        [{\"line\":{\"color\":\"#4c78a8\"},\"marker\":{\"color\":\"#4c78a8\"},\"mode\":\"markers+lines\",\"name\":\"Actual Data\",\"x\":[\"2021-07-01T00:00:00\",\"2021-08-01T00:00:00\",\"2021-09-01T00:00:00\",\"2021-10-01T00:00:00\",\"2021-11-01T00:00:00\",\"2021-12-01T00:00:00\",\"2022-01-01T00:00:00\",\"2022-02-01T00:00:00\",\"2022-03-01T00:00:00\",\"2022-04-01T00:00:00\",\"2022-05-01T00:00:00\",\"2022-06-01T00:00:00\",\"2022-07-01T00:00:00\",\"2022-08-01T00:00:00\",\"2022-09-01T00:00:00\",\"2022-10-01T00:00:00\",\"2022-11-01T00:00:00\",\"2022-12-01T00:00:00\",\"2023-01-01T00:00:00\",\"2023-02-01T00:00:00\",\"2023-03-01T00:00:00\",\"2023-04-01T00:00:00\",\"2023-05-01T00:00:00\",\"2023-06-01T00:00:00\",\"2023-07-01T00:00:00\",\"2023-08-01T00:00:00\",\"2023-09-01T00:00:00\",\"2023-10-01T00:00:00\",\"2023-11-01T00:00:00\",\"2023-12-01T00:00:00\",\"2024-01-01T00:00:00\",\"2024-02-01T00:00:00\",\"2024-03-01T00:00:00\",\"2024-04-01T00:00:00\",\"2024-05-01T00:00:00\",\"2024-06-01T00:00:00\",\"2024-07-01T00:00:00\"],\"y\":[2544,2681,2214,2522,67,2285,52,2393,2754,2475,2348,2660,3146,2671,2406,2508,2496,2461,2547,2278,2743,2671,2537,2620,2176,2730,2582,2818,5360,2749,2290,2621,2664,2564,2941,2800,2685],\"type\":\"scatter\"},{\"line\":{\"color\":\"#54a24b\",\"dash\":\"solid\"},\"mode\":\"lines\",\"name\":\"Trend Line\",\"x\":[\"2021-07-01T00:00:00\",\"2021-08-01T00:00:00\",\"2021-09-01T00:00:00\",\"2021-10-01T00:00:00\",\"2021-11-01T00:00:00\",\"2021-12-01T00:00:00\",\"2022-01-01T00:00:00\",\"2022-02-01T00:00:00\",\"2022-03-01T00:00:00\",\"2022-04-01T00:00:00\",\"2022-05-01T00:00:00\",\"2022-06-01T00:00:00\",\"2022-07-01T00:00:00\",\"2022-08-01T00:00:00\",\"2022-09-01T00:00:00\",\"2022-10-01T00:00:00\",\"2022-11-01T00:00:00\",\"2022-12-01T00:00:00\",\"2023-01-01T00:00:00\",\"2023-02-01T00:00:00\",\"2023-03-01T00:00:00\",\"2023-04-01T00:00:00\",\"2023-05-01T00:00:00\",\"2023-06-01T00:00:00\",\"2023-07-01T00:00:00\",\"2023-08-01T00:00:00\",\"2023-09-01T00:00:00\",\"2023-10-01T00:00:00\",\"2023-11-01T00:00:00\",\"2023-12-01T00:00:00\",\"2024-01-01T00:00:00\",\"2024-02-01T00:00:00\",\"2024-03-01T00:00:00\",\"2024-04-01T00:00:00\",\"2024-05-01T00:00:00\",\"2024-06-01T00:00:00\",\"2024-07-01T00:00:00\"],\"y\":[2024.0170697012802,2051.2999051683264,2078.5827406353724,2105.8655761024183,2133.1484115694643,2160.4312470365103,2187.7140825035563,2214.996917970602,2242.279753437648,2269.562588904694,2296.84542437174,2324.128259838786,2351.411095305832,2378.693930772878,2405.976766239924,2433.25960170697,2460.542437174016,2487.825272641062,2515.108108108108,2542.390943575154,2569.6737790422,2596.956614509246,2624.239449976292,2651.5222854433378,2678.8051209103837,2706.0879563774297,2733.3707918444757,2760.6536273115216,2787.9364627785676,2815.2192982456136,2842.5021337126595,2869.7849691797055,2897.0678046467515,2924.3506401137975,2951.6334755808434,2978.9163110478894,3006.1991465149354],\"type\":\"scatter\"},{\"line\":{\"color\":\"#e45756\",\"dash\":\"dot\"},\"marker\":{\"color\":\"#e45756\"},\"mode\":\"markers+lines\",\"name\":\"Projection\",\"x\":[\"2024-07-31T00:00:00\",\"2024-08-30T00:00:00\",\"2024-09-29T00:00:00\",\"2024-10-29T00:00:00\",\"2024-11-28T00:00:00\",\"2024-12-28T00:00:00\",\"2025-01-27T00:00:00\",\"2025-02-26T00:00:00\",\"2025-03-28T00:00:00\",\"2025-04-27T00:00:00\",\"2025-05-27T00:00:00\",\"2025-06-26T00:00:00\"],\"y\":[3033.4819819819813,3060.7648174490278,3088.0476529160733,3115.3304883831197,3142.613323850165,3169.8961593172116,3197.178994784257,3224.4618302513036,3251.744665718349,3279.0275011853955,3306.310336652441,3333.5931721194875],\"type\":\"scatter\"}],                        {\"template\":{\"data\":{\"barpolar\":[{\"marker\":{\"line\":{\"color\":\"white\",\"width\":0.5},\"pattern\":{\"fillmode\":\"overlay\",\"size\":10,\"solidity\":0.2}},\"type\":\"barpolar\"}],\"bar\":[{\"error_x\":{\"color\":\"#2a3f5f\"},\"error_y\":{\"color\":\"#2a3f5f\"},\"marker\":{\"line\":{\"color\":\"white\",\"width\":0.5},\"pattern\":{\"fillmode\":\"overlay\",\"size\":10,\"solidity\":0.2}},\"type\":\"bar\"}],\"carpet\":[{\"aaxis\":{\"endlinecolor\":\"#2a3f5f\",\"gridcolor\":\"#C8D4E3\",\"linecolor\":\"#C8D4E3\",\"minorgridcolor\":\"#C8D4E3\",\"startlinecolor\":\"#2a3f5f\"},\"baxis\":{\"endlinecolor\":\"#2a3f5f\",\"gridcolor\":\"#C8D4E3\",\"linecolor\":\"#C8D4E3\",\"minorgridcolor\":\"#C8D4E3\",\"startlinecolor\":\"#2a3f5f\"},\"type\":\"carpet\"}],\"choropleth\":[{\"colorbar\":{\"outlinewidth\":0,\"ticks\":\"\"},\"type\":\"choropleth\"}],\"contourcarpet\":[{\"colorbar\":{\"outlinewidth\":0,\"ticks\":\"\"},\"type\":\"contourcarpet\"}],\"contour\":[{\"colorbar\":{\"outlinewidth\":0,\"ticks\":\"\"},\"colorscale\":[[0.0,\"#0d0887\"],[0.1111111111111111,\"#46039f\"],[0.2222222222222222,\"#7201a8\"],[0.3333333333333333,\"#9c179e\"],[0.4444444444444444,\"#bd3786\"],[0.5555555555555556,\"#d8576b\"],[0.6666666666666666,\"#ed7953\"],[0.7777777777777778,\"#fb9f3a\"],[0.8888888888888888,\"#fdca26\"],[1.0,\"#f0f921\"]],\"type\":\"contour\"}],\"heatmapgl\":[{\"colorbar\":{\"outlinewidth\":0,\"ticks\":\"\"},\"colorscale\":[[0.0,\"#0d0887\"],[0.1111111111111111,\"#46039f\"],[0.2222222222222222,\"#7201a8\"],[0.3333333333333333,\"#9c179e\"],[0.4444444444444444,\"#bd3786\"],[0.5555555555555556,\"#d8576b\"],[0.6666666666666666,\"#ed7953\"],[0.7777777777777778,\"#fb9f3a\"],[0.8888888888888888,\"#fdca26\"],[1.0,\"#f0f921\"]],\"type\":\"heatmapgl\"}],\"heatmap\":[{\"colorbar\":{\"outlinewidth\":0,\"ticks\":\"\"},\"colorscale\":[[0.0,\"#0d0887\"],[0.1111111111111111,\"#46039f\"],[0.2222222222222222,\"#7201a8\"],[0.3333333333333333,\"#9c179e\"],[0.4444444444444444,\"#bd3786\"],[0.5555555555555556,\"#d8576b\"],[0.6666666666666666,\"#ed7953\"],[0.7777777777777778,\"#fb9f3a\"],[0.8888888888888888,\"#fdca26\"],[1.0,\"#f0f921\"]],\"type\":\"heatmap\"}],\"histogram2dcontour\":[{\"colorbar\":{\"outlinewidth\":0,\"ticks\":\"\"},\"colorscale\":[[0.0,\"#0d0887\"],[0.1111111111111111,\"#46039f\"],[0.2222222222222222,\"#7201a8\"],[0.3333333333333333,\"#9c179e\"],[0.4444444444444444,\"#bd3786\"],[0.5555555555555556,\"#d8576b\"],[0.6666666666666666,\"#ed7953\"],[0.7777777777777778,\"#fb9f3a\"],[0.8888888888888888,\"#fdca26\"],[1.0,\"#f0f921\"]],\"type\":\"histogram2dcontour\"}],\"histogram2d\":[{\"colorbar\":{\"outlinewidth\":0,\"ticks\":\"\"},\"colorscale\":[[0.0,\"#0d0887\"],[0.1111111111111111,\"#46039f\"],[0.2222222222222222,\"#7201a8\"],[0.3333333333333333,\"#9c179e\"],[0.4444444444444444,\"#bd3786\"],[0.5555555555555556,\"#d8576b\"],[0.6666666666666666,\"#ed7953\"],[0.7777777777777778,\"#fb9f3a\"],[0.8888888888888888,\"#fdca26\"],[1.0,\"#f0f921\"]],\"type\":\"histogram2d\"}],\"histogram\":[{\"marker\":{\"pattern\":{\"fillmode\":\"overlay\",\"size\":10,\"solidity\":0.2}},\"type\":\"histogram\"}],\"mesh3d\":[{\"colorbar\":{\"outlinewidth\":0,\"ticks\":\"\"},\"type\":\"mesh3d\"}],\"parcoords\":[{\"line\":{\"colorbar\":{\"outlinewidth\":0,\"ticks\":\"\"}},\"type\":\"parcoords\"}],\"pie\":[{\"automargin\":true,\"type\":\"pie\"}],\"scatter3d\":[{\"line\":{\"colorbar\":{\"outlinewidth\":0,\"ticks\":\"\"}},\"marker\":{\"colorbar\":{\"outlinewidth\":0,\"ticks\":\"\"}},\"type\":\"scatter3d\"}],\"scattercarpet\":[{\"marker\":{\"colorbar\":{\"outlinewidth\":0,\"ticks\":\"\"}},\"type\":\"scattercarpet\"}],\"scattergeo\":[{\"marker\":{\"colorbar\":{\"outlinewidth\":0,\"ticks\":\"\"}},\"type\":\"scattergeo\"}],\"scattergl\":[{\"marker\":{\"colorbar\":{\"outlinewidth\":0,\"ticks\":\"\"}},\"type\":\"scattergl\"}],\"scattermapbox\":[{\"marker\":{\"colorbar\":{\"outlinewidth\":0,\"ticks\":\"\"}},\"type\":\"scattermapbox\"}],\"scatterpolargl\":[{\"marker\":{\"colorbar\":{\"outlinewidth\":0,\"ticks\":\"\"}},\"type\":\"scatterpolargl\"}],\"scatterpolar\":[{\"marker\":{\"colorbar\":{\"outlinewidth\":0,\"ticks\":\"\"}},\"type\":\"scatterpolar\"}],\"scatter\":[{\"fillpattern\":{\"fillmode\":\"overlay\",\"size\":10,\"solidity\":0.2},\"type\":\"scatter\"}],\"scatterternary\":[{\"marker\":{\"colorbar\":{\"outlinewidth\":0,\"ticks\":\"\"}},\"type\":\"scatterternary\"}],\"surface\":[{\"colorbar\":{\"outlinewidth\":0,\"ticks\":\"\"},\"colorscale\":[[0.0,\"#0d0887\"],[0.1111111111111111,\"#46039f\"],[0.2222222222222222,\"#7201a8\"],[0.3333333333333333,\"#9c179e\"],[0.4444444444444444,\"#bd3786\"],[0.5555555555555556,\"#d8576b\"],[0.6666666666666666,\"#ed7953\"],[0.7777777777777778,\"#fb9f3a\"],[0.8888888888888888,\"#fdca26\"],[1.0,\"#f0f921\"]],\"type\":\"surface\"}],\"table\":[{\"cells\":{\"fill\":{\"color\":\"#EBF0F8\"},\"line\":{\"color\":\"white\"}},\"header\":{\"fill\":{\"color\":\"#C8D4E3\"},\"line\":{\"color\":\"white\"}},\"type\":\"table\"}]},\"layout\":{\"annotationdefaults\":{\"arrowcolor\":\"#2a3f5f\",\"arrowhead\":0,\"arrowwidth\":1},\"autotypenumbers\":\"strict\",\"coloraxis\":{\"colorbar\":{\"outlinewidth\":0,\"ticks\":\"\"}},\"colorscale\":{\"diverging\":[[0,\"#8e0152\"],[0.1,\"#c51b7d\"],[0.2,\"#de77ae\"],[0.3,\"#f1b6da\"],[0.4,\"#fde0ef\"],[0.5,\"#f7f7f7\"],[0.6,\"#e6f5d0\"],[0.7,\"#b8e186\"],[0.8,\"#7fbc41\"],[0.9,\"#4d9221\"],[1,\"#276419\"]],\"sequential\":[[0.0,\"#0d0887\"],[0.1111111111111111,\"#46039f\"],[0.2222222222222222,\"#7201a8\"],[0.3333333333333333,\"#9c179e\"],[0.4444444444444444,\"#bd3786\"],[0.5555555555555556,\"#d8576b\"],[0.6666666666666666,\"#ed7953\"],[0.7777777777777778,\"#fb9f3a\"],[0.8888888888888888,\"#fdca26\"],[1.0,\"#f0f921\"]],\"sequentialminus\":[[0.0,\"#0d0887\"],[0.1111111111111111,\"#46039f\"],[0.2222222222222222,\"#7201a8\"],[0.3333333333333333,\"#9c179e\"],[0.4444444444444444,\"#bd3786\"],[0.5555555555555556,\"#d8576b\"],[0.6666666666666666,\"#ed7953\"],[0.7777777777777778,\"#fb9f3a\"],[0.8888888888888888,\"#fdca26\"],[1.0,\"#f0f921\"]]},\"colorway\":[\"#636efa\",\"#EF553B\",\"#00cc96\",\"#ab63fa\",\"#FFA15A\",\"#19d3f3\",\"#FF6692\",\"#B6E880\",\"#FF97FF\",\"#FECB52\"],\"font\":{\"color\":\"#2a3f5f\"},\"geo\":{\"bgcolor\":\"white\",\"lakecolor\":\"white\",\"landcolor\":\"white\",\"showlakes\":true,\"showland\":true,\"subunitcolor\":\"#C8D4E3\"},\"hoverlabel\":{\"align\":\"left\"},\"hovermode\":\"closest\",\"mapbox\":{\"style\":\"light\"},\"paper_bgcolor\":\"white\",\"plot_bgcolor\":\"white\",\"polar\":{\"angularaxis\":{\"gridcolor\":\"#EBF0F8\",\"linecolor\":\"#EBF0F8\",\"ticks\":\"\"},\"bgcolor\":\"white\",\"radialaxis\":{\"gridcolor\":\"#EBF0F8\",\"linecolor\":\"#EBF0F8\",\"ticks\":\"\"}},\"scene\":{\"xaxis\":{\"backgroundcolor\":\"white\",\"gridcolor\":\"#DFE8F3\",\"gridwidth\":2,\"linecolor\":\"#EBF0F8\",\"showbackground\":true,\"ticks\":\"\",\"zerolinecolor\":\"#EBF0F8\"},\"yaxis\":{\"backgroundcolor\":\"white\",\"gridcolor\":\"#DFE8F3\",\"gridwidth\":2,\"linecolor\":\"#EBF0F8\",\"showbackground\":true,\"ticks\":\"\",\"zerolinecolor\":\"#EBF0F8\"},\"zaxis\":{\"backgroundcolor\":\"white\",\"gridcolor\":\"#DFE8F3\",\"gridwidth\":2,\"linecolor\":\"#EBF0F8\",\"showbackground\":true,\"ticks\":\"\",\"zerolinecolor\":\"#EBF0F8\"}},\"shapedefaults\":{\"line\":{\"color\":\"#2a3f5f\"}},\"ternary\":{\"aaxis\":{\"gridcolor\":\"#DFE8F3\",\"linecolor\":\"#A2B1C6\",\"ticks\":\"\"},\"baxis\":{\"gridcolor\":\"#DFE8F3\",\"linecolor\":\"#A2B1C6\",\"ticks\":\"\"},\"bgcolor\":\"white\",\"caxis\":{\"gridcolor\":\"#DFE8F3\",\"linecolor\":\"#A2B1C6\",\"ticks\":\"\"}},\"title\":{\"x\":0.05},\"xaxis\":{\"automargin\":true,\"gridcolor\":\"#EBF0F8\",\"linecolor\":\"#EBF0F8\",\"ticks\":\"\",\"title\":{\"standoff\":15},\"zerolinecolor\":\"#EBF0F8\",\"zerolinewidth\":2},\"yaxis\":{\"automargin\":true,\"gridcolor\":\"#EBF0F8\",\"linecolor\":\"#EBF0F8\",\"ticks\":\"\",\"title\":{\"standoff\":15},\"zerolinecolor\":\"#EBF0F8\",\"zerolinewidth\":2}}},\"title\":{\"text\":\"Monthly Tow Count Trend and Future Projections\"},\"xaxis\":{\"title\":{\"text\":\"Month\"}},\"yaxis\":{\"title\":{\"text\":\"Tow Count\"}},\"legend\":{\"title\":{\"text\":\"Legend\"}}},                        {\"responsive\": true}                    ).then(function(){\n",
              "                            \n",
              "var gd = document.getElementById('e7e31976-7324-4f35-bc44-aedf8805385f');\n",
              "var x = new MutationObserver(function (mutations, observer) {{\n",
              "        var display = window.getComputedStyle(gd).display;\n",
              "        if (!display || display === 'none') {{\n",
              "            console.log([gd, 'removed!']);\n",
              "            Plotly.purge(gd);\n",
              "            observer.disconnect();\n",
              "        }}\n",
              "}});\n",
              "\n",
              "// Listen for the removal of the full notebook cells\n",
              "var notebookContainer = gd.closest('#notebook-container');\n",
              "if (notebookContainer) {{\n",
              "    x.observe(notebookContainer, {childList: true});\n",
              "}}\n",
              "\n",
              "// Listen for the clearing of the current output cell\n",
              "var outputEl = gd.closest('.output');\n",
              "if (outputEl) {{\n",
              "    x.observe(outputEl, {childList: true});\n",
              "}}\n",
              "\n",
              "                        })                };                            </script>        </div>\n",
              "</body>\n",
              "</html>"
            ]
          },
          "metadata": {}
        }
      ],
      "source": [
        "fig = go.Figure()\n",
        "\n",
        "# Add Actual Data\n",
        "fig.add_trace(go.Scatter(\n",
        "    x=monthly_tows['Month Start'],\n",
        "    y=monthly_tows['Tow Count'],\n",
        "    mode='markers+lines',\n",
        "    name='Actual Data',\n",
        "    marker=dict(color='#4c78a8'),\n",
        "    line=dict(color='#4c78a8')\n",
        "))\n",
        "\n",
        "# Add Trend Line\n",
        "fig.add_trace(go.Scatter(\n",
        "    x=monthly_tows['Month Start'],\n",
        "    y=model.predict(X),\n",
        "    mode='lines',\n",
        "    name='Trend Line',\n",
        "    line=dict(color='#54a24b', dash='solid')\n",
        "))\n",
        "\n",
        "# Add Projections\n",
        "fig.add_trace(go.Scatter(\n",
        "    x=future_month_dates,\n",
        "    y=future_predictions,\n",
        "    mode='markers+lines',\n",
        "    name='Projection',\n",
        "    marker=dict(color='#e45756'),\n",
        "    line=dict(color='#e45756', dash='dot')\n",
        "))\n",
        "\n",
        "# Customize layout\n",
        "fig.update_layout(\n",
        "    title='Monthly Tow Count Trend and Future Projections',\n",
        "    xaxis_title='Month',\n",
        "    yaxis_title='Tow Count',\n",
        "    legend_title='Legend',\n",
        "    template='plotly_white'\n",
        ")\n",
        "\n",
        "# Display the graph\n",
        "fig.show()"
      ]
    },
    {
      "cell_type": "markdown",
      "metadata": {
        "id": "ORpFyG0A5iFM"
      },
      "source": [
        "### Monthly Towing Rates over Time by Company\n",
        "\n",
        "It can be valuable to split a timeseries using a categorical variable. In this case we will look at individual trends in the monthly towing of the top 5 companies."
      ]
    },
    {
      "cell_type": "code",
      "execution_count": 9,
      "metadata": {
        "colab": {
          "base_uri": "https://localhost:8080/",
          "height": 838
        },
        "id": "ShWuQrbf5iFN",
        "outputId": "498a3f1e-4076-4c7b-af2f-21702fef28f6"
      },
      "outputs": [
        {
          "output_type": "display_data",
          "data": {
            "text/html": [
              "<html>\n",
              "<head><meta charset=\"utf-8\" /></head>\n",
              "<body>\n",
              "    <div>            <script src=\"https://cdnjs.cloudflare.com/ajax/libs/mathjax/2.7.5/MathJax.js?config=TeX-AMS-MML_SVG\"></script><script type=\"text/javascript\">if (window.MathJax && window.MathJax.Hub && window.MathJax.Hub.Config) {window.MathJax.Hub.Config({SVG: {font: \"STIX-Web\"}});}</script>                <script type=\"text/javascript\">window.PlotlyConfig = {MathJaxConfig: 'local'};</script>\n",
              "        <script charset=\"utf-8\" src=\"https://cdn.plot.ly/plotly-2.35.2.min.js\"></script>                <div id=\"ef8ba327-9272-4201-9239-a9e88a5a3f86\" class=\"plotly-graph-div\" style=\"height:800px; width:1000px;\"></div>            <script type=\"text/javascript\">                                    window.PLOTLYENV=window.PLOTLYENV || {};                                    if (document.getElementById(\"ef8ba327-9272-4201-9239-a9e88a5a3f86\")) {                    Plotly.newPlot(                        \"ef8ba327-9272-4201-9239-a9e88a5a3f86\",                        [{\"hovertemplate\":\"\\u003cb\\u003e%{x}\\u003c\\u002fb\\u003e\\u003cbr\\u003eAverage: %{y:.2f}\\u003cextra\\u003e\\u003c\\u002fextra\\u003e\",\"line\":{\"color\":\"#4C78A8\"},\"mode\":\"lines+markers\",\"name\":\"Authorized Towing\",\"x\":[\"2021-07-31T00:00:00\",\"2021-08-31T00:00:00\",\"2021-09-30T00:00:00\",\"2021-10-31T00:00:00\",\"2021-11-30T00:00:00\",\"2021-12-31T00:00:00\",\"2022-01-31T00:00:00\",\"2022-02-28T00:00:00\",\"2022-03-31T00:00:00\",\"2022-04-30T00:00:00\",\"2022-05-31T00:00:00\",\"2022-06-30T00:00:00\",\"2022-07-31T00:00:00\",\"2022-08-31T00:00:00\",\"2022-09-30T00:00:00\",\"2022-10-31T00:00:00\",\"2022-11-30T00:00:00\",\"2022-12-31T00:00:00\",\"2023-01-31T00:00:00\",\"2023-02-28T00:00:00\",\"2023-03-31T00:00:00\",\"2023-04-30T00:00:00\",\"2023-05-31T00:00:00\",\"2023-06-30T00:00:00\",\"2023-07-31T00:00:00\",\"2023-08-31T00:00:00\",\"2023-09-30T00:00:00\",\"2023-10-31T00:00:00\",\"2023-11-30T00:00:00\",\"2023-12-31T00:00:00\",\"2024-01-31T00:00:00\",\"2024-02-29T00:00:00\",\"2024-03-31T00:00:00\",\"2024-04-30T00:00:00\",\"2024-05-31T00:00:00\",\"2024-06-30T00:00:00\",\"2024-07-31T00:00:00\"],\"y\":[12.741935483870968,16.225806451612904,13.366666666666667,16.032258064516128,0.8888888888888888,16.0,0.9375,16.785714285714285,18.096774193548388,16.433333333333334,15.096774193548388,18.9,20.451612903225808,19.774193548387096,20.833333333333332,18.225806451612904,18.2,15.193548387096774,15.225806451612904,16.5,15.366666666666667,14.266666666666667,13.548387096774194,12.6,11.774193548387096,13.741935483870968,14.8,11.290322580645162,26.333333333333332,14.161290322580646,11.225806451612904,15.10344827586207,15.870967741935484,13.533333333333333,11.709677419354838,11.2,10.451612903225806],\"type\":\"scatter\"},{\"hovertemplate\":\"\\u003cb\\u003e%{x}\\u003c\\u002fb\\u003e\\u003cbr\\u003eAverage: %{y:.2f}\\u003cextra\\u003e\\u003c\\u002fextra\\u003e\",\"line\":{\"color\":\"#F58518\"},\"mode\":\"lines+markers\",\"name\":\"Big Tow\",\"x\":[\"2021-07-31T00:00:00\",\"2021-08-31T00:00:00\",\"2021-09-30T00:00:00\",\"2021-10-31T00:00:00\",\"2021-11-30T00:00:00\",\"2021-12-31T00:00:00\",\"2022-01-31T00:00:00\",\"2022-02-28T00:00:00\",\"2022-03-31T00:00:00\",\"2022-04-30T00:00:00\",\"2022-05-31T00:00:00\",\"2022-06-30T00:00:00\",\"2022-07-31T00:00:00\",\"2022-08-31T00:00:00\",\"2022-09-30T00:00:00\",\"2022-10-31T00:00:00\",\"2022-11-30T00:00:00\",\"2022-12-31T00:00:00\",\"2023-01-31T00:00:00\",\"2023-02-28T00:00:00\",\"2023-03-31T00:00:00\",\"2023-04-30T00:00:00\",\"2023-05-31T00:00:00\",\"2023-06-30T00:00:00\",\"2023-07-31T00:00:00\",\"2023-08-31T00:00:00\",\"2023-09-30T00:00:00\",\"2023-10-31T00:00:00\",\"2023-11-30T00:00:00\",\"2023-12-31T00:00:00\",\"2024-01-31T00:00:00\",\"2024-02-29T00:00:00\",\"2024-03-31T00:00:00\",\"2024-04-30T00:00:00\",\"2024-05-31T00:00:00\",\"2024-06-30T00:00:00\",\"2024-07-31T00:00:00\"],\"y\":[2.032258064516129,6.387096774193548,6.8,5.290322580645161,0.05555555555555555,4.064516129032258,0.1875,4.785714285714286,4.354838709677419,3.8666666666666667,3.5806451612903225,1.8,2.129032258064516,1.4193548387096775,4.066666666666666,1.935483870967742,1.3,3.3548387096774195,4.67741935483871,0.8214285714285714,1.2333333333333334,1.8666666666666667,3.7096774193548385,3.6333333333333333,3.838709677419355,4.387096774193548,1.7666666666666666,4.580645161290323,7.333333333333333,3.5161290322580645,3.774193548387097,2.2758620689655173,1.6774193548387097,1.6,1.2580645161290323,3.6333333333333333,4.548387096774194],\"type\":\"scatter\"},{\"hovertemplate\":\"\\u003cb\\u003e%{x}\\u003c\\u002fb\\u003e\\u003cbr\\u003eAverage: %{y:.2f}\\u003cextra\\u003e\\u003c\\u002fextra\\u003e\",\"line\":{\"color\":\"#E45756\"},\"mode\":\"lines+markers\",\"name\":\"Henry's Wrecker Service\",\"x\":[\"2021-07-31T00:00:00\",\"2021-08-31T00:00:00\",\"2021-09-30T00:00:00\",\"2021-10-31T00:00:00\",\"2021-11-30T00:00:00\",\"2021-12-31T00:00:00\",\"2022-01-31T00:00:00\",\"2022-02-28T00:00:00\",\"2022-03-31T00:00:00\",\"2022-04-30T00:00:00\",\"2022-05-31T00:00:00\",\"2022-06-30T00:00:00\",\"2022-07-31T00:00:00\",\"2022-08-31T00:00:00\",\"2022-09-30T00:00:00\",\"2022-10-31T00:00:00\",\"2022-11-30T00:00:00\",\"2022-12-31T00:00:00\",\"2023-01-31T00:00:00\",\"2023-02-28T00:00:00\",\"2023-03-31T00:00:00\",\"2023-04-30T00:00:00\",\"2023-05-31T00:00:00\",\"2023-06-30T00:00:00\",\"2023-07-31T00:00:00\",\"2023-08-31T00:00:00\",\"2023-09-30T00:00:00\",\"2023-10-31T00:00:00\",\"2023-11-30T00:00:00\",\"2023-12-31T00:00:00\",\"2024-01-31T00:00:00\",\"2024-02-29T00:00:00\",\"2024-03-31T00:00:00\",\"2024-04-30T00:00:00\",\"2024-05-31T00:00:00\",\"2024-06-30T00:00:00\",\"2024-07-31T00:00:00\"],\"y\":[26.258064516129032,28.06451612903226,25.633333333333333,31.741935483870968,1.2777777777777777,26.70967741935484,1.3125,29.642857142857142,33.516129032258064,29.233333333333334,29.451612903225808,31.866666666666667,42.03225806451613,31.93548387096774,25.666666666666668,27.967741935483872,32.03333333333333,28.870967741935484,29.35483870967742,34.214285714285715,41.666666666666664,39.43333333333333,35.193548387096776,36.266666666666666,25.06451612903226,31.838709677419356,37.53333333333333,38.12903225806452,74.13333333333334,38.806451612903224,30.29032258064516,37.793103448275865,36.29032258064516,37.03333333333333,43.32258064516129,39.266666666666666,35.225806451612904],\"type\":\"scatter\"},{\"hovertemplate\":\"\\u003cb\\u003e%{x}\\u003c\\u002fb\\u003e\\u003cbr\\u003eAverage: %{y:.2f}\\u003cextra\\u003e\\u003c\\u002fextra\\u003e\",\"line\":{\"color\":\"#72B7B2\"},\"mode\":\"lines+markers\",\"name\":\"Prestige\",\"x\":[\"2021-07-31T00:00:00\",\"2021-08-31T00:00:00\",\"2021-09-30T00:00:00\",\"2021-10-31T00:00:00\",\"2021-11-30T00:00:00\",\"2021-12-31T00:00:00\",\"2022-01-31T00:00:00\",\"2022-02-28T00:00:00\",\"2022-03-31T00:00:00\",\"2022-04-30T00:00:00\",\"2022-05-31T00:00:00\",\"2022-06-30T00:00:00\",\"2022-07-31T00:00:00\",\"2022-08-31T00:00:00\",\"2022-09-30T00:00:00\",\"2022-10-31T00:00:00\",\"2022-11-30T00:00:00\",\"2022-12-31T00:00:00\",\"2023-01-31T00:00:00\",\"2023-02-28T00:00:00\",\"2023-03-31T00:00:00\",\"2023-04-30T00:00:00\",\"2023-05-31T00:00:00\",\"2023-06-30T00:00:00\",\"2023-07-31T00:00:00\",\"2023-08-31T00:00:00\",\"2023-09-30T00:00:00\",\"2023-10-31T00:00:00\",\"2023-11-30T00:00:00\",\"2023-12-31T00:00:00\",\"2024-01-31T00:00:00\",\"2024-02-29T00:00:00\",\"2024-03-31T00:00:00\",\"2024-04-30T00:00:00\",\"2024-05-31T00:00:00\",\"2024-06-30T00:00:00\",\"2024-07-31T00:00:00\"],\"y\":[10.0,10.193548387096774,6.833333333333333,8.0,0.5555555555555556,7.451612903225806,0.375,9.535714285714286,7.967741935483871,9.366666666666667,7.548387096774194,8.7,9.483870967741936,9.387096774193548,8.9,8.35483870967742,7.8,8.64516129032258,7.129032258064516,8.464285714285714,9.533333333333333,7.966666666666667,7.161290322580645,7.433333333333334,6.870967741935484,9.516129032258064,9.866666666666667,9.419354838709678,19.733333333333334,10.129032258064516,9.419354838709678,11.758620689655173,10.96774193548387,11.266666666666667,11.225806451612904,12.366666666666667,9.838709677419354],\"type\":\"scatter\"},{\"hovertemplate\":\"\\u003cb\\u003e%{x}\\u003c\\u002fb\\u003e\\u003cbr\\u003eAverage: %{y:.2f}\\u003cextra\\u003e\\u003c\\u002fextra\\u003e\",\"line\":{\"color\":\"#54A24B\"},\"mode\":\"lines+markers\",\"name\":\"Speedy Towing\",\"x\":[\"2021-07-31T00:00:00\",\"2021-08-31T00:00:00\",\"2021-09-30T00:00:00\",\"2021-10-31T00:00:00\",\"2021-11-30T00:00:00\",\"2021-12-31T00:00:00\",\"2022-01-31T00:00:00\",\"2022-02-28T00:00:00\",\"2022-03-31T00:00:00\",\"2022-04-30T00:00:00\",\"2022-05-31T00:00:00\",\"2022-06-30T00:00:00\",\"2022-07-31T00:00:00\",\"2022-08-31T00:00:00\",\"2022-09-30T00:00:00\",\"2022-10-31T00:00:00\",\"2022-11-30T00:00:00\",\"2022-12-31T00:00:00\",\"2023-01-31T00:00:00\",\"2023-02-28T00:00:00\",\"2023-03-31T00:00:00\",\"2023-04-30T00:00:00\",\"2023-05-31T00:00:00\",\"2023-06-30T00:00:00\",\"2023-07-31T00:00:00\",\"2023-08-31T00:00:00\",\"2023-09-30T00:00:00\",\"2023-10-31T00:00:00\",\"2023-11-30T00:00:00\",\"2023-12-31T00:00:00\",\"2024-01-31T00:00:00\",\"2024-02-29T00:00:00\",\"2024-03-31T00:00:00\",\"2024-04-30T00:00:00\",\"2024-05-31T00:00:00\",\"2024-06-30T00:00:00\",\"2024-07-31T00:00:00\"],\"y\":[8.774193548387096,5.354838709677419,7.1,4.870967741935484,0.1111111111111111,6.258064516129032,0.0,7.214285714285714,4.290322580645161,4.4,5.064516129032258,9.1,8.290322580645162,7.0,4.6,4.548387096774194,4.566666666666666,4.258064516129032,6.612903225806452,4.642857142857143,5.6,4.666666666666667,6.612903225806452,7.433333333333334,3.7419354838709675,6.483870967741935,5.9,7.483870967741935,18.466666666666665,7.0,6.709677419354839,6.551724137931035,6.548387096774194,7.2,11.419354838709678,9.7,9.709677419354838],\"type\":\"scatter\"}],                        {\"template\":{\"data\":{\"barpolar\":[{\"marker\":{\"line\":{\"color\":\"white\",\"width\":0.5},\"pattern\":{\"fillmode\":\"overlay\",\"size\":10,\"solidity\":0.2}},\"type\":\"barpolar\"}],\"bar\":[{\"error_x\":{\"color\":\"#2a3f5f\"},\"error_y\":{\"color\":\"#2a3f5f\"},\"marker\":{\"line\":{\"color\":\"white\",\"width\":0.5},\"pattern\":{\"fillmode\":\"overlay\",\"size\":10,\"solidity\":0.2}},\"type\":\"bar\"}],\"carpet\":[{\"aaxis\":{\"endlinecolor\":\"#2a3f5f\",\"gridcolor\":\"#C8D4E3\",\"linecolor\":\"#C8D4E3\",\"minorgridcolor\":\"#C8D4E3\",\"startlinecolor\":\"#2a3f5f\"},\"baxis\":{\"endlinecolor\":\"#2a3f5f\",\"gridcolor\":\"#C8D4E3\",\"linecolor\":\"#C8D4E3\",\"minorgridcolor\":\"#C8D4E3\",\"startlinecolor\":\"#2a3f5f\"},\"type\":\"carpet\"}],\"choropleth\":[{\"colorbar\":{\"outlinewidth\":0,\"ticks\":\"\"},\"type\":\"choropleth\"}],\"contourcarpet\":[{\"colorbar\":{\"outlinewidth\":0,\"ticks\":\"\"},\"type\":\"contourcarpet\"}],\"contour\":[{\"colorbar\":{\"outlinewidth\":0,\"ticks\":\"\"},\"colorscale\":[[0.0,\"#0d0887\"],[0.1111111111111111,\"#46039f\"],[0.2222222222222222,\"#7201a8\"],[0.3333333333333333,\"#9c179e\"],[0.4444444444444444,\"#bd3786\"],[0.5555555555555556,\"#d8576b\"],[0.6666666666666666,\"#ed7953\"],[0.7777777777777778,\"#fb9f3a\"],[0.8888888888888888,\"#fdca26\"],[1.0,\"#f0f921\"]],\"type\":\"contour\"}],\"heatmapgl\":[{\"colorbar\":{\"outlinewidth\":0,\"ticks\":\"\"},\"colorscale\":[[0.0,\"#0d0887\"],[0.1111111111111111,\"#46039f\"],[0.2222222222222222,\"#7201a8\"],[0.3333333333333333,\"#9c179e\"],[0.4444444444444444,\"#bd3786\"],[0.5555555555555556,\"#d8576b\"],[0.6666666666666666,\"#ed7953\"],[0.7777777777777778,\"#fb9f3a\"],[0.8888888888888888,\"#fdca26\"],[1.0,\"#f0f921\"]],\"type\":\"heatmapgl\"}],\"heatmap\":[{\"colorbar\":{\"outlinewidth\":0,\"ticks\":\"\"},\"colorscale\":[[0.0,\"#0d0887\"],[0.1111111111111111,\"#46039f\"],[0.2222222222222222,\"#7201a8\"],[0.3333333333333333,\"#9c179e\"],[0.4444444444444444,\"#bd3786\"],[0.5555555555555556,\"#d8576b\"],[0.6666666666666666,\"#ed7953\"],[0.7777777777777778,\"#fb9f3a\"],[0.8888888888888888,\"#fdca26\"],[1.0,\"#f0f921\"]],\"type\":\"heatmap\"}],\"histogram2dcontour\":[{\"colorbar\":{\"outlinewidth\":0,\"ticks\":\"\"},\"colorscale\":[[0.0,\"#0d0887\"],[0.1111111111111111,\"#46039f\"],[0.2222222222222222,\"#7201a8\"],[0.3333333333333333,\"#9c179e\"],[0.4444444444444444,\"#bd3786\"],[0.5555555555555556,\"#d8576b\"],[0.6666666666666666,\"#ed7953\"],[0.7777777777777778,\"#fb9f3a\"],[0.8888888888888888,\"#fdca26\"],[1.0,\"#f0f921\"]],\"type\":\"histogram2dcontour\"}],\"histogram2d\":[{\"colorbar\":{\"outlinewidth\":0,\"ticks\":\"\"},\"colorscale\":[[0.0,\"#0d0887\"],[0.1111111111111111,\"#46039f\"],[0.2222222222222222,\"#7201a8\"],[0.3333333333333333,\"#9c179e\"],[0.4444444444444444,\"#bd3786\"],[0.5555555555555556,\"#d8576b\"],[0.6666666666666666,\"#ed7953\"],[0.7777777777777778,\"#fb9f3a\"],[0.8888888888888888,\"#fdca26\"],[1.0,\"#f0f921\"]],\"type\":\"histogram2d\"}],\"histogram\":[{\"marker\":{\"pattern\":{\"fillmode\":\"overlay\",\"size\":10,\"solidity\":0.2}},\"type\":\"histogram\"}],\"mesh3d\":[{\"colorbar\":{\"outlinewidth\":0,\"ticks\":\"\"},\"type\":\"mesh3d\"}],\"parcoords\":[{\"line\":{\"colorbar\":{\"outlinewidth\":0,\"ticks\":\"\"}},\"type\":\"parcoords\"}],\"pie\":[{\"automargin\":true,\"type\":\"pie\"}],\"scatter3d\":[{\"line\":{\"colorbar\":{\"outlinewidth\":0,\"ticks\":\"\"}},\"marker\":{\"colorbar\":{\"outlinewidth\":0,\"ticks\":\"\"}},\"type\":\"scatter3d\"}],\"scattercarpet\":[{\"marker\":{\"colorbar\":{\"outlinewidth\":0,\"ticks\":\"\"}},\"type\":\"scattercarpet\"}],\"scattergeo\":[{\"marker\":{\"colorbar\":{\"outlinewidth\":0,\"ticks\":\"\"}},\"type\":\"scattergeo\"}],\"scattergl\":[{\"marker\":{\"colorbar\":{\"outlinewidth\":0,\"ticks\":\"\"}},\"type\":\"scattergl\"}],\"scattermapbox\":[{\"marker\":{\"colorbar\":{\"outlinewidth\":0,\"ticks\":\"\"}},\"type\":\"scattermapbox\"}],\"scatterpolargl\":[{\"marker\":{\"colorbar\":{\"outlinewidth\":0,\"ticks\":\"\"}},\"type\":\"scatterpolargl\"}],\"scatterpolar\":[{\"marker\":{\"colorbar\":{\"outlinewidth\":0,\"ticks\":\"\"}},\"type\":\"scatterpolar\"}],\"scatter\":[{\"fillpattern\":{\"fillmode\":\"overlay\",\"size\":10,\"solidity\":0.2},\"type\":\"scatter\"}],\"scatterternary\":[{\"marker\":{\"colorbar\":{\"outlinewidth\":0,\"ticks\":\"\"}},\"type\":\"scatterternary\"}],\"surface\":[{\"colorbar\":{\"outlinewidth\":0,\"ticks\":\"\"},\"colorscale\":[[0.0,\"#0d0887\"],[0.1111111111111111,\"#46039f\"],[0.2222222222222222,\"#7201a8\"],[0.3333333333333333,\"#9c179e\"],[0.4444444444444444,\"#bd3786\"],[0.5555555555555556,\"#d8576b\"],[0.6666666666666666,\"#ed7953\"],[0.7777777777777778,\"#fb9f3a\"],[0.8888888888888888,\"#fdca26\"],[1.0,\"#f0f921\"]],\"type\":\"surface\"}],\"table\":[{\"cells\":{\"fill\":{\"color\":\"#EBF0F8\"},\"line\":{\"color\":\"white\"}},\"header\":{\"fill\":{\"color\":\"#C8D4E3\"},\"line\":{\"color\":\"white\"}},\"type\":\"table\"}]},\"layout\":{\"annotationdefaults\":{\"arrowcolor\":\"#2a3f5f\",\"arrowhead\":0,\"arrowwidth\":1},\"autotypenumbers\":\"strict\",\"coloraxis\":{\"colorbar\":{\"outlinewidth\":0,\"ticks\":\"\"}},\"colorscale\":{\"diverging\":[[0,\"#8e0152\"],[0.1,\"#c51b7d\"],[0.2,\"#de77ae\"],[0.3,\"#f1b6da\"],[0.4,\"#fde0ef\"],[0.5,\"#f7f7f7\"],[0.6,\"#e6f5d0\"],[0.7,\"#b8e186\"],[0.8,\"#7fbc41\"],[0.9,\"#4d9221\"],[1,\"#276419\"]],\"sequential\":[[0.0,\"#0d0887\"],[0.1111111111111111,\"#46039f\"],[0.2222222222222222,\"#7201a8\"],[0.3333333333333333,\"#9c179e\"],[0.4444444444444444,\"#bd3786\"],[0.5555555555555556,\"#d8576b\"],[0.6666666666666666,\"#ed7953\"],[0.7777777777777778,\"#fb9f3a\"],[0.8888888888888888,\"#fdca26\"],[1.0,\"#f0f921\"]],\"sequentialminus\":[[0.0,\"#0d0887\"],[0.1111111111111111,\"#46039f\"],[0.2222222222222222,\"#7201a8\"],[0.3333333333333333,\"#9c179e\"],[0.4444444444444444,\"#bd3786\"],[0.5555555555555556,\"#d8576b\"],[0.6666666666666666,\"#ed7953\"],[0.7777777777777778,\"#fb9f3a\"],[0.8888888888888888,\"#fdca26\"],[1.0,\"#f0f921\"]]},\"colorway\":[\"#636efa\",\"#EF553B\",\"#00cc96\",\"#ab63fa\",\"#FFA15A\",\"#19d3f3\",\"#FF6692\",\"#B6E880\",\"#FF97FF\",\"#FECB52\"],\"font\":{\"color\":\"#2a3f5f\"},\"geo\":{\"bgcolor\":\"white\",\"lakecolor\":\"white\",\"landcolor\":\"white\",\"showlakes\":true,\"showland\":true,\"subunitcolor\":\"#C8D4E3\"},\"hoverlabel\":{\"align\":\"left\"},\"hovermode\":\"closest\",\"mapbox\":{\"style\":\"light\"},\"paper_bgcolor\":\"white\",\"plot_bgcolor\":\"white\",\"polar\":{\"angularaxis\":{\"gridcolor\":\"#EBF0F8\",\"linecolor\":\"#EBF0F8\",\"ticks\":\"\"},\"bgcolor\":\"white\",\"radialaxis\":{\"gridcolor\":\"#EBF0F8\",\"linecolor\":\"#EBF0F8\",\"ticks\":\"\"}},\"scene\":{\"xaxis\":{\"backgroundcolor\":\"white\",\"gridcolor\":\"#DFE8F3\",\"gridwidth\":2,\"linecolor\":\"#EBF0F8\",\"showbackground\":true,\"ticks\":\"\",\"zerolinecolor\":\"#EBF0F8\"},\"yaxis\":{\"backgroundcolor\":\"white\",\"gridcolor\":\"#DFE8F3\",\"gridwidth\":2,\"linecolor\":\"#EBF0F8\",\"showbackground\":true,\"ticks\":\"\",\"zerolinecolor\":\"#EBF0F8\"},\"zaxis\":{\"backgroundcolor\":\"white\",\"gridcolor\":\"#DFE8F3\",\"gridwidth\":2,\"linecolor\":\"#EBF0F8\",\"showbackground\":true,\"ticks\":\"\",\"zerolinecolor\":\"#EBF0F8\"}},\"shapedefaults\":{\"line\":{\"color\":\"#2a3f5f\"}},\"ternary\":{\"aaxis\":{\"gridcolor\":\"#DFE8F3\",\"linecolor\":\"#A2B1C6\",\"ticks\":\"\"},\"baxis\":{\"gridcolor\":\"#DFE8F3\",\"linecolor\":\"#A2B1C6\",\"ticks\":\"\"},\"bgcolor\":\"white\",\"caxis\":{\"gridcolor\":\"#DFE8F3\",\"linecolor\":\"#A2B1C6\",\"ticks\":\"\"}},\"title\":{\"x\":0.05},\"xaxis\":{\"automargin\":true,\"gridcolor\":\"#EBF0F8\",\"linecolor\":\"#EBF0F8\",\"ticks\":\"\",\"title\":{\"standoff\":15},\"zerolinecolor\":\"#EBF0F8\",\"zerolinewidth\":2},\"yaxis\":{\"automargin\":true,\"gridcolor\":\"#EBF0F8\",\"linecolor\":\"#EBF0F8\",\"ticks\":\"\",\"title\":{\"standoff\":15},\"zerolinecolor\":\"#EBF0F8\",\"zerolinewidth\":2}}},\"title\":{\"text\":\"Monthly Tow Count Trends\"},\"xaxis\":{\"title\":{\"text\":\"Month\"},\"rangeslider\":{\"visible\":true},\"rangeselector\":{\"buttons\":[{\"count\":1,\"label\":\"1m\",\"step\":\"month\",\"stepmode\":\"backward\"},{\"count\":6,\"label\":\"6m\",\"step\":\"month\",\"stepmode\":\"backward\"},{\"count\":1,\"label\":\"YTD\",\"step\":\"year\",\"stepmode\":\"todate\"},{\"count\":1,\"label\":\"1y\",\"step\":\"year\",\"stepmode\":\"backward\"},{\"step\":\"all\"}]}},\"yaxis\":{\"title\":{\"text\":\"Average Daily Tow Count\"}},\"legend\":{\"title\":{\"text\":\"Legend\"}},\"width\":1000,\"height\":800},                        {\"responsive\": true}                    ).then(function(){\n",
              "                            \n",
              "var gd = document.getElementById('ef8ba327-9272-4201-9239-a9e88a5a3f86');\n",
              "var x = new MutationObserver(function (mutations, observer) {{\n",
              "        var display = window.getComputedStyle(gd).display;\n",
              "        if (!display || display === 'none') {{\n",
              "            console.log([gd, 'removed!']);\n",
              "            Plotly.purge(gd);\n",
              "            observer.disconnect();\n",
              "        }}\n",
              "}});\n",
              "\n",
              "// Listen for the removal of the full notebook cells\n",
              "var notebookContainer = gd.closest('#notebook-container');\n",
              "if (notebookContainer) {{\n",
              "    x.observe(notebookContainer, {childList: true});\n",
              "}}\n",
              "\n",
              "// Listen for the clearing of the current output cell\n",
              "var outputEl = gd.closest('.output');\n",
              "if (outputEl) {{\n",
              "    x.observe(outputEl, {childList: true});\n",
              "}}\n",
              "\n",
              "                        })                };                            </script>        </div>\n",
              "</body>\n",
              "</html>"
            ]
          },
          "metadata": {}
        }
      ],
      "source": [
        "# Checking the most common companies to identify the top 5\n",
        "top_companies = tows['Trade Name'].value_counts().head(5).index\n",
        "\n",
        "# Filtering the dataset for rows with these top 5 companies\n",
        "top_companies_data = tows[tows['Trade Name'].isin(top_companies)]\n",
        "\n",
        "# Aggregating tow counts by date\n",
        "top_five_daily_counts = top_companies_data.groupby(['Tow Date', 'Trade Name']).size().unstack(fill_value=0)\n",
        "\n",
        "# Resampling with 'ME' for month-end frequency and calculating the mean\n",
        "monthly_avg = top_five_daily_counts.resample('ME').mean()\n",
        "\n",
        "# Plot the timeseries\n",
        "fig = go.Figure()\n",
        "\n",
        "# Add a line for each company\n",
        "for idx, company in enumerate(monthly_avg.columns):\n",
        "    fig.add_trace(go.Scatter(\n",
        "        x=monthly_avg.index,\n",
        "        y=monthly_avg[company],\n",
        "        mode='lines+markers',\n",
        "        name=company,\n",
        "        line=dict(color=colors[idx % len(colors)]),\n",
        "        hovertemplate='<b>%{x}</b><br>Average: %{y:.2f}<extra></extra>'\n",
        "    ))\n",
        "\n",
        "# Customize layout\n",
        "fig.update_layout(\n",
        "    title='Monthly Tow Count Trends',\n",
        "    xaxis_title='Month',\n",
        "    yaxis_title='Average Daily Tow Count',\n",
        "    legend_title='Legend',\n",
        "    template='plotly_white',\n",
        "    width=1000,  # Set width to 1200 pixels\n",
        "    height=800   # Set height to 800 pixels\n",
        ")\n",
        "\n",
        "# Add range slider and selector\n",
        "fig.update_xaxes(\n",
        "    rangeslider_visible=True,\n",
        "    rangeselector=dict(\n",
        "        buttons=list([\n",
        "            dict(count=1, label='1m', step='month', stepmode='backward'),\n",
        "            dict(count=6, label='6m', step='month', stepmode='backward'),\n",
        "            dict(count=1, label='YTD', step='year', stepmode='todate'),\n",
        "            dict(count=1, label='1y', step='year', stepmode='backward'),\n",
        "            dict(step='all')\n",
        "        ])\n",
        "    )\n",
        ")\n",
        "\n",
        "# Display the graph\n",
        "fig.show()"
      ]
    },
    {
      "cell_type": "markdown",
      "metadata": {
        "id": "WofHd4SB5iFN"
      },
      "source": [
        "## Rate of Change - Measuring Volatility"
      ]
    },
    {
      "cell_type": "code",
      "execution_count": 12,
      "metadata": {
        "colab": {
          "base_uri": "https://localhost:8080/",
          "height": 618
        },
        "id": "pLgRe7g15iFN",
        "outputId": "ad5fc9b6-ee70-4ece-bd5b-b5c92ddf7037"
      },
      "outputs": [
        {
          "output_type": "display_data",
          "data": {
            "text/html": [
              "<html>\n",
              "<head><meta charset=\"utf-8\" /></head>\n",
              "<body>\n",
              "    <div>            <script src=\"https://cdnjs.cloudflare.com/ajax/libs/mathjax/2.7.5/MathJax.js?config=TeX-AMS-MML_SVG\"></script><script type=\"text/javascript\">if (window.MathJax && window.MathJax.Hub && window.MathJax.Hub.Config) {window.MathJax.Hub.Config({SVG: {font: \"STIX-Web\"}});}</script>                <script type=\"text/javascript\">window.PlotlyConfig = {MathJaxConfig: 'local'};</script>\n",
              "        <script charset=\"utf-8\" src=\"https://cdn.plot.ly/plotly-2.35.2.min.js\"></script>                <div id=\"2ff5b7c1-8831-4e12-9881-6461c5811d30\" class=\"plotly-graph-div\" style=\"height:580px; width:820px;\"></div>            <script type=\"text/javascript\">                                    window.PLOTLYENV=window.PLOTLYENV || {};                                    if (document.getElementById(\"2ff5b7c1-8831-4e12-9881-6461c5811d30\")) {                    Plotly.newPlot(                        \"2ff5b7c1-8831-4e12-9881-6461c5811d30\",                        [{\"line\":{\"color\":\"#4C78A8\"},\"mode\":\"lines\",\"name\":\"Authorized Towing\",\"x\":[\"2021-07-31T00:00:00\",\"2021-08-31T00:00:00\",\"2021-09-30T00:00:00\",\"2021-10-31T00:00:00\",\"2021-11-30T00:00:00\",\"2021-12-31T00:00:00\",\"2022-01-31T00:00:00\",\"2022-02-28T00:00:00\",\"2022-03-31T00:00:00\",\"2022-04-30T00:00:00\",\"2022-05-31T00:00:00\",\"2022-06-30T00:00:00\",\"2022-07-31T00:00:00\",\"2022-08-31T00:00:00\",\"2022-09-30T00:00:00\",\"2022-10-31T00:00:00\",\"2022-11-30T00:00:00\",\"2022-12-31T00:00:00\",\"2023-01-31T00:00:00\",\"2023-02-28T00:00:00\",\"2023-03-31T00:00:00\",\"2023-04-30T00:00:00\",\"2023-05-31T00:00:00\",\"2023-06-30T00:00:00\",\"2023-07-31T00:00:00\",\"2023-08-31T00:00:00\",\"2023-09-30T00:00:00\",\"2023-10-31T00:00:00\",\"2023-11-30T00:00:00\",\"2023-12-31T00:00:00\",\"2024-01-31T00:00:00\",\"2024-02-29T00:00:00\",\"2024-03-31T00:00:00\",\"2024-04-30T00:00:00\",\"2024-05-31T00:00:00\",\"2024-06-30T00:00:00\",\"2024-07-31T00:00:00\"],\"y\":[null,3.483870967741936,-2.8591397849462368,2.665591397849461,-15.143369175627239,15.11111111111111,-15.0625,15.848214285714285,1.3110599078341032,-1.6634408602150543,-1.3365591397849457,3.8032258064516107,1.5516129032258092,-0.6774193548387117,1.059139784946236,-2.6075268817204282,-0.025806451612904624,-3.0064516129032253,0.03225806451612989,1.274193548387096,-1.1333333333333329,-1.0999999999999996,-0.7182795698924735,-0.9483870967741943,-0.8258064516129036,1.9677419354838719,1.0580645161290327,-3.509677419354839,15.04301075268817,-12.172043010752686,-2.935483870967742,3.8776418242491655,0.7675194660734146,-2.3376344086021508,-1.8236559139784951,-0.5096774193548388,-0.7483870967741932],\"type\":\"scatter\"},{\"line\":{\"color\":\"#F58518\"},\"mode\":\"lines\",\"name\":\"Big Tow\",\"x\":[\"2021-07-31T00:00:00\",\"2021-08-31T00:00:00\",\"2021-09-30T00:00:00\",\"2021-10-31T00:00:00\",\"2021-11-30T00:00:00\",\"2021-12-31T00:00:00\",\"2022-01-31T00:00:00\",\"2022-02-28T00:00:00\",\"2022-03-31T00:00:00\",\"2022-04-30T00:00:00\",\"2022-05-31T00:00:00\",\"2022-06-30T00:00:00\",\"2022-07-31T00:00:00\",\"2022-08-31T00:00:00\",\"2022-09-30T00:00:00\",\"2022-10-31T00:00:00\",\"2022-11-30T00:00:00\",\"2022-12-31T00:00:00\",\"2023-01-31T00:00:00\",\"2023-02-28T00:00:00\",\"2023-03-31T00:00:00\",\"2023-04-30T00:00:00\",\"2023-05-31T00:00:00\",\"2023-06-30T00:00:00\",\"2023-07-31T00:00:00\",\"2023-08-31T00:00:00\",\"2023-09-30T00:00:00\",\"2023-10-31T00:00:00\",\"2023-11-30T00:00:00\",\"2023-12-31T00:00:00\",\"2024-01-31T00:00:00\",\"2024-02-29T00:00:00\",\"2024-03-31T00:00:00\",\"2024-04-30T00:00:00\",\"2024-05-31T00:00:00\",\"2024-06-30T00:00:00\",\"2024-07-31T00:00:00\"],\"y\":[null,4.354838709677419,0.4129032258064518,-1.5096774193548388,-5.234767025089606,4.008960573476703,-3.877016129032258,4.598214285714286,-0.43087557603686655,-0.48817204301075234,-0.2860215053763442,-1.7806451612903225,0.32903225806451597,-0.7096774193548385,2.647311827956989,-2.1311827956989244,-0.635483870967742,2.054838709677419,1.3225806451612905,-3.855990783410139,0.411904761904762,0.6333333333333333,1.8430107526881718,-0.07634408602150522,0.20537634408602168,0.5483870967741931,-2.6204301075268814,2.8139784946236563,2.75268817204301,-3.8172043010752685,0.2580645161290325,-1.4983314794215796,-0.5984427141268076,-0.07741935483870965,-0.34193548387096784,2.375268817204301,0.9150537634408606],\"type\":\"scatter\"},{\"line\":{\"color\":\"#E45756\"},\"mode\":\"lines\",\"name\":\"Henry's Wrecker Service\",\"x\":[\"2021-07-31T00:00:00\",\"2021-08-31T00:00:00\",\"2021-09-30T00:00:00\",\"2021-10-31T00:00:00\",\"2021-11-30T00:00:00\",\"2021-12-31T00:00:00\",\"2022-01-31T00:00:00\",\"2022-02-28T00:00:00\",\"2022-03-31T00:00:00\",\"2022-04-30T00:00:00\",\"2022-05-31T00:00:00\",\"2022-06-30T00:00:00\",\"2022-07-31T00:00:00\",\"2022-08-31T00:00:00\",\"2022-09-30T00:00:00\",\"2022-10-31T00:00:00\",\"2022-11-30T00:00:00\",\"2022-12-31T00:00:00\",\"2023-01-31T00:00:00\",\"2023-02-28T00:00:00\",\"2023-03-31T00:00:00\",\"2023-04-30T00:00:00\",\"2023-05-31T00:00:00\",\"2023-06-30T00:00:00\",\"2023-07-31T00:00:00\",\"2023-08-31T00:00:00\",\"2023-09-30T00:00:00\",\"2023-10-31T00:00:00\",\"2023-11-30T00:00:00\",\"2023-12-31T00:00:00\",\"2024-01-31T00:00:00\",\"2024-02-29T00:00:00\",\"2024-03-31T00:00:00\",\"2024-04-30T00:00:00\",\"2024-05-31T00:00:00\",\"2024-06-30T00:00:00\",\"2024-07-31T00:00:00\"],\"y\":[null,1.8064516129032278,-2.431182795698927,6.108602150537635,-30.46415770609319,25.43189964157706,-25.39717741935484,28.330357142857142,3.8732718894009217,-4.28279569892473,0.21827956989247355,2.4150537634408593,10.165591397849461,-10.096774193548388,-6.268817204301072,2.301075268817204,4.0655913978494596,-3.1623655913978475,0.48387096774193594,4.859447004608295,7.452380952380949,-2.2333333333333343,-4.239784946236554,1.07311827956989,-11.202150537634406,6.774193548387096,5.694623655913976,0.5956989247311881,36.00430107526882,-35.326881720430116,-8.516129032258064,7.502780867630705,-1.5027808676307046,0.7430107526881713,6.289247311827957,-4.0559139784946225,-4.040860215053762],\"type\":\"scatter\"},{\"line\":{\"color\":\"#72B7B2\"},\"mode\":\"lines\",\"name\":\"Prestige\",\"x\":[\"2021-07-31T00:00:00\",\"2021-08-31T00:00:00\",\"2021-09-30T00:00:00\",\"2021-10-31T00:00:00\",\"2021-11-30T00:00:00\",\"2021-12-31T00:00:00\",\"2022-01-31T00:00:00\",\"2022-02-28T00:00:00\",\"2022-03-31T00:00:00\",\"2022-04-30T00:00:00\",\"2022-05-31T00:00:00\",\"2022-06-30T00:00:00\",\"2022-07-31T00:00:00\",\"2022-08-31T00:00:00\",\"2022-09-30T00:00:00\",\"2022-10-31T00:00:00\",\"2022-11-30T00:00:00\",\"2022-12-31T00:00:00\",\"2023-01-31T00:00:00\",\"2023-02-28T00:00:00\",\"2023-03-31T00:00:00\",\"2023-04-30T00:00:00\",\"2023-05-31T00:00:00\",\"2023-06-30T00:00:00\",\"2023-07-31T00:00:00\",\"2023-08-31T00:00:00\",\"2023-09-30T00:00:00\",\"2023-10-31T00:00:00\",\"2023-11-30T00:00:00\",\"2023-12-31T00:00:00\",\"2024-01-31T00:00:00\",\"2024-02-29T00:00:00\",\"2024-03-31T00:00:00\",\"2024-04-30T00:00:00\",\"2024-05-31T00:00:00\",\"2024-06-30T00:00:00\",\"2024-07-31T00:00:00\"],\"y\":[null,0.19354838709677402,-3.360215053763441,1.166666666666667,-7.444444444444445,6.896057347670251,-7.076612903225806,9.160714285714286,-1.5679723502304155,1.3989247311827961,-1.8182795698924732,1.1516129032258053,0.7838709677419367,-0.0967741935483879,-0.4870967741935477,-0.5451612903225804,-0.5548387096774201,0.8451612903225802,-1.516129032258064,1.3352534562211975,1.0690476190476197,-1.5666666666666664,-0.8053763440860218,0.27204301075268855,-0.5623655913978496,2.64516129032258,0.3505376344086031,-0.4473118279569892,10.313978494623656,-9.604301075268818,-0.7096774193548381,2.3392658509454947,-0.7908787541713025,0.2989247311827974,-0.04086021505376358,1.1408602150537632,-2.527956989247313],\"type\":\"scatter\"},{\"line\":{\"color\":\"#54A24B\"},\"mode\":\"lines\",\"name\":\"Speedy Towing\",\"x\":[\"2021-07-31T00:00:00\",\"2021-08-31T00:00:00\",\"2021-09-30T00:00:00\",\"2021-10-31T00:00:00\",\"2021-11-30T00:00:00\",\"2021-12-31T00:00:00\",\"2022-01-31T00:00:00\",\"2022-02-28T00:00:00\",\"2022-03-31T00:00:00\",\"2022-04-30T00:00:00\",\"2022-05-31T00:00:00\",\"2022-06-30T00:00:00\",\"2022-07-31T00:00:00\",\"2022-08-31T00:00:00\",\"2022-09-30T00:00:00\",\"2022-10-31T00:00:00\",\"2022-11-30T00:00:00\",\"2022-12-31T00:00:00\",\"2023-01-31T00:00:00\",\"2023-02-28T00:00:00\",\"2023-03-31T00:00:00\",\"2023-04-30T00:00:00\",\"2023-05-31T00:00:00\",\"2023-06-30T00:00:00\",\"2023-07-31T00:00:00\",\"2023-08-31T00:00:00\",\"2023-09-30T00:00:00\",\"2023-10-31T00:00:00\",\"2023-11-30T00:00:00\",\"2023-12-31T00:00:00\",\"2024-01-31T00:00:00\",\"2024-02-29T00:00:00\",\"2024-03-31T00:00:00\",\"2024-04-30T00:00:00\",\"2024-05-31T00:00:00\",\"2024-06-30T00:00:00\",\"2024-07-31T00:00:00\"],\"y\":[null,-3.419354838709677,1.7451612903225806,-2.2290322580645157,-4.759856630824373,6.146953405017921,-6.258064516129032,7.214285714285714,-2.9239631336405534,0.10967741935483932,0.6645161290322577,4.035483870967742,-0.8096774193548377,-1.290322580645162,-2.4000000000000004,-0.051612903225805695,0.01827956989247248,-0.3086021505376344,2.35483870967742,-1.9700460829493087,0.9571428571428564,-0.9333333333333327,1.946236559139785,0.8204301075268816,-3.691397849462366,2.7419354838709675,-0.5838709677419347,1.5838709677419347,10.982795698924729,-11.466666666666665,-0.29032258064516103,-0.15795328142380427,-0.0033370411568407476,0.6516129032258062,4.219354838709678,-1.7193548387096786,0.00967741935483879],\"type\":\"scatter\"}],                        {\"template\":{\"data\":{\"histogram2dcontour\":[{\"type\":\"histogram2dcontour\",\"colorbar\":{\"outlinewidth\":0,\"ticks\":\"\"},\"colorscale\":[[0.0,\"#0d0887\"],[0.1111111111111111,\"#46039f\"],[0.2222222222222222,\"#7201a8\"],[0.3333333333333333,\"#9c179e\"],[0.4444444444444444,\"#bd3786\"],[0.5555555555555556,\"#d8576b\"],[0.6666666666666666,\"#ed7953\"],[0.7777777777777778,\"#fb9f3a\"],[0.8888888888888888,\"#fdca26\"],[1.0,\"#f0f921\"]]}],\"choropleth\":[{\"type\":\"choropleth\",\"colorbar\":{\"outlinewidth\":0,\"ticks\":\"\"}}],\"histogram2d\":[{\"type\":\"histogram2d\",\"colorbar\":{\"outlinewidth\":0,\"ticks\":\"\"},\"colorscale\":[[0.0,\"#0d0887\"],[0.1111111111111111,\"#46039f\"],[0.2222222222222222,\"#7201a8\"],[0.3333333333333333,\"#9c179e\"],[0.4444444444444444,\"#bd3786\"],[0.5555555555555556,\"#d8576b\"],[0.6666666666666666,\"#ed7953\"],[0.7777777777777778,\"#fb9f3a\"],[0.8888888888888888,\"#fdca26\"],[1.0,\"#f0f921\"]]}],\"heatmap\":[{\"type\":\"heatmap\",\"colorbar\":{\"outlinewidth\":0,\"ticks\":\"\"},\"colorscale\":[[0.0,\"#0d0887\"],[0.1111111111111111,\"#46039f\"],[0.2222222222222222,\"#7201a8\"],[0.3333333333333333,\"#9c179e\"],[0.4444444444444444,\"#bd3786\"],[0.5555555555555556,\"#d8576b\"],[0.6666666666666666,\"#ed7953\"],[0.7777777777777778,\"#fb9f3a\"],[0.8888888888888888,\"#fdca26\"],[1.0,\"#f0f921\"]]}],\"heatmapgl\":[{\"type\":\"heatmapgl\",\"colorbar\":{\"outlinewidth\":0,\"ticks\":\"\"},\"colorscale\":[[0.0,\"#0d0887\"],[0.1111111111111111,\"#46039f\"],[0.2222222222222222,\"#7201a8\"],[0.3333333333333333,\"#9c179e\"],[0.4444444444444444,\"#bd3786\"],[0.5555555555555556,\"#d8576b\"],[0.6666666666666666,\"#ed7953\"],[0.7777777777777778,\"#fb9f3a\"],[0.8888888888888888,\"#fdca26\"],[1.0,\"#f0f921\"]]}],\"contourcarpet\":[{\"type\":\"contourcarpet\",\"colorbar\":{\"outlinewidth\":0,\"ticks\":\"\"}}],\"contour\":[{\"type\":\"contour\",\"colorbar\":{\"outlinewidth\":0,\"ticks\":\"\"},\"colorscale\":[[0.0,\"#0d0887\"],[0.1111111111111111,\"#46039f\"],[0.2222222222222222,\"#7201a8\"],[0.3333333333333333,\"#9c179e\"],[0.4444444444444444,\"#bd3786\"],[0.5555555555555556,\"#d8576b\"],[0.6666666666666666,\"#ed7953\"],[0.7777777777777778,\"#fb9f3a\"],[0.8888888888888888,\"#fdca26\"],[1.0,\"#f0f921\"]]}],\"surface\":[{\"type\":\"surface\",\"colorbar\":{\"outlinewidth\":0,\"ticks\":\"\"},\"colorscale\":[[0.0,\"#0d0887\"],[0.1111111111111111,\"#46039f\"],[0.2222222222222222,\"#7201a8\"],[0.3333333333333333,\"#9c179e\"],[0.4444444444444444,\"#bd3786\"],[0.5555555555555556,\"#d8576b\"],[0.6666666666666666,\"#ed7953\"],[0.7777777777777778,\"#fb9f3a\"],[0.8888888888888888,\"#fdca26\"],[1.0,\"#f0f921\"]]}],\"mesh3d\":[{\"type\":\"mesh3d\",\"colorbar\":{\"outlinewidth\":0,\"ticks\":\"\"}}],\"scatter\":[{\"fillpattern\":{\"fillmode\":\"overlay\",\"size\":10,\"solidity\":0.2},\"type\":\"scatter\"}],\"parcoords\":[{\"type\":\"parcoords\",\"line\":{\"colorbar\":{\"outlinewidth\":0,\"ticks\":\"\"}}}],\"scatterpolargl\":[{\"type\":\"scatterpolargl\",\"marker\":{\"colorbar\":{\"outlinewidth\":0,\"ticks\":\"\"}}}],\"bar\":[{\"error_x\":{\"color\":\"#2a3f5f\"},\"error_y\":{\"color\":\"#2a3f5f\"},\"marker\":{\"line\":{\"color\":\"#E5ECF6\",\"width\":0.5},\"pattern\":{\"fillmode\":\"overlay\",\"size\":10,\"solidity\":0.2}},\"type\":\"bar\"}],\"scattergeo\":[{\"type\":\"scattergeo\",\"marker\":{\"colorbar\":{\"outlinewidth\":0,\"ticks\":\"\"}}}],\"scatterpolar\":[{\"type\":\"scatterpolar\",\"marker\":{\"colorbar\":{\"outlinewidth\":0,\"ticks\":\"\"}}}],\"histogram\":[{\"marker\":{\"pattern\":{\"fillmode\":\"overlay\",\"size\":10,\"solidity\":0.2}},\"type\":\"histogram\"}],\"scattergl\":[{\"type\":\"scattergl\",\"marker\":{\"colorbar\":{\"outlinewidth\":0,\"ticks\":\"\"}}}],\"scatter3d\":[{\"type\":\"scatter3d\",\"line\":{\"colorbar\":{\"outlinewidth\":0,\"ticks\":\"\"}},\"marker\":{\"colorbar\":{\"outlinewidth\":0,\"ticks\":\"\"}}}],\"scattermapbox\":[{\"type\":\"scattermapbox\",\"marker\":{\"colorbar\":{\"outlinewidth\":0,\"ticks\":\"\"}}}],\"scatterternary\":[{\"type\":\"scatterternary\",\"marker\":{\"colorbar\":{\"outlinewidth\":0,\"ticks\":\"\"}}}],\"scattercarpet\":[{\"type\":\"scattercarpet\",\"marker\":{\"colorbar\":{\"outlinewidth\":0,\"ticks\":\"\"}}}],\"carpet\":[{\"aaxis\":{\"endlinecolor\":\"#2a3f5f\",\"gridcolor\":\"white\",\"linecolor\":\"white\",\"minorgridcolor\":\"white\",\"startlinecolor\":\"#2a3f5f\"},\"baxis\":{\"endlinecolor\":\"#2a3f5f\",\"gridcolor\":\"white\",\"linecolor\":\"white\",\"minorgridcolor\":\"white\",\"startlinecolor\":\"#2a3f5f\"},\"type\":\"carpet\"}],\"table\":[{\"cells\":{\"fill\":{\"color\":\"#EBF0F8\"},\"line\":{\"color\":\"white\"}},\"header\":{\"fill\":{\"color\":\"#C8D4E3\"},\"line\":{\"color\":\"white\"}},\"type\":\"table\"}],\"barpolar\":[{\"marker\":{\"line\":{\"color\":\"#E5ECF6\",\"width\":0.5},\"pattern\":{\"fillmode\":\"overlay\",\"size\":10,\"solidity\":0.2}},\"type\":\"barpolar\"}],\"pie\":[{\"automargin\":true,\"type\":\"pie\"}]},\"layout\":{\"autotypenumbers\":\"strict\",\"colorway\":[\"#636efa\",\"#EF553B\",\"#00cc96\",\"#ab63fa\",\"#FFA15A\",\"#19d3f3\",\"#FF6692\",\"#B6E880\",\"#FF97FF\",\"#FECB52\"],\"font\":{\"color\":\"#2a3f5f\"},\"hovermode\":\"closest\",\"hoverlabel\":{\"align\":\"left\"},\"paper_bgcolor\":\"white\",\"plot_bgcolor\":\"#E5ECF6\",\"polar\":{\"bgcolor\":\"#E5ECF6\",\"angularaxis\":{\"gridcolor\":\"white\",\"linecolor\":\"white\",\"ticks\":\"\"},\"radialaxis\":{\"gridcolor\":\"white\",\"linecolor\":\"white\",\"ticks\":\"\"}},\"ternary\":{\"bgcolor\":\"#E5ECF6\",\"aaxis\":{\"gridcolor\":\"white\",\"linecolor\":\"white\",\"ticks\":\"\"},\"baxis\":{\"gridcolor\":\"white\",\"linecolor\":\"white\",\"ticks\":\"\"},\"caxis\":{\"gridcolor\":\"white\",\"linecolor\":\"white\",\"ticks\":\"\"}},\"coloraxis\":{\"colorbar\":{\"outlinewidth\":0,\"ticks\":\"\"}},\"colorscale\":{\"sequential\":[[0.0,\"#0d0887\"],[0.1111111111111111,\"#46039f\"],[0.2222222222222222,\"#7201a8\"],[0.3333333333333333,\"#9c179e\"],[0.4444444444444444,\"#bd3786\"],[0.5555555555555556,\"#d8576b\"],[0.6666666666666666,\"#ed7953\"],[0.7777777777777778,\"#fb9f3a\"],[0.8888888888888888,\"#fdca26\"],[1.0,\"#f0f921\"]],\"sequentialminus\":[[0.0,\"#0d0887\"],[0.1111111111111111,\"#46039f\"],[0.2222222222222222,\"#7201a8\"],[0.3333333333333333,\"#9c179e\"],[0.4444444444444444,\"#bd3786\"],[0.5555555555555556,\"#d8576b\"],[0.6666666666666666,\"#ed7953\"],[0.7777777777777778,\"#fb9f3a\"],[0.8888888888888888,\"#fdca26\"],[1.0,\"#f0f921\"]],\"diverging\":[[0,\"#8e0152\"],[0.1,\"#c51b7d\"],[0.2,\"#de77ae\"],[0.3,\"#f1b6da\"],[0.4,\"#fde0ef\"],[0.5,\"#f7f7f7\"],[0.6,\"#e6f5d0\"],[0.7,\"#b8e186\"],[0.8,\"#7fbc41\"],[0.9,\"#4d9221\"],[1,\"#276419\"]]},\"xaxis\":{\"gridcolor\":\"white\",\"linecolor\":\"white\",\"ticks\":\"\",\"title\":{\"standoff\":15},\"zerolinecolor\":\"white\",\"automargin\":true,\"zerolinewidth\":2},\"yaxis\":{\"gridcolor\":\"white\",\"linecolor\":\"white\",\"ticks\":\"\",\"title\":{\"standoff\":15},\"zerolinecolor\":\"white\",\"automargin\":true,\"zerolinewidth\":2},\"scene\":{\"xaxis\":{\"backgroundcolor\":\"#E5ECF6\",\"gridcolor\":\"white\",\"linecolor\":\"white\",\"showbackground\":true,\"ticks\":\"\",\"zerolinecolor\":\"white\",\"gridwidth\":2},\"yaxis\":{\"backgroundcolor\":\"#E5ECF6\",\"gridcolor\":\"white\",\"linecolor\":\"white\",\"showbackground\":true,\"ticks\":\"\",\"zerolinecolor\":\"white\",\"gridwidth\":2},\"zaxis\":{\"backgroundcolor\":\"#E5ECF6\",\"gridcolor\":\"white\",\"linecolor\":\"white\",\"showbackground\":true,\"ticks\":\"\",\"zerolinecolor\":\"white\",\"gridwidth\":2}},\"shapedefaults\":{\"line\":{\"color\":\"#2a3f5f\"}},\"annotationdefaults\":{\"arrowcolor\":\"#2a3f5f\",\"arrowhead\":0,\"arrowwidth\":1},\"geo\":{\"bgcolor\":\"white\",\"landcolor\":\"#E5ECF6\",\"subunitcolor\":\"white\",\"showland\":true,\"showlakes\":true,\"lakecolor\":\"white\"},\"title\":{\"x\":0.05},\"mapbox\":{\"style\":\"light\"}}},\"title\":{\"text\":\"Month-Over-Month Change in Tow Counts for Top 5 TowingCompanies\"},\"xaxis\":{\"title\":{\"text\":\"Month\"},\"showgrid\":false,\"gridwidth\":1,\"gridcolor\":\"LightGray\",\"showline\":false,\"linewidth\":2,\"linecolor\":\"black\",\"mirror\":false},\"yaxis\":{\"title\":{\"text\":\"Change in Average Number of Tows\"},\"showgrid\":true,\"gridwidth\":1,\"gridcolor\":\"LightGray\",\"showline\":true,\"linewidth\":2,\"linecolor\":\"black\",\"mirror\":false},\"width\":820,\"height\":580,\"showlegend\":true,\"legend\":{\"title\":{\"text\":\"Towing Company\"}},\"plot_bgcolor\":\"white\",\"shapes\":[{\"line\":{\"color\":\"black\",\"width\":1},\"type\":\"line\",\"x0\":0,\"x1\":1,\"xref\":\"x domain\",\"y0\":0,\"y1\":0,\"yref\":\"y\"}]},                        {\"responsive\": true}                    ).then(function(){\n",
              "                            \n",
              "var gd = document.getElementById('2ff5b7c1-8831-4e12-9881-6461c5811d30');\n",
              "var x = new MutationObserver(function (mutations, observer) {{\n",
              "        var display = window.getComputedStyle(gd).display;\n",
              "        if (!display || display === 'none') {{\n",
              "            console.log([gd, 'removed!']);\n",
              "            Plotly.purge(gd);\n",
              "            observer.disconnect();\n",
              "        }}\n",
              "}});\n",
              "\n",
              "// Listen for the removal of the full notebook cells\n",
              "var notebookContainer = gd.closest('#notebook-container');\n",
              "if (notebookContainer) {{\n",
              "    x.observe(notebookContainer, {childList: true});\n",
              "}}\n",
              "\n",
              "// Listen for the clearing of the current output cell\n",
              "var outputEl = gd.closest('.output');\n",
              "if (outputEl) {{\n",
              "    x.observe(outputEl, {childList: true});\n",
              "}}\n",
              "\n",
              "                        })                };                            </script>        </div>\n",
              "</body>\n",
              "</html>"
            ]
          },
          "metadata": {}
        }
      ],
      "source": [
        "# Calculating the monthly rate of change (differential)\n",
        "# built in function\n",
        "monthly_rate_of_change = monthly_avg.diff()\n",
        "\n",
        "# Month-over-Month Changes Plot\n",
        "fig = go.Figure()\n",
        "\n",
        "# Add a trace for each company\n",
        "for idx, company in enumerate(monthly_rate_of_change.columns):\n",
        "    fig.add_trace(\n",
        "        go.Scatter(\n",
        "            x=monthly_rate_of_change.index,\n",
        "            y=monthly_rate_of_change[company],\n",
        "            name=company,\n",
        "            mode='lines',\n",
        "            line=dict(color=colors[idx % len(colors)])  # Use same colors as first plot\n",
        "        )\n",
        "    )\n",
        "\n",
        "# Update layout\n",
        "fig.update_layout(\n",
        "    title='Month-Over-Month Change in Tow Counts for Top 5 TowingCompanies',\n",
        "    xaxis_title='Month',\n",
        "    yaxis_title='Change in Average Number of Tows',\n",
        "    width=820,\n",
        "    height=580,\n",
        "    showlegend=True,\n",
        "    legend_title='Towing Company',\n",
        "    plot_bgcolor='white'\n",
        ")\n",
        "\n",
        "fig.update_xaxes(\n",
        "    showgrid=False,\n",
        "    gridwidth=1,\n",
        "    gridcolor='LightGray',\n",
        "    showline=False,\n",
        "    linewidth=2,\n",
        "    linecolor='black',\n",
        "    mirror=False\n",
        ")\n",
        "fig.update_yaxes(\n",
        "    showgrid=True,\n",
        "    gridwidth=1,\n",
        "    gridcolor='LightGray',\n",
        "    showline=True,\n",
        "    linewidth=2,\n",
        "    linecolor='black',\n",
        "    mirror=False\n",
        ")\n",
        "\n",
        "fig.add_hline(y=0, line_width=1, line_color='black')\n",
        "\n",
        "years = [2022, 2023, 2024]\n",
        "\n",
        "\n",
        "\n",
        "\n",
        "fig.show()"
      ]
    },
    {
      "cell_type": "markdown",
      "metadata": {
        "id": "BGR9Aa8q5iFN"
      },
      "source": [
        "## Bubble Chart - Four Variables\n",
        "\n",
        "A bubble chart is a type of data visualization that displays three dimensions of data using bubbles (circles) on a two-dimensional plane. Like a scatter plot, it uses the x- and y-axes to represent two variables, while the size of each bubble conveys a third variable, usually indicating magnitude or volume. A fourth variable can be included by including color."
      ]
    },
    {
      "cell_type": "code",
      "execution_count": null,
      "metadata": {
        "colab": {
          "base_uri": "https://localhost:8080/",
          "height": 567
        },
        "id": "4RShKa2f5iFN",
        "outputId": "5927bae1-e935-4831-ed82-82d55baaa990"
      },
      "outputs": [
        {
          "output_type": "display_data",
          "data": {
            "text/html": [
              "<html>\n",
              "<head><meta charset=\"utf-8\" /></head>\n",
              "<body>\n",
              "    <div>            <script src=\"https://cdnjs.cloudflare.com/ajax/libs/mathjax/2.7.5/MathJax.js?config=TeX-AMS-MML_SVG\"></script><script type=\"text/javascript\">if (window.MathJax && window.MathJax.Hub && window.MathJax.Hub.Config) {window.MathJax.Hub.Config({SVG: {font: \"STIX-Web\"}});}</script>                <script type=\"text/javascript\">window.PlotlyConfig = {MathJaxConfig: 'local'};</script>\n",
              "        <script charset=\"utf-8\" src=\"https://cdn.plot.ly/plotly-2.35.2.min.js\"></script>                <div id=\"49bfad71-0b49-4df1-a069-309d85ff2a26\" class=\"plotly-graph-div\" style=\"height:550px; width:850px;\"></div>            <script type=\"text/javascript\">                                    window.PLOTLYENV=window.PLOTLYENV || {};                                    if (document.getElementById(\"49bfad71-0b49-4df1-a069-309d85ff2a26\")) {                    Plotly.newPlot(                        \"49bfad71-0b49-4df1-a069-309d85ff2a26\",                        [{\"customdata\":[[6.0,null],[1.0,null],[1.0,null],[1.0,null],[2.0,null],[1.0,null],[3.0,1.319964434],[214.0,-0.309714186],[70.0,-0.249687634],[3.0,-0.192754569],[5.0,1.091128786],[55.0,-0.399157494],[6.0,-0.102842209],[9.0,0.597702203],[30.0,-0.179010853],[48.0,-0.159564832],[290.0,-1.35568558],[490.0,-0.972216662],[327.0,-1.049549819],[2.0,1.012476777],[39.0,-0.305444491],[133.0,0.446043049],[1.0,0.438299937],[2.0,0.922295872],[1.0,2.147070796],[1.0,0.739103031],[6.0,1.140222933],[98.0,0.364111835],[343.0,-1.120029924],[8.0,1.794599659],[1.0,1.478672286],[4.0,1.171829004],[722.0,-1.5765942680000002],[145.0,-0.9463167500000002],[451.0,0.122762747],[649.0,-3.5862623],[81.0,-1.570882673],[231.0,-0.04314458],[100.0,-0.824263361],[406.0,-2.101966193],[387.0,-1.291164636],[373.0,-4.278186244],[919.0,-3.454763079],[164.0,-2.079168304],[68.0,-2.862112912],[158.0,-1.086497841],[149.0,-1.41699752],[170.0,-0.9639017539999999],[276.0,-2.96515507],[228.0,-3.082368293],[165.0,-1.6726714140000003],[265.0,0.100024888],[228.0,-1.65517239],[422.0,-1.195915001],[707.0,-1.629025681],[521.0,-1.491727945],[1061.0,-2.58091137],[155.0,-0.715623795],[417.0,-2.388102788],[203.0,-1.973513434],[36.0,1.10749399],[30.0,2.188377196],[13.0,1.75122976],[3.0,0.604844759],[232.0,-1.97878389],[109.0,-1.615417834],[113.0,-1.056241455],[251.0,-1.966879089],[5.0,0.159015344],[11.0,-0.571238661],[502.0,-1.773561748],[655.0,-1.173539814],[335.0,-0.300363206],[187.0,-1.280616778],[34.0,-0.751817087],[115.0,-2.317012215],[619.0,-1.7195528250000003],[293.0,-0.944937264],[73.0,0.652439702],[54.0,2.193879283],[176.0,0.628879202],[37.0,-0.259152383],[5.0,-0.148024138],[73.0,-1.202846037],[300.0,-1.107306411],[130.0,2.533604315],[253.0,2.345629818],[39.0,1.7735551899999997],[167.0,-0.154575246],[2.0,1.310370717],[75.0,1.345153093],[141.0,-0.020066634],[138.0,0.071582379],[268.0,-0.919601169],[210.0,-2.902406434],[1.0,2.033722312],[235.0,0.08404812],[35.0,1.184986793],[138.0,1.061174066],[1.0,1.442292723],[4.0,0.959445311],[9.0,1.309170978],[4.0,0.841846861],[20.0,0.847939015],[76.0,1.420095807],[57.0,0.038182195],[8.0,0.887711065],[1.0,0.927685451],[1.0,0.818436262],[8.0,0.135044823],[16.0,0.564135378],[124.0,-0.80625335],[24.0,-0.3310261],[657.0,-2.187153316],[45.0,-0.249614314],[518.0,-3.801976425],[718.0,-1.688415525],[3.0,-0.754686843],[218.0,-0.444057097],[269.0,-0.705122872],[35.0,-0.333396945],[4.0,-0.142501128],[829.0,-1.541899408],[20.0,1.09867048],[4.0,0.303046568],[306.0,-2.686825204],[696.0,-3.241302245],[527.0,-3.404441878],[247.0,-3.977491624],[47.0,-0.257323955],[112.0,-2.10180386],[36.0,-1.150793758],[25.0,-0.012350541999999999],[195.0,-0.813544394],[31.0,-2.884229228],[177.0,-3.8300251030000005],[268.0,-2.582170904],[58.0,1.414215238],[32.0,1.4698784],[168.0,-2.379632072],[241.0,-0.581042771],[38.0,1.425233507],[330.0,-0.503462483],[632.0,0.65402776],[649.0,-1.784646018],[729.0,-0.9531079430000001],[224.0,-1.805615393],[241.0,-0.552906685],[88.0,-1.273698479],[186.0,-1.161971428],[168.0,0.852709224],[98.0,1.961488971],[11.0,1.413365394],[16.0,0.476831957],[7.0,-0.244041153],[73.0,0.524498892],[237.0,-0.39884669],[519.0,-2.072772307],[4.0,1.110569916],[869.0,-1.10180402],[12.0,0.8884374459999999],[824.0,-3.564512219],[996.0,-3.7564408790000003],[70.0,-1.521543695],[107.0,-1.121952542],[3.0,0.951084829],[1.0,0.951300358],[305.0,-1.288604215],[48.0,0.079732141],[316.0,-1.93082312],[62.0,0.313953987],[5.0,-1.160246577],[14.0,-1.91391228],[31.0,-1.947637189],[3.0,-0.898481937],[13.0,-1.296245938],[2.0,-1.943585606],[127.0,-2.379813901],[32.0,-0.006871662],[25.0,0.436520491],[1.0,1.143217439],[13.0,-2.391876326],[11.0,-1.30653247],[1149.0,-1.042312512],[3.0,0.814490797],[185.0,-0.948967743],[110.0,-0.49392373],[35.0,1.035958563],[4.0,2.006345128],[8.0,2.499828592],[47.0,0.9673697800000001],[51.0,1.719463941],[1.0,1.896818692],[1.0,2.966380324],[29.0,2.580947695],[60.0,4.973167319],[202.0,0.40261293200000003],[46.0,2.50969228],[25.0,0.198737034],[260.0,0.305417712],[28.0,2.342400635],[21.0,3.693592854],[4.0,6.172476691],[3.0,4.848999812],[52.0,4.140439762],[27.0,3.205426349],[43.0,1.9859999],[3.0,3.592154877],[2.0,3.901357529],[2.0,3.525737068],[1.0,3.322366529],[6.0,5.37018368],[1.0,3.274384714],[216.0,-0.138705677],[1.0,null],[1.0,null],[1.0,null],[2.0,null]],\"hovertemplate\":\"Median Household Income=%{x:,.0f}\\u003cbr\\u003ePopulation Density=%{y:,.0f}\\u003cbr\\u003eNumber of Tows=%{customdata[0]}\\u003cbr\\u003eCommunity Equity Index=%{marker.color:.2f}\\u003cextra\\u003e\\u003c\\u002fextra\\u003e\",\"legendgroup\":\"\",\"marker\":{\"color\":[null,null,null,null,null,null,1.319964434,-0.309714186,-0.249687634,-0.192754569,1.091128786,-0.399157494,-0.102842209,0.597702203,-0.179010853,-0.159564832,-1.35568558,-0.972216662,-1.049549819,1.012476777,-0.305444491,0.446043049,0.438299937,0.922295872,2.147070796,0.739103031,1.140222933,0.364111835,-1.120029924,1.794599659,1.478672286,1.171829004,-1.5765942680000002,-0.9463167500000002,0.122762747,-3.5862623,-1.570882673,-0.04314458,-0.824263361,-2.101966193,-1.291164636,-4.278186244,-3.454763079,-2.079168304,-2.862112912,-1.086497841,-1.41699752,-0.9639017539999999,-2.96515507,-3.082368293,-1.6726714140000003,0.100024888,-1.65517239,-1.195915001,-1.629025681,-1.491727945,-2.58091137,-0.715623795,-2.388102788,-1.973513434,1.10749399,2.188377196,1.75122976,0.604844759,-1.97878389,-1.615417834,-1.056241455,-1.966879089,0.159015344,-0.571238661,-1.773561748,-1.173539814,-0.300363206,-1.280616778,-0.751817087,-2.317012215,-1.7195528250000003,-0.944937264,0.652439702,2.193879283,0.628879202,-0.259152383,-0.148024138,-1.202846037,-1.107306411,2.533604315,2.345629818,1.7735551899999997,-0.154575246,1.310370717,1.345153093,-0.020066634,0.071582379,-0.919601169,-2.902406434,2.033722312,0.08404812,1.184986793,1.061174066,1.442292723,0.959445311,1.309170978,0.841846861,0.847939015,1.420095807,0.038182195,0.887711065,0.927685451,0.818436262,0.135044823,0.564135378,-0.80625335,-0.3310261,-2.187153316,-0.249614314,-3.801976425,-1.688415525,-0.754686843,-0.444057097,-0.705122872,-0.333396945,-0.142501128,-1.541899408,1.09867048,0.303046568,-2.686825204,-3.241302245,-3.404441878,-3.977491624,-0.257323955,-2.10180386,-1.150793758,-0.012350541999999999,-0.813544394,-2.884229228,-3.8300251030000005,-2.582170904,1.414215238,1.4698784,-2.379632072,-0.581042771,1.425233507,-0.503462483,0.65402776,-1.784646018,-0.9531079430000001,-1.805615393,-0.552906685,-1.273698479,-1.161971428,0.852709224,1.961488971,1.413365394,0.476831957,-0.244041153,0.524498892,-0.39884669,-2.072772307,1.110569916,-1.10180402,0.8884374459999999,-3.564512219,-3.7564408790000003,-1.521543695,-1.121952542,0.951084829,0.951300358,-1.288604215,0.079732141,-1.93082312,0.313953987,-1.160246577,-1.91391228,-1.947637189,-0.898481937,-1.296245938,-1.943585606,-2.379813901,-0.006871662,0.436520491,1.143217439,-2.391876326,-1.30653247,-1.042312512,0.814490797,-0.948967743,-0.49392373,1.035958563,2.006345128,2.499828592,0.9673697800000001,1.719463941,1.896818692,2.966380324,2.580947695,4.973167319,0.40261293200000003,2.50969228,0.198737034,0.305417712,2.342400635,3.693592854,6.172476691,4.848999812,4.140439762,3.205426349,1.9859999,3.592154877,3.901357529,3.525737068,3.322366529,5.37018368,3.274384714,-0.138705677,null,null,null,null],\"coloraxis\":\"coloraxis\",\"size\":[6,1,1,1,2,1,3,214,70,3,5,55,6,9,30,48,290,490,327,2,39,133,1,2,1,1,6,98,343,8,1,4,722,145,451,649,81,231,100,406,387,373,919,164,68,158,149,170,276,228,165,265,228,422,707,521,1061,155,417,203,36,30,13,3,232,109,113,251,5,11,502,655,335,187,34,115,619,293,73,54,176,37,5,73,300,130,253,39,167,2,75,141,138,268,210,1,235,35,138,1,4,9,4,20,76,57,8,1,1,8,16,124,24,657,45,518,718,3,218,269,35,4,829,20,4,306,696,527,247,47,112,36,25,195,31,177,268,58,32,168,241,38,330,632,649,729,224,241,88,186,168,98,11,16,7,73,237,519,4,869,12,824,996,70,107,3,1,305,48,316,62,5,14,31,3,13,2,127,32,25,1,13,11,1149,3,185,110,35,4,8,47,51,1,1,29,60,202,46,25,260,28,21,4,3,52,27,43,3,2,2,1,6,1,216,1,1,1,2],\"sizemode\":\"area\",\"sizeref\":0.4596,\"symbol\":\"circle\",\"line\":{\"color\":\"black\",\"width\":1}},\"mode\":\"markers\",\"name\":\"\",\"orientation\":\"v\",\"showlegend\":false,\"x\":[null,null,null,null,null,null,168717.0,116576.0,128063.0,109952.0,159523.0,124205.0,127750.0,164528.0,143713.0,121875.0,100847.0,94109.0,118506.0,205625.0,144688.0,151776.0,160388.0,183409.0,250001.0,156548.0,189444.0,167292.0,82033.0,185303.0,164803.0,199948.0,84875.0,137000.0,112925.0,57067.0,98352.0,119356.0,142857.0,58813.0,95556.0,63646.0,72344.0,78402.0,80150.0,125924.0,111750.0,115956.0,54432.0,86442.0,85763.0,147125.0,84923.0,90250.0,89253.0,107368.0,74940.0,108333.0,81312.0,73380.0,175857.0,211563.0,158846.0,153833.0,79554.0,95844.0,104701.0,95868.0,151756.0,90357.0,99712.0,103179.0,134659.0,85133.0,114444.0,99099.0,89321.0,101600.0,140096.0,209861.0,146346.0,109558.0,145735.0,115972.0,131150.0,217813.0,248100.0,234569.0,120764.0,188958.0,114483.0,112206.0,105296.0,85925.0,68107.0,235285.0,175200.0,164201.0,124917.0,197328.0,163852.0,159228.0,147717.0,189500.0,169085.0,150200.0,160833.0,190685.0,155625.0,126750.0,196063.0,123578.0,111050.0,81803.0,111051.0,50000.0,90429.0,140256.0,102121.0,128214.0,116250.0,154104.0,103841.0,171419.0,133625.0,75409.0,58936.0,74688.0,66323.0,101959.0,59758.0,106216.0,103625.0,104375.0,73500.0,57321.0,80850.0,223250.0,187639.0,81214.0,97644.0,182566.0,88403.0,92368.0,83286.0,77500.0,100469.0,110647.0,77714.0,103824.0,129853.0,162000.0,156250.0,160833.0,171164.0,148982.0,134226.0,92083.0,192614.0,78073.0,151089.0,65357.0,65307.0,94127.0,46087.0,77684.0,65760.0,106875.0,134643.0,90952.0,162895.0,119375.0,104500.0,97955.0,128036.0,120046.0,92727.0,86571.0,120268.0,118654.0,149524.0,116019.0,115364.0,90250.0,175417.0,108472.0,113542.0,143021.0,208000.0,245417.0,92167.0,190618.0,222841.0,250001.0,214762.0,250001.0,82207.0,143836.0,140469.0,98000.0,197112.0,232063.0,250001.0,250001.0,201705.0,133261.0,190729.0,217778.0,247375.0,250001.0,250001.0,250001.0,250001.0,76216.0,null,null,null,null],\"xaxis\":\"x\",\"y\":[null,null,null,null,12.1528934126,2.449559357,5.911399224399999,8.522205679999999,6.625559016333334,0.2192942935,2.537215195666666,3.4750913345,2.536386972666667,2.5512618875,9.1117829202,13.358812968499999,13.966612988,22.607813156,null,null,null,null,null,2.213429805,0.852385811142857,6.119600284333333,2.4818497465,5.56067060675,19.43895732,7.746966233333333,null,null,6.824773519,11.2682005772,6.097449121333334,34.042741701333334,15.444920765,8.8617248585,13.08055777,33.49538561,25.753584728333333,18.58864424,null,null,null,null,null,null,null,null,null,11.890722006333334,13.527853037666667,12.257144291,12.275379850250001,14.0115104275,15.79380714525,18.1906185725,13.61936283,11.79278562,9.3412551635,14.467760879999998,12.735038968666666,8.318649969,7.179625875,14.161710400000002,11.029692865,22.477000876666665,7.671396378500001,null,null,null,null,14.53110449,25.33725970933333,4.522155869,13.0962783425,22.644123415,6.503976196833334,6.532243249166665,9.3188784125,5.6216581255,5.881162915833333,6.279002945705883,8.699459742916668,21.2394743035,4.7060599666666665,6.1636545455,7.968754865333333,2.3538127356666667,18.39130681,40.0750753175,22.088343915,15.233274566666664,10.15973284,2.944739665,6.5628521095,null,null,9.575763344375,1.772976382,1.5084452985,7.19602801325,6.073148782,9.513905606,8.39239151,1.161959658,2.8089293623333336,3.706661928666667,2.0303719745,3.3720952606666668,7.54492453075,7.564763722799999,15.851411714749998,14.02215412,37.691793185,21.68070131,null,null,null,null,7.25314905625,23.42285417833333,4.569640870333333,4.447263068000001,38.69159448,19.97047058925,19.6700840088,26.57814710957143,18.454059845333333,22.841932105,13.706019763333336,10.0130393575,10.54611412885714,32.50366788666667,24.78840523333333,17.62386970642857,23.4528061258,8.1471423855,29.587108415,16.633702649333333,12.24686832,13.758783194,14.6879256182,25.07675234033333,null,22.7769749012,11.580128263333334,null,8.0869513796,22.59165606383333,7.114277635249999,4.190183148375,10.144222931153848,6.070947585333333,4.8283644098,7.305124281,27.1327690875,8.265259786249999,25.192200823333334,12.372943155000002,45.62357798333332,30.74695947,12.278304054,12.256664173666667,14.614923822499998,16.223008516666667,9.798226463333334,8.536248199,null,null,14.1320272775,13.807059474333334,13.907466195,11.771795015,12.839905463333334,21.731567865,19.6158763375,9.882220018,11.24551045,10.84876179,21.67393943,13.580668337499999,12.78971282,12.012978096666666,14.068299366000002,13.943614807,4.42055979425,10.23977975825,6.635598229,25.25162091,10.15048501625,7.788317077499999,10.443472722,8.041564729500001,4.793378803,28.459383176666663,20.1695086,38.503400985,33.2865606,10.27650488425,3.8222027174444446,3.8140095784,4.2470016415,8.044385579,41.476539,9.81963651525,8.920992176666667,4.926360050666666,4.087888397,5.016401143,6.712640590666666,3.637380196,17.650887550666667,10.537955053875,12.765307812285714,null,0.2843545495],\"yaxis\":\"y\",\"type\":\"scatter\"}],                        {\"template\":{\"data\":{\"barpolar\":[{\"marker\":{\"line\":{\"color\":\"white\",\"width\":0.5},\"pattern\":{\"fillmode\":\"overlay\",\"size\":10,\"solidity\":0.2}},\"type\":\"barpolar\"}],\"bar\":[{\"error_x\":{\"color\":\"rgb(36,36,36)\"},\"error_y\":{\"color\":\"rgb(36,36,36)\"},\"marker\":{\"line\":{\"color\":\"white\",\"width\":0.5},\"pattern\":{\"fillmode\":\"overlay\",\"size\":10,\"solidity\":0.2}},\"type\":\"bar\"}],\"carpet\":[{\"aaxis\":{\"endlinecolor\":\"rgb(36,36,36)\",\"gridcolor\":\"white\",\"linecolor\":\"white\",\"minorgridcolor\":\"white\",\"startlinecolor\":\"rgb(36,36,36)\"},\"baxis\":{\"endlinecolor\":\"rgb(36,36,36)\",\"gridcolor\":\"white\",\"linecolor\":\"white\",\"minorgridcolor\":\"white\",\"startlinecolor\":\"rgb(36,36,36)\"},\"type\":\"carpet\"}],\"choropleth\":[{\"colorbar\":{\"outlinewidth\":1,\"tickcolor\":\"rgb(36,36,36)\",\"ticks\":\"outside\"},\"type\":\"choropleth\"}],\"contourcarpet\":[{\"colorbar\":{\"outlinewidth\":1,\"tickcolor\":\"rgb(36,36,36)\",\"ticks\":\"outside\"},\"type\":\"contourcarpet\"}],\"contour\":[{\"colorbar\":{\"outlinewidth\":1,\"tickcolor\":\"rgb(36,36,36)\",\"ticks\":\"outside\"},\"colorscale\":[[0.0,\"#440154\"],[0.1111111111111111,\"#482878\"],[0.2222222222222222,\"#3e4989\"],[0.3333333333333333,\"#31688e\"],[0.4444444444444444,\"#26828e\"],[0.5555555555555556,\"#1f9e89\"],[0.6666666666666666,\"#35b779\"],[0.7777777777777778,\"#6ece58\"],[0.8888888888888888,\"#b5de2b\"],[1.0,\"#fde725\"]],\"type\":\"contour\"}],\"heatmapgl\":[{\"colorbar\":{\"outlinewidth\":1,\"tickcolor\":\"rgb(36,36,36)\",\"ticks\":\"outside\"},\"colorscale\":[[0.0,\"#440154\"],[0.1111111111111111,\"#482878\"],[0.2222222222222222,\"#3e4989\"],[0.3333333333333333,\"#31688e\"],[0.4444444444444444,\"#26828e\"],[0.5555555555555556,\"#1f9e89\"],[0.6666666666666666,\"#35b779\"],[0.7777777777777778,\"#6ece58\"],[0.8888888888888888,\"#b5de2b\"],[1.0,\"#fde725\"]],\"type\":\"heatmapgl\"}],\"heatmap\":[{\"colorbar\":{\"outlinewidth\":1,\"tickcolor\":\"rgb(36,36,36)\",\"ticks\":\"outside\"},\"colorscale\":[[0.0,\"#440154\"],[0.1111111111111111,\"#482878\"],[0.2222222222222222,\"#3e4989\"],[0.3333333333333333,\"#31688e\"],[0.4444444444444444,\"#26828e\"],[0.5555555555555556,\"#1f9e89\"],[0.6666666666666666,\"#35b779\"],[0.7777777777777778,\"#6ece58\"],[0.8888888888888888,\"#b5de2b\"],[1.0,\"#fde725\"]],\"type\":\"heatmap\"}],\"histogram2dcontour\":[{\"colorbar\":{\"outlinewidth\":1,\"tickcolor\":\"rgb(36,36,36)\",\"ticks\":\"outside\"},\"colorscale\":[[0.0,\"#440154\"],[0.1111111111111111,\"#482878\"],[0.2222222222222222,\"#3e4989\"],[0.3333333333333333,\"#31688e\"],[0.4444444444444444,\"#26828e\"],[0.5555555555555556,\"#1f9e89\"],[0.6666666666666666,\"#35b779\"],[0.7777777777777778,\"#6ece58\"],[0.8888888888888888,\"#b5de2b\"],[1.0,\"#fde725\"]],\"type\":\"histogram2dcontour\"}],\"histogram2d\":[{\"colorbar\":{\"outlinewidth\":1,\"tickcolor\":\"rgb(36,36,36)\",\"ticks\":\"outside\"},\"colorscale\":[[0.0,\"#440154\"],[0.1111111111111111,\"#482878\"],[0.2222222222222222,\"#3e4989\"],[0.3333333333333333,\"#31688e\"],[0.4444444444444444,\"#26828e\"],[0.5555555555555556,\"#1f9e89\"],[0.6666666666666666,\"#35b779\"],[0.7777777777777778,\"#6ece58\"],[0.8888888888888888,\"#b5de2b\"],[1.0,\"#fde725\"]],\"type\":\"histogram2d\"}],\"histogram\":[{\"marker\":{\"line\":{\"color\":\"white\",\"width\":0.6}},\"type\":\"histogram\"}],\"mesh3d\":[{\"colorbar\":{\"outlinewidth\":1,\"tickcolor\":\"rgb(36,36,36)\",\"ticks\":\"outside\"},\"type\":\"mesh3d\"}],\"parcoords\":[{\"line\":{\"colorbar\":{\"outlinewidth\":1,\"tickcolor\":\"rgb(36,36,36)\",\"ticks\":\"outside\"}},\"type\":\"parcoords\"}],\"pie\":[{\"automargin\":true,\"type\":\"pie\"}],\"scatter3d\":[{\"line\":{\"colorbar\":{\"outlinewidth\":1,\"tickcolor\":\"rgb(36,36,36)\",\"ticks\":\"outside\"}},\"marker\":{\"colorbar\":{\"outlinewidth\":1,\"tickcolor\":\"rgb(36,36,36)\",\"ticks\":\"outside\"}},\"type\":\"scatter3d\"}],\"scattercarpet\":[{\"marker\":{\"colorbar\":{\"outlinewidth\":1,\"tickcolor\":\"rgb(36,36,36)\",\"ticks\":\"outside\"}},\"type\":\"scattercarpet\"}],\"scattergeo\":[{\"marker\":{\"colorbar\":{\"outlinewidth\":1,\"tickcolor\":\"rgb(36,36,36)\",\"ticks\":\"outside\"}},\"type\":\"scattergeo\"}],\"scattergl\":[{\"marker\":{\"colorbar\":{\"outlinewidth\":1,\"tickcolor\":\"rgb(36,36,36)\",\"ticks\":\"outside\"}},\"type\":\"scattergl\"}],\"scattermapbox\":[{\"marker\":{\"colorbar\":{\"outlinewidth\":1,\"tickcolor\":\"rgb(36,36,36)\",\"ticks\":\"outside\"}},\"type\":\"scattermapbox\"}],\"scatterpolargl\":[{\"marker\":{\"colorbar\":{\"outlinewidth\":1,\"tickcolor\":\"rgb(36,36,36)\",\"ticks\":\"outside\"}},\"type\":\"scatterpolargl\"}],\"scatterpolar\":[{\"marker\":{\"colorbar\":{\"outlinewidth\":1,\"tickcolor\":\"rgb(36,36,36)\",\"ticks\":\"outside\"}},\"type\":\"scatterpolar\"}],\"scatter\":[{\"fillpattern\":{\"fillmode\":\"overlay\",\"size\":10,\"solidity\":0.2},\"type\":\"scatter\"}],\"scatterternary\":[{\"marker\":{\"colorbar\":{\"outlinewidth\":1,\"tickcolor\":\"rgb(36,36,36)\",\"ticks\":\"outside\"}},\"type\":\"scatterternary\"}],\"surface\":[{\"colorbar\":{\"outlinewidth\":1,\"tickcolor\":\"rgb(36,36,36)\",\"ticks\":\"outside\"},\"colorscale\":[[0.0,\"#440154\"],[0.1111111111111111,\"#482878\"],[0.2222222222222222,\"#3e4989\"],[0.3333333333333333,\"#31688e\"],[0.4444444444444444,\"#26828e\"],[0.5555555555555556,\"#1f9e89\"],[0.6666666666666666,\"#35b779\"],[0.7777777777777778,\"#6ece58\"],[0.8888888888888888,\"#b5de2b\"],[1.0,\"#fde725\"]],\"type\":\"surface\"}],\"table\":[{\"cells\":{\"fill\":{\"color\":\"rgb(237,237,237)\"},\"line\":{\"color\":\"white\"}},\"header\":{\"fill\":{\"color\":\"rgb(217,217,217)\"},\"line\":{\"color\":\"white\"}},\"type\":\"table\"}]},\"layout\":{\"annotationdefaults\":{\"arrowhead\":0,\"arrowwidth\":1},\"autotypenumbers\":\"strict\",\"coloraxis\":{\"colorbar\":{\"outlinewidth\":1,\"tickcolor\":\"rgb(36,36,36)\",\"ticks\":\"outside\"}},\"colorscale\":{\"diverging\":[[0.0,\"rgb(103,0,31)\"],[0.1,\"rgb(178,24,43)\"],[0.2,\"rgb(214,96,77)\"],[0.3,\"rgb(244,165,130)\"],[0.4,\"rgb(253,219,199)\"],[0.5,\"rgb(247,247,247)\"],[0.6,\"rgb(209,229,240)\"],[0.7,\"rgb(146,197,222)\"],[0.8,\"rgb(67,147,195)\"],[0.9,\"rgb(33,102,172)\"],[1.0,\"rgb(5,48,97)\"]],\"sequential\":[[0.0,\"#440154\"],[0.1111111111111111,\"#482878\"],[0.2222222222222222,\"#3e4989\"],[0.3333333333333333,\"#31688e\"],[0.4444444444444444,\"#26828e\"],[0.5555555555555556,\"#1f9e89\"],[0.6666666666666666,\"#35b779\"],[0.7777777777777778,\"#6ece58\"],[0.8888888888888888,\"#b5de2b\"],[1.0,\"#fde725\"]],\"sequentialminus\":[[0.0,\"#440154\"],[0.1111111111111111,\"#482878\"],[0.2222222222222222,\"#3e4989\"],[0.3333333333333333,\"#31688e\"],[0.4444444444444444,\"#26828e\"],[0.5555555555555556,\"#1f9e89\"],[0.6666666666666666,\"#35b779\"],[0.7777777777777778,\"#6ece58\"],[0.8888888888888888,\"#b5de2b\"],[1.0,\"#fde725\"]]},\"colorway\":[\"#1F77B4\",\"#FF7F0E\",\"#2CA02C\",\"#D62728\",\"#9467BD\",\"#8C564B\",\"#E377C2\",\"#7F7F7F\",\"#BCBD22\",\"#17BECF\"],\"font\":{\"color\":\"rgb(36,36,36)\"},\"geo\":{\"bgcolor\":\"white\",\"lakecolor\":\"white\",\"landcolor\":\"white\",\"showlakes\":true,\"showland\":true,\"subunitcolor\":\"white\"},\"hoverlabel\":{\"align\":\"left\"},\"hovermode\":\"closest\",\"mapbox\":{\"style\":\"light\"},\"paper_bgcolor\":\"white\",\"plot_bgcolor\":\"white\",\"polar\":{\"angularaxis\":{\"gridcolor\":\"rgb(232,232,232)\",\"linecolor\":\"rgb(36,36,36)\",\"showgrid\":false,\"showline\":true,\"ticks\":\"outside\"},\"bgcolor\":\"white\",\"radialaxis\":{\"gridcolor\":\"rgb(232,232,232)\",\"linecolor\":\"rgb(36,36,36)\",\"showgrid\":false,\"showline\":true,\"ticks\":\"outside\"}},\"scene\":{\"xaxis\":{\"backgroundcolor\":\"white\",\"gridcolor\":\"rgb(232,232,232)\",\"gridwidth\":2,\"linecolor\":\"rgb(36,36,36)\",\"showbackground\":true,\"showgrid\":false,\"showline\":true,\"ticks\":\"outside\",\"zeroline\":false,\"zerolinecolor\":\"rgb(36,36,36)\"},\"yaxis\":{\"backgroundcolor\":\"white\",\"gridcolor\":\"rgb(232,232,232)\",\"gridwidth\":2,\"linecolor\":\"rgb(36,36,36)\",\"showbackground\":true,\"showgrid\":false,\"showline\":true,\"ticks\":\"outside\",\"zeroline\":false,\"zerolinecolor\":\"rgb(36,36,36)\"},\"zaxis\":{\"backgroundcolor\":\"white\",\"gridcolor\":\"rgb(232,232,232)\",\"gridwidth\":2,\"linecolor\":\"rgb(36,36,36)\",\"showbackground\":true,\"showgrid\":false,\"showline\":true,\"ticks\":\"outside\",\"zeroline\":false,\"zerolinecolor\":\"rgb(36,36,36)\"}},\"shapedefaults\":{\"fillcolor\":\"black\",\"line\":{\"width\":0},\"opacity\":0.3},\"ternary\":{\"aaxis\":{\"gridcolor\":\"rgb(232,232,232)\",\"linecolor\":\"rgb(36,36,36)\",\"showgrid\":false,\"showline\":true,\"ticks\":\"outside\"},\"baxis\":{\"gridcolor\":\"rgb(232,232,232)\",\"linecolor\":\"rgb(36,36,36)\",\"showgrid\":false,\"showline\":true,\"ticks\":\"outside\"},\"bgcolor\":\"white\",\"caxis\":{\"gridcolor\":\"rgb(232,232,232)\",\"linecolor\":\"rgb(36,36,36)\",\"showgrid\":false,\"showline\":true,\"ticks\":\"outside\"}},\"title\":{\"x\":0.05},\"xaxis\":{\"automargin\":true,\"gridcolor\":\"rgb(232,232,232)\",\"linecolor\":\"rgb(36,36,36)\",\"showgrid\":false,\"showline\":true,\"ticks\":\"outside\",\"title\":{\"standoff\":15},\"zeroline\":false,\"zerolinecolor\":\"rgb(36,36,36)\"},\"yaxis\":{\"automargin\":true,\"gridcolor\":\"rgb(232,232,232)\",\"linecolor\":\"rgb(36,36,36)\",\"showgrid\":false,\"showline\":true,\"ticks\":\"outside\",\"title\":{\"standoff\":15},\"zeroline\":false,\"zerolinecolor\":\"rgb(36,36,36)\"}}},\"xaxis\":{\"anchor\":\"y\",\"domain\":[0.0,1.0],\"title\":{\"text\":\"Median Household Income\"}},\"yaxis\":{\"anchor\":\"x\",\"domain\":[0.0,1.0],\"title\":{\"text\":\"Population Density\"}},\"coloraxis\":{\"colorbar\":{\"title\":{\"text\":\"CEI\"}},\"colorscale\":[[0.0,\"rgb(165,0,38)\"],[0.1,\"rgb(215,48,39)\"],[0.2,\"rgb(244,109,67)\"],[0.3,\"rgb(253,174,97)\"],[0.4,\"rgb(254,224,144)\"],[0.5,\"rgb(255,255,191)\"],[0.6,\"rgb(224,243,248)\"],[0.7,\"rgb(171,217,233)\"],[0.8,\"rgb(116,173,209)\"],[0.9,\"rgb(69,117,180)\"],[1.0,\"rgb(49,54,149)\"]]},\"legend\":{\"tracegroupgap\":0,\"itemsizing\":\"constant\"},\"title\":{\"text\":\"Income vs Population Density with Number of Towing Incidents\",\"font\":{\"size\":18}},\"plot_bgcolor\":\"white\",\"width\":850,\"height\":550},                        {\"responsive\": true}                    ).then(function(){\n",
              "                            \n",
              "var gd = document.getElementById('49bfad71-0b49-4df1-a069-309d85ff2a26');\n",
              "var x = new MutationObserver(function (mutations, observer) {{\n",
              "        var display = window.getComputedStyle(gd).display;\n",
              "        if (!display || display === 'none') {{\n",
              "            console.log([gd, 'removed!']);\n",
              "            Plotly.purge(gd);\n",
              "            observer.disconnect();\n",
              "        }}\n",
              "}});\n",
              "\n",
              "// Listen for the removal of the full notebook cells\n",
              "var notebookContainer = gd.closest('#notebook-container');\n",
              "if (notebookContainer) {{\n",
              "    x.observe(notebookContainer, {childList: true});\n",
              "}}\n",
              "\n",
              "// Listen for the clearing of the current output cell\n",
              "var outputEl = gd.closest('.output');\n",
              "if (outputEl) {{\n",
              "    x.observe(outputEl, {childList: true});\n",
              "}}\n",
              "\n",
              "                        })                };                            </script>        </div>\n",
              "</body>\n",
              "</html>"
            ]
          },
          "metadata": {}
        }
      ],
      "source": [
        "# Group the data by 'TractFIPS' to aggregate the number of tows per tract\n",
        "\n",
        "# MC divided into 148 Tract\n",
        "grouped_data = tows.groupby('TractFIPS').agg({\n",
        "    'median_household_income': 'mean',   # Mean income for each tract\n",
        "    'pop_density': 'mean',               # Mean population density for each tract\n",
        "    'cei':'mean',\n",
        "    'geoid': 'count'                # Number of tows in each tract, assuming 'Unnamed: 0' is a unique identifier\n",
        "}).reset_index()\n",
        "\n",
        "# Rename columns for better understanding\n",
        "grouped_data.rename(columns={'geoid': 'number_of_tows'}, inplace=True)\n",
        "\n",
        "\n",
        "fig = px.scatter(grouped_data,\n",
        "    x='median_household_income',\n",
        "    y='pop_density',\n",
        "    size='number_of_tows',\n",
        "    color='cei',\n",
        "    color_continuous_scale='RdYlBu',\n",
        "    size_max=50,  # Maximum bubble size\n",
        "    hover_data={\n",
        "        'median_household_income': ':,.0f',\n",
        "        'pop_density': ':,.0f',\n",
        "        'number_of_tows': True,\n",
        "        'cei': ':.2f'\n",
        "    },\n",
        "    template='simple_white',\n",
        "    title='Income vs Population Density with Number of Towing Incidents',\n",
        "    labels={\n",
        "        'median_household_income': 'Median Household Income',\n",
        "        'pop_density': 'Population Density',\n",
        "        'number_of_tows': 'Number of Tows',\n",
        "        'cei': 'Community Equity Index'\n",
        "    }\n",
        ")\n",
        "\n",
        "# Update layout for better visualization\n",
        "fig.update_layout(\n",
        "    plot_bgcolor='white',\n",
        "    width=850,\n",
        "    height=550,\n",
        "    coloraxis_colorbar_title='CEI',\n",
        "    title_font_size=18\n",
        ")\n",
        "\n",
        "fig.update_traces(marker=dict(line=dict(color='black', width=1)))\n",
        "\n",
        "# Show the plot\n",
        "fig.show()\n"
      ]
    },
    {
      "cell_type": "markdown",
      "metadata": {
        "id": "Ce0bf5gL5iFO"
      },
      "source": [
        "#### What if we remove outliers?"
      ]
    },
    {
      "cell_type": "code",
      "execution_count": null,
      "metadata": {
        "colab": {
          "base_uri": "https://localhost:8080/",
          "height": 567
        },
        "id": "WYZjxrje5iFO",
        "outputId": "bab8548c-6f31-4214-f3eb-f55b1169d998"
      },
      "outputs": [
        {
          "output_type": "display_data",
          "data": {
            "text/html": [
              "<html>\n",
              "<head><meta charset=\"utf-8\" /></head>\n",
              "<body>\n",
              "    <div>            <script src=\"https://cdnjs.cloudflare.com/ajax/libs/mathjax/2.7.5/MathJax.js?config=TeX-AMS-MML_SVG\"></script><script type=\"text/javascript\">if (window.MathJax && window.MathJax.Hub && window.MathJax.Hub.Config) {window.MathJax.Hub.Config({SVG: {font: \"STIX-Web\"}});}</script>                <script type=\"text/javascript\">window.PlotlyConfig = {MathJaxConfig: 'local'};</script>\n",
              "        <script charset=\"utf-8\" src=\"https://cdn.plot.ly/plotly-2.35.2.min.js\"></script>                <div id=\"c585a3ab-5b16-4428-8255-ce1c1c5cba19\" class=\"plotly-graph-div\" style=\"height:550px; width:850px;\"></div>            <script type=\"text/javascript\">                                    window.PLOTLYENV=window.PLOTLYENV || {};                                    if (document.getElementById(\"c585a3ab-5b16-4428-8255-ce1c1c5cba19\")) {                    Plotly.newPlot(                        \"c585a3ab-5b16-4428-8255-ce1c1c5cba19\",                        [{\"customdata\":[[2.0,null],[1.0,null],[3.0,1.319964434],[214.0,-0.309714186],[70.0,-0.249687634],[3.0,-0.192754569],[5.0,1.091128786],[55.0,-0.399157494],[6.0,-0.102842209],[9.0,0.597702203],[30.0,-0.179010853],[48.0,-0.159564832],[290.0,-1.35568558],[489.0,-0.972216662],[2.0,0.922295872],[1.0,2.147070796],[1.0,0.739103031],[6.0,1.140222933],[98.0,0.364111835],[343.0,-1.120029924],[8.0,1.794599659],[722.0,-1.5765942680000002],[145.0,-0.9463167500000002],[451.0,0.122762747],[649.0,-3.5862623],[81.0,-1.570882673],[231.0,-0.04314458],[100.0,-0.824263361],[406.0,-2.101966193],[387.0,-1.291164636],[373.0,-4.278186244],[265.0,0.100024888],[228.0,-1.65517239],[422.0,-1.195915001],[707.0,-1.629025681],[521.0,-1.491727945],[1061.0,-2.58091137],[155.0,-0.715623795],[417.0,-2.388102788],[203.0,-1.973513434],[36.0,1.10749399],[30.0,2.188377196],[13.0,1.75122976],[3.0,0.604844759],[232.0,-1.97878389],[109.0,-1.615417834],[113.0,-1.056241455],[251.0,-1.966879089],[5.0,0.159015344],[187.0,-1.280616778],[34.0,-0.751817087],[115.0,-2.317012215],[619.0,-1.7195528250000003],[293.0,-0.944937264],[73.0,0.652439702],[54.0,2.193879283],[176.0,0.628879202],[37.0,-0.259152383],[5.0,-0.148024138],[73.0,-1.202846037],[300.0,-1.107306411],[130.0,2.533604315],[253.0,2.345629818],[39.0,1.7735551899999997],[167.0,-0.154575246],[2.0,1.310370717],[75.0,1.345153093],[138.0,0.071582379],[268.0,-0.919601169],[210.0,-2.902406434],[1.0,2.033722312],[235.0,0.08404812],[1.0,1.442292723],[4.0,0.959445311],[9.0,1.309170978],[4.0,0.841846861],[20.0,0.847939015],[76.0,1.420095807],[57.0,0.038182195],[8.0,0.887711065],[1.0,0.927685451],[1.0,0.818436262],[8.0,0.135044823],[16.0,0.564135378],[124.0,-0.80625335],[24.0,-0.3310261],[657.0,-2.187153316],[45.0,-0.249614314],[518.0,-3.801976425],[718.0,-1.688415525],[4.0,-0.142501128],[829.0,-1.541899408],[20.0,1.09867048],[4.0,0.303046568],[306.0,-2.686825204],[696.0,-3.241302245],[527.0,-3.404441878],[247.0,-3.977491624],[47.0,-0.257323955],[112.0,-2.10180386],[36.0,-1.150793758],[25.0,-0.012350541999999999],[195.0,-0.813544394],[31.0,-2.884229228],[177.0,-3.8300251030000005],[268.0,-2.582170904],[58.0,1.414215238],[32.0,1.4698784],[168.0,-2.379632072],[241.0,-0.581042771],[38.0,1.425233507],[330.0,-0.503462483],[632.0,0.65402776],[649.0,-1.784646018],[224.0,-1.805615393],[241.0,-0.552906685],[186.0,-1.161971428],[168.0,0.852709224],[98.0,1.961488971],[11.0,1.413365394],[16.0,0.476831957],[7.0,-0.244041153],[73.0,0.524498892],[237.0,-0.39884669],[519.0,-2.072772307],[4.0,1.110569916],[869.0,-1.10180402],[12.0,0.8884374459999999],[996.0,-3.7564408790000003],[70.0,-1.521543695],[107.0,-1.121952542],[3.0,0.951084829],[1.0,0.951300358],[305.0,-1.288604215],[48.0,0.079732141],[5.0,-1.160246577],[14.0,-1.91391228],[31.0,-1.947637189],[3.0,-0.898481937],[13.0,-1.296245938],[2.0,-1.943585606],[127.0,-2.379813901],[32.0,-0.006871662],[25.0,0.436520491],[1.0,1.143217439],[13.0,-2.391876326],[11.0,-1.30653247],[1149.0,-1.042312512],[3.0,0.814490797],[185.0,-0.948967743],[110.0,-0.49392373],[35.0,1.035958563],[4.0,2.006345128],[8.0,2.499828592],[47.0,0.9673697800000001],[51.0,1.719463941],[1.0,1.896818692],[1.0,2.966380324],[29.0,2.580947695],[60.0,4.973167319],[202.0,0.40261293200000003],[46.0,2.50969228],[28.0,2.342400635],[21.0,3.693592854],[4.0,6.172476691],[3.0,4.848999812],[52.0,4.140439762],[43.0,1.9859999],[3.0,3.592154877],[2.0,3.901357529],[2.0,3.525737068],[1.0,3.322366529],[6.0,5.37018368],[1.0,3.274384714],[216.0,-0.138705677],[1.0,null],[1.0,null],[2.0,null]],\"hovertemplate\":\"Median Household Income=%{x:,.0f}\\u003cbr\\u003ePopulation Density=%{y:,.0f}\\u003cbr\\u003eNumber of Tows=%{customdata[0]}\\u003cbr\\u003eCommunity Equity Index=%{marker.color:.2f}\\u003cextra\\u003e\\u003c\\u002fextra\\u003e\",\"legendgroup\":\"\",\"marker\":{\"color\":[null,null,1.319964434,-0.309714186,-0.249687634,-0.192754569,1.091128786,-0.399157494,-0.102842209,0.597702203,-0.179010853,-0.159564832,-1.35568558,-0.972216662,0.922295872,2.147070796,0.739103031,1.140222933,0.364111835,-1.120029924,1.794599659,-1.5765942680000002,-0.9463167500000002,0.122762747,-3.5862623,-1.570882673,-0.04314458,-0.824263361,-2.101966193,-1.291164636,-4.278186244,0.100024888,-1.65517239,-1.195915001,-1.629025681,-1.491727945,-2.58091137,-0.715623795,-2.388102788,-1.973513434,1.10749399,2.188377196,1.75122976,0.604844759,-1.97878389,-1.615417834,-1.056241455,-1.966879089,0.159015344,-1.280616778,-0.751817087,-2.317012215,-1.7195528250000003,-0.944937264,0.652439702,2.193879283,0.628879202,-0.259152383,-0.148024138,-1.202846037,-1.107306411,2.533604315,2.345629818,1.7735551899999997,-0.154575246,1.310370717,1.345153093,0.071582379,-0.919601169,-2.902406434,2.033722312,0.08404812,1.442292723,0.959445311,1.309170978,0.841846861,0.847939015,1.420095807,0.038182195,0.887711065,0.927685451,0.818436262,0.135044823,0.564135378,-0.80625335,-0.3310261,-2.187153316,-0.249614314,-3.801976425,-1.688415525,-0.142501128,-1.541899408,1.09867048,0.303046568,-2.686825204,-3.241302245,-3.404441878,-3.977491624,-0.257323955,-2.10180386,-1.150793758,-0.012350541999999999,-0.813544394,-2.884229228,-3.8300251030000005,-2.582170904,1.414215238,1.4698784,-2.379632072,-0.581042771,1.425233507,-0.503462483,0.65402776,-1.784646018,-1.805615393,-0.552906685,-1.161971428,0.852709224,1.961488971,1.413365394,0.476831957,-0.244041153,0.524498892,-0.39884669,-2.072772307,1.110569916,-1.10180402,0.8884374459999999,-3.7564408790000003,-1.521543695,-1.121952542,0.951084829,0.951300358,-1.288604215,0.079732141,-1.160246577,-1.91391228,-1.947637189,-0.898481937,-1.296245938,-1.943585606,-2.379813901,-0.006871662,0.436520491,1.143217439,-2.391876326,-1.30653247,-1.042312512,0.814490797,-0.948967743,-0.49392373,1.035958563,2.006345128,2.499828592,0.9673697800000001,1.719463941,1.896818692,2.966380324,2.580947695,4.973167319,0.40261293200000003,2.50969228,2.342400635,3.693592854,6.172476691,4.848999812,4.140439762,1.9859999,3.592154877,3.901357529,3.525737068,3.322366529,5.37018368,3.274384714,-0.138705677,null,null,null],\"coloraxis\":\"coloraxis\",\"size\":[2,1,3,214,70,3,5,55,6,9,30,48,290,489,2,1,1,6,98,343,8,722,145,451,649,81,231,100,406,387,373,265,228,422,707,521,1061,155,417,203,36,30,13,3,232,109,113,251,5,187,34,115,619,293,73,54,176,37,5,73,300,130,253,39,167,2,75,138,268,210,1,235,1,4,9,4,20,76,57,8,1,1,8,16,124,24,657,45,518,718,4,829,20,4,306,696,527,247,47,112,36,25,195,31,177,268,58,32,168,241,38,330,632,649,224,241,186,168,98,11,16,7,73,237,519,4,869,12,996,70,107,3,1,305,48,5,14,31,3,13,2,127,32,25,1,13,11,1149,3,185,110,35,4,8,47,51,1,1,29,60,202,46,28,21,4,3,52,43,3,2,2,1,6,1,216,1,1,2],\"sizemode\":\"area\",\"sizeref\":0.4596,\"symbol\":\"circle\",\"line\":{\"color\":\"black\",\"width\":1}},\"mode\":\"markers\",\"name\":\"\",\"orientation\":\"v\",\"showlegend\":false,\"x\":[null,null,168717.0,116576.0,128063.0,109952.0,159523.0,124205.0,127750.0,164528.0,143713.0,121875.0,100847.0,94109.0,183409.0,250001.0,156548.0,189444.0,167292.0,82033.0,185303.0,84875.0,137000.0,112925.0,57067.0,98352.0,119356.0,142857.0,58813.0,95556.0,63646.0,147125.0,84923.0,90250.0,89253.0,107368.0,74940.0,108333.0,81312.0,73380.0,175857.0,211563.0,158846.0,153833.0,79554.0,95844.0,104701.0,95868.0,151756.0,85133.0,114444.0,99099.0,89321.0,101600.0,140096.0,209861.0,146346.0,109558.0,145735.0,115972.0,131150.0,217813.0,248100.0,234569.0,120764.0,188958.0,114483.0,105296.0,85925.0,68107.0,235285.0,175200.0,197328.0,163852.0,159228.0,147717.0,189500.0,169085.0,150200.0,160833.0,190685.0,155625.0,126750.0,196063.0,123578.0,111050.0,81803.0,111051.0,50000.0,90429.0,154104.0,103841.0,171419.0,133625.0,75409.0,58936.0,74688.0,66323.0,101959.0,59758.0,106216.0,103625.0,104375.0,73500.0,57321.0,80850.0,223250.0,187639.0,81214.0,97644.0,182566.0,88403.0,92368.0,83286.0,100469.0,110647.0,103824.0,129853.0,162000.0,156250.0,160833.0,171164.0,148982.0,134226.0,92083.0,192614.0,78073.0,151089.0,65307.0,94127.0,46087.0,77684.0,65760.0,106875.0,134643.0,119375.0,104500.0,97955.0,128036.0,120046.0,92727.0,86571.0,120268.0,118654.0,149524.0,116019.0,115364.0,90250.0,175417.0,108472.0,113542.0,143021.0,208000.0,245417.0,92167.0,190618.0,222841.0,250001.0,214762.0,250001.0,82207.0,143836.0,197112.0,232063.0,250001.0,250001.0,201705.0,190729.0,217778.0,247375.0,250001.0,250001.0,250001.0,250001.0,76216.0,null,null,null],\"xaxis\":\"x\",\"y\":[12.1528934126,2.449559357,5.911399224399999,8.522205679999999,6.625559016333334,0.2192942935,2.537215195666666,3.4750913345,2.536386972666667,2.5512618875,9.1117829202,13.358812968499999,13.966612988,22.607813156,2.213429805,0.852385811142857,6.119600284333333,2.4818497465,5.56067060675,19.43895732,7.746966233333333,6.824773519,11.2682005772,6.097449121333334,34.042741701333334,15.444920765,8.8617248585,13.08055777,33.49538561,25.753584728333333,18.58864424,11.890722006333334,13.527853037666667,12.257144291,12.275379850250001,14.0115104275,15.79380714525,18.1906185725,13.61936283,11.79278562,9.3412551635,14.467760879999998,12.735038968666666,8.318649969,7.179625875,14.161710400000002,11.029692865,22.477000876666665,7.671396378500001,14.53110449,25.33725970933333,4.522155869,13.0962783425,22.644123415,6.503976196833334,6.532243249166665,9.3188784125,5.6216581255,5.881162915833333,6.279002945705883,8.699459742916668,21.2394743035,4.7060599666666665,6.1636545455,7.968754865333333,2.3538127356666667,18.39130681,22.088343915,15.233274566666664,10.15973284,2.944739665,6.5628521095,9.575763344375,1.772976382,1.5084452985,7.19602801325,6.073148782,9.513905606,8.39239151,1.161959658,2.8089293623333336,3.706661928666667,2.0303719745,3.3720952606666668,7.54492453075,7.564763722799999,15.851411714749998,14.02215412,37.691793185,21.68070131,7.25314905625,23.42285417833333,4.569640870333333,4.447263068000001,38.69159448,19.97047058925,19.6700840088,26.57814710957143,18.454059845333333,22.841932105,13.706019763333336,10.0130393575,10.54611412885714,32.50366788666667,24.78840523333333,17.62386970642857,23.4528061258,8.1471423855,29.587108415,16.633702649333333,12.24686832,13.758783194,14.6879256182,25.07675234033333,22.7769749012,11.580128263333334,8.0869513796,22.59165606383333,7.114277635249999,4.190183148375,10.144222931153848,6.070947585333333,4.8283644098,7.305124281,27.1327690875,8.265259786249999,25.192200823333334,12.372943155000002,30.74695947,12.278304054,12.256664173666667,14.614923822499998,16.223008516666667,9.798226463333334,8.536248199,14.1320272775,13.807059474333334,13.907466195,11.771795015,12.839905463333334,21.731567865,19.6158763375,9.882220018,11.24551045,10.84876179,21.67393943,13.580668337499999,12.78971282,12.012978096666666,14.068299366000002,13.943614807,4.42055979425,10.23977975825,6.635598229,25.25162091,10.15048501625,7.788317077499999,10.443472722,8.041564729500001,4.793378803,28.459383176666663,20.1695086,10.27650488425,3.8222027174444446,3.8140095784,4.2470016415,8.044385579,9.81963651525,8.920992176666667,4.926360050666666,4.087888397,5.016401143,6.712640590666666,3.637380196,17.650887550666667,10.537955053875,12.765307812285714,0.2843545495],\"yaxis\":\"y\",\"type\":\"scatter\"}],                        {\"template\":{\"data\":{\"barpolar\":[{\"marker\":{\"line\":{\"color\":\"white\",\"width\":0.5},\"pattern\":{\"fillmode\":\"overlay\",\"size\":10,\"solidity\":0.2}},\"type\":\"barpolar\"}],\"bar\":[{\"error_x\":{\"color\":\"rgb(36,36,36)\"},\"error_y\":{\"color\":\"rgb(36,36,36)\"},\"marker\":{\"line\":{\"color\":\"white\",\"width\":0.5},\"pattern\":{\"fillmode\":\"overlay\",\"size\":10,\"solidity\":0.2}},\"type\":\"bar\"}],\"carpet\":[{\"aaxis\":{\"endlinecolor\":\"rgb(36,36,36)\",\"gridcolor\":\"white\",\"linecolor\":\"white\",\"minorgridcolor\":\"white\",\"startlinecolor\":\"rgb(36,36,36)\"},\"baxis\":{\"endlinecolor\":\"rgb(36,36,36)\",\"gridcolor\":\"white\",\"linecolor\":\"white\",\"minorgridcolor\":\"white\",\"startlinecolor\":\"rgb(36,36,36)\"},\"type\":\"carpet\"}],\"choropleth\":[{\"colorbar\":{\"outlinewidth\":1,\"tickcolor\":\"rgb(36,36,36)\",\"ticks\":\"outside\"},\"type\":\"choropleth\"}],\"contourcarpet\":[{\"colorbar\":{\"outlinewidth\":1,\"tickcolor\":\"rgb(36,36,36)\",\"ticks\":\"outside\"},\"type\":\"contourcarpet\"}],\"contour\":[{\"colorbar\":{\"outlinewidth\":1,\"tickcolor\":\"rgb(36,36,36)\",\"ticks\":\"outside\"},\"colorscale\":[[0.0,\"#440154\"],[0.1111111111111111,\"#482878\"],[0.2222222222222222,\"#3e4989\"],[0.3333333333333333,\"#31688e\"],[0.4444444444444444,\"#26828e\"],[0.5555555555555556,\"#1f9e89\"],[0.6666666666666666,\"#35b779\"],[0.7777777777777778,\"#6ece58\"],[0.8888888888888888,\"#b5de2b\"],[1.0,\"#fde725\"]],\"type\":\"contour\"}],\"heatmapgl\":[{\"colorbar\":{\"outlinewidth\":1,\"tickcolor\":\"rgb(36,36,36)\",\"ticks\":\"outside\"},\"colorscale\":[[0.0,\"#440154\"],[0.1111111111111111,\"#482878\"],[0.2222222222222222,\"#3e4989\"],[0.3333333333333333,\"#31688e\"],[0.4444444444444444,\"#26828e\"],[0.5555555555555556,\"#1f9e89\"],[0.6666666666666666,\"#35b779\"],[0.7777777777777778,\"#6ece58\"],[0.8888888888888888,\"#b5de2b\"],[1.0,\"#fde725\"]],\"type\":\"heatmapgl\"}],\"heatmap\":[{\"colorbar\":{\"outlinewidth\":1,\"tickcolor\":\"rgb(36,36,36)\",\"ticks\":\"outside\"},\"colorscale\":[[0.0,\"#440154\"],[0.1111111111111111,\"#482878\"],[0.2222222222222222,\"#3e4989\"],[0.3333333333333333,\"#31688e\"],[0.4444444444444444,\"#26828e\"],[0.5555555555555556,\"#1f9e89\"],[0.6666666666666666,\"#35b779\"],[0.7777777777777778,\"#6ece58\"],[0.8888888888888888,\"#b5de2b\"],[1.0,\"#fde725\"]],\"type\":\"heatmap\"}],\"histogram2dcontour\":[{\"colorbar\":{\"outlinewidth\":1,\"tickcolor\":\"rgb(36,36,36)\",\"ticks\":\"outside\"},\"colorscale\":[[0.0,\"#440154\"],[0.1111111111111111,\"#482878\"],[0.2222222222222222,\"#3e4989\"],[0.3333333333333333,\"#31688e\"],[0.4444444444444444,\"#26828e\"],[0.5555555555555556,\"#1f9e89\"],[0.6666666666666666,\"#35b779\"],[0.7777777777777778,\"#6ece58\"],[0.8888888888888888,\"#b5de2b\"],[1.0,\"#fde725\"]],\"type\":\"histogram2dcontour\"}],\"histogram2d\":[{\"colorbar\":{\"outlinewidth\":1,\"tickcolor\":\"rgb(36,36,36)\",\"ticks\":\"outside\"},\"colorscale\":[[0.0,\"#440154\"],[0.1111111111111111,\"#482878\"],[0.2222222222222222,\"#3e4989\"],[0.3333333333333333,\"#31688e\"],[0.4444444444444444,\"#26828e\"],[0.5555555555555556,\"#1f9e89\"],[0.6666666666666666,\"#35b779\"],[0.7777777777777778,\"#6ece58\"],[0.8888888888888888,\"#b5de2b\"],[1.0,\"#fde725\"]],\"type\":\"histogram2d\"}],\"histogram\":[{\"marker\":{\"line\":{\"color\":\"white\",\"width\":0.6}},\"type\":\"histogram\"}],\"mesh3d\":[{\"colorbar\":{\"outlinewidth\":1,\"tickcolor\":\"rgb(36,36,36)\",\"ticks\":\"outside\"},\"type\":\"mesh3d\"}],\"parcoords\":[{\"line\":{\"colorbar\":{\"outlinewidth\":1,\"tickcolor\":\"rgb(36,36,36)\",\"ticks\":\"outside\"}},\"type\":\"parcoords\"}],\"pie\":[{\"automargin\":true,\"type\":\"pie\"}],\"scatter3d\":[{\"line\":{\"colorbar\":{\"outlinewidth\":1,\"tickcolor\":\"rgb(36,36,36)\",\"ticks\":\"outside\"}},\"marker\":{\"colorbar\":{\"outlinewidth\":1,\"tickcolor\":\"rgb(36,36,36)\",\"ticks\":\"outside\"}},\"type\":\"scatter3d\"}],\"scattercarpet\":[{\"marker\":{\"colorbar\":{\"outlinewidth\":1,\"tickcolor\":\"rgb(36,36,36)\",\"ticks\":\"outside\"}},\"type\":\"scattercarpet\"}],\"scattergeo\":[{\"marker\":{\"colorbar\":{\"outlinewidth\":1,\"tickcolor\":\"rgb(36,36,36)\",\"ticks\":\"outside\"}},\"type\":\"scattergeo\"}],\"scattergl\":[{\"marker\":{\"colorbar\":{\"outlinewidth\":1,\"tickcolor\":\"rgb(36,36,36)\",\"ticks\":\"outside\"}},\"type\":\"scattergl\"}],\"scattermapbox\":[{\"marker\":{\"colorbar\":{\"outlinewidth\":1,\"tickcolor\":\"rgb(36,36,36)\",\"ticks\":\"outside\"}},\"type\":\"scattermapbox\"}],\"scatterpolargl\":[{\"marker\":{\"colorbar\":{\"outlinewidth\":1,\"tickcolor\":\"rgb(36,36,36)\",\"ticks\":\"outside\"}},\"type\":\"scatterpolargl\"}],\"scatterpolar\":[{\"marker\":{\"colorbar\":{\"outlinewidth\":1,\"tickcolor\":\"rgb(36,36,36)\",\"ticks\":\"outside\"}},\"type\":\"scatterpolar\"}],\"scatter\":[{\"fillpattern\":{\"fillmode\":\"overlay\",\"size\":10,\"solidity\":0.2},\"type\":\"scatter\"}],\"scatterternary\":[{\"marker\":{\"colorbar\":{\"outlinewidth\":1,\"tickcolor\":\"rgb(36,36,36)\",\"ticks\":\"outside\"}},\"type\":\"scatterternary\"}],\"surface\":[{\"colorbar\":{\"outlinewidth\":1,\"tickcolor\":\"rgb(36,36,36)\",\"ticks\":\"outside\"},\"colorscale\":[[0.0,\"#440154\"],[0.1111111111111111,\"#482878\"],[0.2222222222222222,\"#3e4989\"],[0.3333333333333333,\"#31688e\"],[0.4444444444444444,\"#26828e\"],[0.5555555555555556,\"#1f9e89\"],[0.6666666666666666,\"#35b779\"],[0.7777777777777778,\"#6ece58\"],[0.8888888888888888,\"#b5de2b\"],[1.0,\"#fde725\"]],\"type\":\"surface\"}],\"table\":[{\"cells\":{\"fill\":{\"color\":\"rgb(237,237,237)\"},\"line\":{\"color\":\"white\"}},\"header\":{\"fill\":{\"color\":\"rgb(217,217,217)\"},\"line\":{\"color\":\"white\"}},\"type\":\"table\"}]},\"layout\":{\"annotationdefaults\":{\"arrowhead\":0,\"arrowwidth\":1},\"autotypenumbers\":\"strict\",\"coloraxis\":{\"colorbar\":{\"outlinewidth\":1,\"tickcolor\":\"rgb(36,36,36)\",\"ticks\":\"outside\"}},\"colorscale\":{\"diverging\":[[0.0,\"rgb(103,0,31)\"],[0.1,\"rgb(178,24,43)\"],[0.2,\"rgb(214,96,77)\"],[0.3,\"rgb(244,165,130)\"],[0.4,\"rgb(253,219,199)\"],[0.5,\"rgb(247,247,247)\"],[0.6,\"rgb(209,229,240)\"],[0.7,\"rgb(146,197,222)\"],[0.8,\"rgb(67,147,195)\"],[0.9,\"rgb(33,102,172)\"],[1.0,\"rgb(5,48,97)\"]],\"sequential\":[[0.0,\"#440154\"],[0.1111111111111111,\"#482878\"],[0.2222222222222222,\"#3e4989\"],[0.3333333333333333,\"#31688e\"],[0.4444444444444444,\"#26828e\"],[0.5555555555555556,\"#1f9e89\"],[0.6666666666666666,\"#35b779\"],[0.7777777777777778,\"#6ece58\"],[0.8888888888888888,\"#b5de2b\"],[1.0,\"#fde725\"]],\"sequentialminus\":[[0.0,\"#440154\"],[0.1111111111111111,\"#482878\"],[0.2222222222222222,\"#3e4989\"],[0.3333333333333333,\"#31688e\"],[0.4444444444444444,\"#26828e\"],[0.5555555555555556,\"#1f9e89\"],[0.6666666666666666,\"#35b779\"],[0.7777777777777778,\"#6ece58\"],[0.8888888888888888,\"#b5de2b\"],[1.0,\"#fde725\"]]},\"colorway\":[\"#1F77B4\",\"#FF7F0E\",\"#2CA02C\",\"#D62728\",\"#9467BD\",\"#8C564B\",\"#E377C2\",\"#7F7F7F\",\"#BCBD22\",\"#17BECF\"],\"font\":{\"color\":\"rgb(36,36,36)\"},\"geo\":{\"bgcolor\":\"white\",\"lakecolor\":\"white\",\"landcolor\":\"white\",\"showlakes\":true,\"showland\":true,\"subunitcolor\":\"white\"},\"hoverlabel\":{\"align\":\"left\"},\"hovermode\":\"closest\",\"mapbox\":{\"style\":\"light\"},\"paper_bgcolor\":\"white\",\"plot_bgcolor\":\"white\",\"polar\":{\"angularaxis\":{\"gridcolor\":\"rgb(232,232,232)\",\"linecolor\":\"rgb(36,36,36)\",\"showgrid\":false,\"showline\":true,\"ticks\":\"outside\"},\"bgcolor\":\"white\",\"radialaxis\":{\"gridcolor\":\"rgb(232,232,232)\",\"linecolor\":\"rgb(36,36,36)\",\"showgrid\":false,\"showline\":true,\"ticks\":\"outside\"}},\"scene\":{\"xaxis\":{\"backgroundcolor\":\"white\",\"gridcolor\":\"rgb(232,232,232)\",\"gridwidth\":2,\"linecolor\":\"rgb(36,36,36)\",\"showbackground\":true,\"showgrid\":false,\"showline\":true,\"ticks\":\"outside\",\"zeroline\":false,\"zerolinecolor\":\"rgb(36,36,36)\"},\"yaxis\":{\"backgroundcolor\":\"white\",\"gridcolor\":\"rgb(232,232,232)\",\"gridwidth\":2,\"linecolor\":\"rgb(36,36,36)\",\"showbackground\":true,\"showgrid\":false,\"showline\":true,\"ticks\":\"outside\",\"zeroline\":false,\"zerolinecolor\":\"rgb(36,36,36)\"},\"zaxis\":{\"backgroundcolor\":\"white\",\"gridcolor\":\"rgb(232,232,232)\",\"gridwidth\":2,\"linecolor\":\"rgb(36,36,36)\",\"showbackground\":true,\"showgrid\":false,\"showline\":true,\"ticks\":\"outside\",\"zeroline\":false,\"zerolinecolor\":\"rgb(36,36,36)\"}},\"shapedefaults\":{\"fillcolor\":\"black\",\"line\":{\"width\":0},\"opacity\":0.3},\"ternary\":{\"aaxis\":{\"gridcolor\":\"rgb(232,232,232)\",\"linecolor\":\"rgb(36,36,36)\",\"showgrid\":false,\"showline\":true,\"ticks\":\"outside\"},\"baxis\":{\"gridcolor\":\"rgb(232,232,232)\",\"linecolor\":\"rgb(36,36,36)\",\"showgrid\":false,\"showline\":true,\"ticks\":\"outside\"},\"bgcolor\":\"white\",\"caxis\":{\"gridcolor\":\"rgb(232,232,232)\",\"linecolor\":\"rgb(36,36,36)\",\"showgrid\":false,\"showline\":true,\"ticks\":\"outside\"}},\"title\":{\"x\":0.05},\"xaxis\":{\"automargin\":true,\"gridcolor\":\"rgb(232,232,232)\",\"linecolor\":\"rgb(36,36,36)\",\"showgrid\":false,\"showline\":true,\"ticks\":\"outside\",\"title\":{\"standoff\":15},\"zeroline\":false,\"zerolinecolor\":\"rgb(36,36,36)\"},\"yaxis\":{\"automargin\":true,\"gridcolor\":\"rgb(232,232,232)\",\"linecolor\":\"rgb(36,36,36)\",\"showgrid\":false,\"showline\":true,\"ticks\":\"outside\",\"title\":{\"standoff\":15},\"zeroline\":false,\"zerolinecolor\":\"rgb(36,36,36)\"}}},\"xaxis\":{\"anchor\":\"y\",\"domain\":[0.0,1.0],\"title\":{\"text\":\"Median Household Income\"}},\"yaxis\":{\"anchor\":\"x\",\"domain\":[0.0,1.0],\"title\":{\"text\":\"Population Density\"}},\"coloraxis\":{\"colorbar\":{\"title\":{\"text\":\"CEI\"}},\"colorscale\":[[0.0,\"rgb(165,0,38)\"],[0.1,\"rgb(215,48,39)\"],[0.2,\"rgb(244,109,67)\"],[0.3,\"rgb(253,174,97)\"],[0.4,\"rgb(254,224,144)\"],[0.5,\"rgb(255,255,191)\"],[0.6,\"rgb(224,243,248)\"],[0.7,\"rgb(171,217,233)\"],[0.8,\"rgb(116,173,209)\"],[0.9,\"rgb(69,117,180)\"],[1.0,\"rgb(49,54,149)\"]]},\"legend\":{\"tracegroupgap\":0,\"itemsizing\":\"constant\"},\"title\":{\"text\":\"Income vs Population Density with Number of Towing Incidents\",\"font\":{\"size\":18}},\"plot_bgcolor\":\"white\",\"width\":850,\"height\":550},                        {\"responsive\": true}                    ).then(function(){\n",
              "                            \n",
              "var gd = document.getElementById('c585a3ab-5b16-4428-8255-ce1c1c5cba19');\n",
              "var x = new MutationObserver(function (mutations, observer) {{\n",
              "        var display = window.getComputedStyle(gd).display;\n",
              "        if (!display || display === 'none') {{\n",
              "            console.log([gd, 'removed!']);\n",
              "            Plotly.purge(gd);\n",
              "            observer.disconnect();\n",
              "        }}\n",
              "}});\n",
              "\n",
              "// Listen for the removal of the full notebook cells\n",
              "var notebookContainer = gd.closest('#notebook-container');\n",
              "if (notebookContainer) {{\n",
              "    x.observe(notebookContainer, {childList: true});\n",
              "}}\n",
              "\n",
              "// Listen for the clearing of the current output cell\n",
              "var outputEl = gd.closest('.output');\n",
              "if (outputEl) {{\n",
              "    x.observe(outputEl, {childList: true});\n",
              "}}\n",
              "\n",
              "                        })                };                            </script>        </div>\n",
              "</body>\n",
              "</html>"
            ]
          },
          "metadata": {}
        }
      ],
      "source": [
        "# Remove outliers using the Interquartile Range (IQR) method\n",
        "def remove_outliers(df, column):\n",
        "    Q1 = df[column].quantile(0.25)\n",
        "    Q3 = df[column].quantile(0.75)\n",
        "    IQR = Q3 - Q1\n",
        "    return df[(df[column] >= (Q1 - 1.5 * IQR)) & (df[column] <= (Q3 + 1.5 * IQR))]\n",
        "\n",
        "# Remove outliers from Population Density and Resident Density only\n",
        "df_cleaned = remove_outliers(tows, 'pop_density')\n",
        "df_cleaned = remove_outliers(tows, 'resident_density')\n",
        "\n",
        "# Group the data by 'TractFIPS' to aggregate the number of tows per tract\n",
        "grouped_data = df_cleaned.groupby('TractFIPS').agg({\n",
        "    'median_household_income': 'mean',   # Mean income for each tract\n",
        "    'pop_density': 'mean',               # Mean population density for each tract\n",
        "    'cei':'mean',\n",
        "    'geoid': 'count'                # Number of tows in each tract, assuming 'Unnamed: 0' is a unique identifier\n",
        "}).reset_index()\n",
        "\n",
        "# Rename columns for better understanding\n",
        "grouped_data.rename(columns={'geoid': 'number_of_tows'}, inplace=True)\n",
        "\n",
        "\n",
        "fig = px.scatter(grouped_data,\n",
        "    x='median_household_income',\n",
        "    y='pop_density',\n",
        "    size='number_of_tows',\n",
        "    color='cei',\n",
        "    color_continuous_scale='RdYlBu',\n",
        "    size_max=50,  # Maximum bubble size\n",
        "    hover_data={\n",
        "        'median_household_income': ':,.0f',\n",
        "        'pop_density': ':,.0f',\n",
        "        'number_of_tows': True,\n",
        "        'cei': ':.2f'\n",
        "    },\n",
        "    template='simple_white',\n",
        "    title='Income vs Population Density with Number of Towing Incidents',\n",
        "    labels={\n",
        "        'median_household_income': 'Median Household Income',\n",
        "        'pop_density': 'Population Density',\n",
        "        'number_of_tows': 'Number of Tows',\n",
        "        'cei': 'Community Equity Index'\n",
        "    }\n",
        ")\n",
        "\n",
        "# Update layout for better visualization\n",
        "fig.update_layout(\n",
        "    plot_bgcolor='white',\n",
        "    width=850,\n",
        "    height=550,\n",
        "    coloraxis_colorbar_title='CEI',\n",
        "    title_font_size=18\n",
        ")\n",
        "\n",
        "fig.update_traces(marker=dict(line=dict(color='black', width=1)))\n",
        "\n",
        "# Show the plot\n",
        "fig.show()\n"
      ]
    }
  ],
  "metadata": {
    "kernelspec": {
      "display_name": "Python 3",
      "language": "python",
      "name": "python3"
    },
    "language_info": {
      "codemirror_mode": {
        "name": "ipython",
        "version": 3
      },
      "file_extension": ".py",
      "mimetype": "text/x-python",
      "name": "python",
      "nbconvert_exporter": "python",
      "pygments_lexer": "ipython3",
      "version": "3.11.9"
    },
    "colab": {
      "provenance": [],
      "include_colab_link": true
    }
  },
  "nbformat": 4,
  "nbformat_minor": 0
}